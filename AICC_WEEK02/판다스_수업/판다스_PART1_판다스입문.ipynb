{
 "cells": [
  {
   "attachments": {},
   "cell_type": "markdown",
   "id": "833de7a2",
   "metadata": {},
   "source": [
    "# Part 1. 판다스 입문"
   ]
  },
  {
   "attachments": {},
   "cell_type": "markdown",
   "id": "3556929e",
   "metadata": {},
   "source": [
    "## 2. 판다스 자료구조"
   ]
  },
  {
   "cell_type": "markdown",
   "id": "4db2738a",
   "metadata": {},
   "source": [
    "### 2-1. 시리즈 "
   ]
  },
  {
   "cell_type": "code",
   "execution_count": null,
   "id": "39b7a53a",
   "metadata": {},
   "outputs": [],
   "source": [
    "# pandas 불러오기 \n",
    "import pandas as pd"
   ]
  },
  {
   "cell_type": "code",
   "execution_count": null,
   "id": "d313cc51",
   "metadata": {},
   "outputs": [],
   "source": [
    "# k:v 구조를 갖는 딕셔너리를 만들고, 변수 dict_data에 저장\n",
    "dict_data = {'a': 1, 'b': 2, 'c': 3}"
   ]
  },
  {
   "cell_type": "code",
   "execution_count": null,
   "id": "a4aaac3d",
   "metadata": {},
   "outputs": [],
   "source": [
    "dict_data"
   ]
  },
  {
   "cell_type": "code",
   "execution_count": null,
   "id": "2373ecfd",
   "metadata": {},
   "outputs": [],
   "source": [
    "# 판다스 Series() 함수로 딕셔너리(dict_data)를 시리즈로 변환. 변수 sr에 저장 \n",
    "sr = pd.Series(dict_data)"
   ]
  },
  {
   "cell_type": "code",
   "execution_count": null,
   "id": "d3daa248",
   "metadata": {},
   "outputs": [],
   "source": [
    "sr"
   ]
  },
  {
   "cell_type": "code",
   "execution_count": null,
   "id": "dd800275",
   "metadata": {},
   "outputs": [],
   "source": [
    "# 변수 sr의 자료형 출력\n",
    "print(type(sr))\n",
    "sr"
   ]
  },
  {
   "cell_type": "code",
   "execution_count": null,
   "id": "2fe3d64a",
   "metadata": {},
   "outputs": [],
   "source": [
    "# 리스트를 시리즈로 변환하여 변수 sr에 저장\n",
    "list_data = ['2019-01-02', 3.14, 'ABC', 100, True]\n",
    "sr = pd.Series(list_data)\n",
    "print(sr)\n",
    "print('\\n')"
   ]
  },
  {
   "cell_type": "code",
   "execution_count": null,
   "id": "fce0d0ac",
   "metadata": {},
   "outputs": [],
   "source": [
    "# 인덱스 배열은 변수 idx에 저장. 데이터 값 배열은 변수 val에 저장\n",
    "idx = sr.index\n",
    "val = sr.values\n",
    "idx"
   ]
  },
  {
   "cell_type": "code",
   "execution_count": null,
   "id": "902ebd7b",
   "metadata": {},
   "outputs": [],
   "source": [
    "# 인덱스 배열은 변수 idx에 저장. 데이터 값 배열은 변수 val에 저장\n",
    "idx = sr.index\n",
    "val = sr.values\n",
    "idx"
   ]
  },
  {
   "cell_type": "code",
   "execution_count": null,
   "id": "a67d3dcc",
   "metadata": {},
   "outputs": [],
   "source": [
    "val"
   ]
  },
  {
   "cell_type": "code",
   "execution_count": null,
   "id": "02816a26",
   "metadata": {},
   "outputs": [],
   "source": [
    "# 투플을 시리즈로 변환(index 옵션에 인덱스 이름을 지정)\n",
    "tup_data = ('영인', '2010-05-01', '여', True)\n",
    "sr = pd.Series(tup_data, index=['이름', '생년월일', '성별', '학생여부'])\n",
    "sr"
   ]
  },
  {
   "cell_type": "code",
   "execution_count": null,
   "id": "5f3b38bc",
   "metadata": {},
   "outputs": [],
   "source": [
    "# 원소를 1개 선택\n",
    "print(sr[0])       # sr의 1 번째 원소를 선택 (정수형 위치 인덱스를 활용)\n",
    "print(sr['이름'])  # '이름' 라벨을 가진 원소를 선택 (인덱스 이름을 활용)\n",
    "print('\\n')"
   ]
  },
  {
   "cell_type": "code",
   "execution_count": null,
   "id": "887867eb",
   "metadata": {},
   "outputs": [],
   "source": [
    "# 여러 개의 원소를 선택 (인덱스 리스트 활용)\n",
    "print(sr[[1, 2]]) \n",
    "print('\\n')           \n",
    "print(sr[['생년월일', '성별']])\n",
    "print('\\n')"
   ]
  },
  {
   "cell_type": "code",
   "execution_count": null,
   "id": "79fa31a2",
   "metadata": {},
   "outputs": [],
   "source": [
    "# 여러 개의 원소를 선택 (인덱스 범위 지정)\n",
    "print(sr[1 : 2])  \n",
    "print('\\n')              \n",
    "print(sr['생년월일' : '성별'])"
   ]
  },
  {
   "cell_type": "code",
   "execution_count": null,
   "id": "3fa0784c",
   "metadata": {},
   "outputs": [],
   "source": []
  },
  {
   "cell_type": "markdown",
   "id": "3fb1a164",
   "metadata": {},
   "source": [
    "### 2-2. 데이터프레임"
   ]
  },
  {
   "cell_type": "code",
   "execution_count": null,
   "id": "3907b426",
   "metadata": {},
   "outputs": [],
   "source": [
    "# 열이름을 key로 하고, 리스트를 value로 갖는 딕셔너리 정의(2차원 배열)\n",
    "dict_data = {'c0':[1,2,3], 'c1':[4,5,6], 'c2':[7,8,9], 'c3':[10,11,12], 'c4':[13,14,15]}"
   ]
  },
  {
   "cell_type": "code",
   "execution_count": null,
   "id": "680756af",
   "metadata": {},
   "outputs": [],
   "source": [
    "dict_data"
   ]
  },
  {
   "cell_type": "code",
   "execution_count": null,
   "id": "16e041dc",
   "metadata": {},
   "outputs": [],
   "source": [
    "# 판다스 DataFrame() 함수로 딕셔너리를 데이터프레임으로 변환. 변수 df에 저장. \n",
    "df = pd.DataFrame(dict_data)"
   ]
  },
  {
   "cell_type": "code",
   "execution_count": null,
   "id": "731c162c",
   "metadata": {},
   "outputs": [],
   "source": [
    "df"
   ]
  },
  {
   "cell_type": "code",
   "execution_count": null,
   "id": "9a216dd4",
   "metadata": {},
   "outputs": [],
   "source": [
    "# df의 자료형 출력\n",
    "print(type(df))"
   ]
  },
  {
   "cell_type": "code",
   "execution_count": null,
   "id": "53741ae0",
   "metadata": {},
   "outputs": [],
   "source": [
    "# 변수 df에 저장되어 있는 데이터프레임 객체를 출력\n",
    "df"
   ]
  },
  {
   "cell_type": "code",
   "execution_count": null,
   "id": "b7abb379",
   "metadata": {},
   "outputs": [],
   "source": [
    "df.columns.name = 'temp'"
   ]
  },
  {
   "cell_type": "code",
   "execution_count": null,
   "id": "a07a3919",
   "metadata": {},
   "outputs": [],
   "source": [
    "df.columns"
   ]
  },
  {
   "cell_type": "code",
   "execution_count": null,
   "id": "414fd4e5",
   "metadata": {},
   "outputs": [],
   "source": [
    "# 행 인덱스/열 이름 지정하여, 데이터프레임 만들기\n",
    "df = pd.DataFrame([[15, '남', '덕영중'], [17, '여', '수리중']], \n",
    "                   index=['준서', '예은'],\n",
    "                   columns=['나이', '성별', '학교'])"
   ]
  },
  {
   "cell_type": "code",
   "execution_count": null,
   "id": "842d2f76",
   "metadata": {},
   "outputs": [],
   "source": [
    "df#['학교']"
   ]
  },
  {
   "cell_type": "code",
   "execution_count": null,
   "id": "16eef6fc",
   "metadata": {},
   "outputs": [],
   "source": [
    "df.index"
   ]
  },
  {
   "cell_type": "code",
   "execution_count": null,
   "id": "f498f654",
   "metadata": {},
   "outputs": [],
   "source": [
    "df.columns"
   ]
  },
  {
   "cell_type": "code",
   "execution_count": null,
   "id": "c8e91423",
   "metadata": {},
   "outputs": [],
   "source": [
    "# 행 인덱스, 열 이름 변경하기\n",
    "df.index = ['학생1', '학생2']"
   ]
  },
  {
   "cell_type": "code",
   "execution_count": null,
   "id": "e37cd546",
   "metadata": {},
   "outputs": [],
   "source": [
    "df.index"
   ]
  },
  {
   "cell_type": "code",
   "execution_count": null,
   "id": "21ece02c",
   "metadata": {},
   "outputs": [],
   "source": [
    "df.columns = ['연령', '남녀', '소속']"
   ]
  },
  {
   "cell_type": "code",
   "execution_count": null,
   "id": "ec0955c9",
   "metadata": {},
   "outputs": [],
   "source": [
    "df.columns"
   ]
  },
  {
   "cell_type": "code",
   "execution_count": null,
   "id": "4f2d8014",
   "metadata": {},
   "outputs": [],
   "source": [
    "df"
   ]
  },
  {
   "cell_type": "code",
   "execution_count": null,
   "id": "1d119b78",
   "metadata": {},
   "outputs": [],
   "source": [
    "# 행 인덱스/열 이름 지정하여, 데이터프레임 만들기\n",
    "df = pd.DataFrame([[15, '남', '덕영중'], [17, '여', '수리중']], \n",
    "                   index=['준서', '예은'],\n",
    "                   columns=['나이', '성별', '학교'])"
   ]
  },
  {
   "cell_type": "code",
   "execution_count": null,
   "id": "41b76158",
   "metadata": {},
   "outputs": [],
   "source": [
    "df"
   ]
  },
  {
   "cell_type": "code",
   "execution_count": null,
   "id": "f196a4f9",
   "metadata": {},
   "outputs": [],
   "source": [
    "# 열 이름 중, '나이'를 '연령'으로, '성별'을 '남녀'로, '학교'를 '소속'으로 바꾸기\n",
    "df.rename(columns={'나이':'연령', '성별':'남녀', '학교':'소속'}, inplace=True)\n",
    "# df = df.rename(columns={'나이':'연령', '성별':'남녀', '학교':'소속'}) "
   ]
  },
  {
   "cell_type": "code",
   "execution_count": null,
   "id": "b82502f8",
   "metadata": {},
   "outputs": [],
   "source": [
    "df"
   ]
  },
  {
   "cell_type": "code",
   "execution_count": null,
   "id": "6c44ebbc",
   "metadata": {},
   "outputs": [],
   "source": [
    "# df의 행 인덱스 중에서, '준서'를 '학생1'로, '예은'을 '학생2'로 바꾸기\n",
    "df.rename(index={'준서':'학생1', '예은':'학생2' }, inplace=True)"
   ]
  },
  {
   "cell_type": "code",
   "execution_count": null,
   "id": "890912d6",
   "metadata": {},
   "outputs": [],
   "source": [
    "df"
   ]
  },
  {
   "cell_type": "code",
   "execution_count": null,
   "id": "1450d8a8",
   "metadata": {},
   "outputs": [],
   "source": [
    "# DataFrame() 함수로 데이터프레임 변환. 변수 df에 저장 \n",
    "exam_data = {'수학' : [ 90, 80, 70], '영어' : [ 98, 89, 95],\n",
    "             '음악' : [ 85, 95, 100], '체육' : [ 100, 90, 90]}"
   ]
  },
  {
   "cell_type": "code",
   "execution_count": null,
   "id": "03232611",
   "metadata": {},
   "outputs": [],
   "source": [
    "df = pd.DataFrame(exam_data, index=['서준', '우현', '인아'])\n",
    "df"
   ]
  },
  {
   "cell_type": "code",
   "execution_count": null,
   "id": "00b7f0f3",
   "metadata": {},
   "outputs": [],
   "source": [
    "# 데이터프레임 df를 복제하여 변수 df2에 저장. df2의 1개 행(row)을 삭제\n",
    "df2 = df[:]\n",
    "df2.drop('우현', inplace=True)"
   ]
  },
  {
   "cell_type": "code",
   "execution_count": null,
   "id": "83260c0e",
   "metadata": {},
   "outputs": [],
   "source": [
    "df2"
   ]
  },
  {
   "cell_type": "code",
   "execution_count": null,
   "id": "29ececd7",
   "metadata": {},
   "outputs": [],
   "source": [
    "df"
   ]
  },
  {
   "cell_type": "code",
   "execution_count": null,
   "id": "6f25479e",
   "metadata": {},
   "outputs": [],
   "source": [
    "# 데이터프레임 df를 복제하여 변수 df3에 저장. df3의 2개 행(row)을 삭제\n",
    "df3 = df\n",
    "df3.drop(['우현', '인아'], axis=0, inplace=True)\n",
    "df3"
   ]
  },
  {
   "cell_type": "code",
   "execution_count": null,
   "id": "fb7ab283",
   "metadata": {},
   "outputs": [],
   "source": [
    "# DataFrame() 함수로 데이터프레임 변환. 변수 df에 저장 \n",
    "exam_data = {'수학' : [ 90, 80, 70], '영어' : [ 98, 89, 95],\n",
    "             '음악' : [ 85, 95, 100], '체육' : [ 100, 90, 90]}"
   ]
  },
  {
   "cell_type": "code",
   "execution_count": null,
   "id": "f6019c44",
   "metadata": {},
   "outputs": [],
   "source": [
    "df = pd.DataFrame(exam_data, index=['서준', '우현', '인아'])\n",
    "df"
   ]
  },
  {
   "cell_type": "code",
   "execution_count": null,
   "id": "ff02c977",
   "metadata": {},
   "outputs": [],
   "source": [
    "# 데이터프레임 df를 복제하여 변수 df4에 저장. df4의 1개 열(column)을 삭제\n",
    "df4 = df.copy()\n",
    "df4.drop('수학', axis=1, inplace=True)\n",
    "df4"
   ]
  },
  {
   "cell_type": "code",
   "execution_count": null,
   "id": "da8c074e",
   "metadata": {},
   "outputs": [],
   "source": [
    "# 데이터프레임 df를 복제하여 변수 df5에 저장. df5의 2개 열(column)을 삭제\n",
    "df5 = df.copy()\n",
    "df5.drop(['영어', '음악'], axis=1, inplace=True)\n",
    "print(df5)"
   ]
  },
  {
   "cell_type": "code",
   "execution_count": null,
   "id": "52a4ede4",
   "metadata": {},
   "outputs": [],
   "source": []
  },
  {
   "cell_type": "markdown",
   "id": "ab2bbf0c",
   "metadata": {},
   "source": [
    "!!! 행 / 열 선택 (중요) !!!"
   ]
  },
  {
   "cell_type": "code",
   "execution_count": null,
   "id": "e93338f1",
   "metadata": {},
   "outputs": [],
   "source": [
    "# DataFrame() 함수로 데이터프레임 변환. 변수 df에 저장 \n",
    "exam_data = {'수학' : [ 90, 80, 70], '영어' : [ 98, 89, 95],\n",
    "             '음악' : [ 85, 95, 100], '체육' : [ 100, 90, 90]}"
   ]
  },
  {
   "cell_type": "code",
   "execution_count": null,
   "id": "a6e598fa",
   "metadata": {},
   "outputs": [],
   "source": [
    "df = pd.DataFrame(exam_data, index=['서준', '우현', '인아'])\n",
    "df"
   ]
  },
  {
   "cell_type": "code",
   "execution_count": null,
   "id": "cb46f489",
   "metadata": {},
   "outputs": [],
   "source": [
    "# 행 인덱스를 사용하여 행 1개를 선택\n",
    "label1 = df.loc['서준']    # loc 인덱서 활용\n",
    "label1"
   ]
  },
  {
   "cell_type": "code",
   "execution_count": null,
   "id": "f49d1873",
   "metadata": {},
   "outputs": [],
   "source": [
    "position1 = df.iloc[0]     # iloc 인덱서 활용\n",
    "position1"
   ]
  },
  {
   "cell_type": "code",
   "execution_count": null,
   "id": "3c4d3d31",
   "metadata": {},
   "outputs": [],
   "source": [
    "# 행 인덱스를 사용하여 2개 이상의 행 선택\n",
    "label2 = df.loc[['서준', '인아']]\n",
    "label2"
   ]
  },
  {
   "cell_type": "code",
   "execution_count": null,
   "id": "04f28378",
   "metadata": {},
   "outputs": [],
   "source": [
    "#position2 = df.loc[0]\n",
    "#position2"
   ]
  },
  {
   "cell_type": "code",
   "execution_count": null,
   "id": "0efc4220",
   "metadata": {},
   "outputs": [],
   "source": [
    "# 행 인덱스의 범위를 지정하여 행 선택\n",
    "label3 = df.loc['서준':'우현']\n",
    "label3"
   ]
  },
  {
   "cell_type": "code",
   "execution_count": null,
   "id": "509f03d3",
   "metadata": {},
   "outputs": [],
   "source": [
    "position3 = df.iloc[0:1+1]\n",
    "position3"
   ]
  },
  {
   "cell_type": "code",
   "execution_count": null,
   "id": "c3847d99",
   "metadata": {},
   "outputs": [],
   "source": [
    "# DataFrame() 함수로 데이터프레임 변환. 변수 df에 저장 \n",
    "exam_data = {'이름' : [ '서준', '우현', '인아'],\n",
    "             '수학' : [ 90, 80, 70],\n",
    "             '영어' : [ 98, 89, 95],\n",
    "             '음악' : [ 85, 95, 100],\n",
    "             '체육' : [ 100, 90, 90]}\n",
    "df = pd.DataFrame(exam_data)\n",
    "df"
   ]
  },
  {
   "cell_type": "code",
   "execution_count": null,
   "id": "05bd612b",
   "metadata": {},
   "outputs": [],
   "source": [
    "df.loc[ [0,2] ]"
   ]
  },
  {
   "cell_type": "code",
   "execution_count": null,
   "id": "1d9e355e",
   "metadata": {},
   "outputs": [],
   "source": [
    "# '수학' 점수 데이터만 선택. 변수 math1에 저장\n",
    "math1 = df['수학']\n",
    "print(type(math1))\n",
    "math1"
   ]
  },
  {
   "cell_type": "code",
   "execution_count": null,
   "id": "ea16fd1c",
   "metadata": {},
   "outputs": [],
   "source": [
    "# '영어' 점수 데이터만 선택. 변수 english에 저장\n",
    "english = df['영어']\n",
    "print(type(english))\n",
    "english"
   ]
  },
  {
   "cell_type": "code",
   "execution_count": null,
   "id": "5799ca92",
   "metadata": {},
   "outputs": [],
   "source": [
    "# '음악', '체육' 점수 데이터를 선택. 변수 music_gym 에 저장\n",
    "music_gym = df[['음악', '체육']]\n",
    "print(type(music_gym))\n",
    "music_gym"
   ]
  },
  {
   "cell_type": "code",
   "execution_count": null,
   "id": "2f2a1b51",
   "metadata": {},
   "outputs": [],
   "source": [
    "# '수학' 점수 데이터만 선택. 변수 math2에 저장\n",
    "math2 = df[['수학']]\n",
    "print(type(math2))\n",
    "math2"
   ]
  },
  {
   "cell_type": "code",
   "execution_count": null,
   "id": "4db87c35",
   "metadata": {},
   "outputs": [],
   "source": [
    "# DataFrame() 함수로 데이터프레임 변환. 변수 df에 저장 \n",
    "exam_data = {'이름' : [ '서준', '우현', '인아'],\n",
    "             '수학' : [ 90, 80, 70],\n",
    "             '영어' : [ 98, 89, 95],\n",
    "             '음악' : [ 85, 95, 100],\n",
    "             '체육' : [ 100, 90, 90]}\n",
    "df = pd.DataFrame(exam_data)\n",
    "df"
   ]
  },
  {
   "cell_type": "code",
   "execution_count": null,
   "id": "dacdd5db",
   "metadata": {},
   "outputs": [],
   "source": [
    "# '이름' 열을 새로운 인덱스로 지정하고, df 객체에 변경사항 반영\n",
    "df.set_index('이름', inplace=True)\n",
    "df"
   ]
  },
  {
   "cell_type": "code",
   "execution_count": null,
   "id": "28bb78c3",
   "metadata": {},
   "outputs": [],
   "source": [
    "df.index"
   ]
  },
  {
   "cell_type": "code",
   "execution_count": null,
   "id": "cab52c4c",
   "metadata": {},
   "outputs": [],
   "source": [
    "# 데이터프레임 df의 특정 원소 1개 선택 ('서준'의 '음악' 점수)\n",
    "a = df.loc['서준', '음악']\n",
    "a"
   ]
  },
  {
   "cell_type": "code",
   "execution_count": null,
   "id": "260f8c38",
   "metadata": {},
   "outputs": [],
   "source": [
    "b = df.iloc[0, 2]\n",
    "print(b)"
   ]
  },
  {
   "cell_type": "code",
   "execution_count": null,
   "id": "ae205099",
   "metadata": {},
   "outputs": [],
   "source": [
    "# 데이터프레임 df의 특정 원소 2개 이상 선택 ('서준'의 '음악', '체육' 점수) \n",
    "c = df.loc['서준', ['음악', '체육']]\n",
    "print(c)"
   ]
  },
  {
   "cell_type": "code",
   "execution_count": null,
   "id": "a564813e",
   "metadata": {},
   "outputs": [],
   "source": [
    "d = df.iloc[0, 2:3]\n",
    "print(d)"
   ]
  },
  {
   "cell_type": "code",
   "execution_count": null,
   "id": "5d9f2926",
   "metadata": {},
   "outputs": [],
   "source": [
    "e = df.loc['서준', '음악':'체육']\n",
    "e"
   ]
  },
  {
   "cell_type": "code",
   "execution_count": null,
   "id": "2f7b5efe",
   "metadata": {},
   "outputs": [],
   "source": []
  },
  {
   "cell_type": "code",
   "execution_count": null,
   "id": "6f032938",
   "metadata": {},
   "outputs": [],
   "source": [
    "f = df.iloc[0, 2:]\n",
    "f"
   ]
  },
  {
   "cell_type": "code",
   "execution_count": null,
   "id": "9058a585",
   "metadata": {},
   "outputs": [],
   "source": [
    "# df의 2개 이상의 행과 열로부터 원소 선택 ('서준', '우현'의 '음악', '체육' 점수) \n",
    "g = df.loc[['서준', '우현'], ['음악', '체육']]\n",
    "g"
   ]
  },
  {
   "cell_type": "code",
   "execution_count": null,
   "id": "e673576b",
   "metadata": {},
   "outputs": [],
   "source": [
    "h = df.iloc[[0, 1], [2, 3]]\n",
    "print(h)"
   ]
  },
  {
   "cell_type": "code",
   "execution_count": null,
   "id": "e216f95f",
   "metadata": {},
   "outputs": [],
   "source": [
    "i = df.loc['서준':'우현', '음악':'체육']\n",
    "print(i)"
   ]
  },
  {
   "cell_type": "code",
   "execution_count": null,
   "id": "04e4022c",
   "metadata": {},
   "outputs": [],
   "source": [
    "j = df.iloc[0:2, 2:]\n",
    "print(j)"
   ]
  },
  {
   "cell_type": "markdown",
   "id": "beed83b1",
   "metadata": {},
   "source": [
    "### 열추가 : 예제 1-12"
   ]
  },
  {
   "cell_type": "code",
   "execution_count": null,
   "id": "83255c49",
   "metadata": {},
   "outputs": [],
   "source": [
    "import pandas as pd"
   ]
  },
  {
   "cell_type": "code",
   "execution_count": null,
   "id": "2c47631b",
   "metadata": {},
   "outputs": [],
   "source": [
    "# DataFrame() 함수로 데이터프레임 변환. 변수 df에 저장 \n",
    "exam_data = {'이름' : [ '서준', '우현', '인아'],\n",
    "             '수학' : [ 90, 80, 70],\n",
    "             '영어' : [ 98, 89, 95],\n",
    "             '음악' : [ 85, 95, 100],\n",
    "             '체육' : [ 100, 90, 90]}\n",
    "df = pd.DataFrame(exam_data)\n",
    "df"
   ]
  },
  {
   "cell_type": "code",
   "execution_count": null,
   "id": "fac0e285",
   "metadata": {},
   "outputs": [],
   "source": [
    "# 데이터프레임 df에 '국어' 점수 열(column)을 추가. 데이터 값은 80 지정\n",
    "df['국어'] = 80\n",
    "df"
   ]
  },
  {
   "cell_type": "code",
   "execution_count": null,
   "id": "8729b737",
   "metadata": {},
   "outputs": [],
   "source": [
    "df['판다스'] = 100\n",
    "df"
   ]
  },
  {
   "cell_type": "markdown",
   "id": "cf4d3662",
   "metadata": {},
   "source": [
    "### 행추가 : 예제 1-13"
   ]
  },
  {
   "cell_type": "code",
   "execution_count": null,
   "id": "cbdccc3f",
   "metadata": {},
   "outputs": [],
   "source": [
    "# 새로운 행(row)을 추가 - 같은 원소 값을 입력\n",
    "df.loc[3] = 0\n",
    "df"
   ]
  },
  {
   "cell_type": "code",
   "execution_count": null,
   "id": "7cbcb942",
   "metadata": {},
   "outputs": [],
   "source": [
    "# 새로운 행(row)을 추가 - 원소 값 여러 개의 배열 입력\n",
    "df.loc[4] = ['동규', 90, 80, 70, 60, 70, 100]\n",
    "df"
   ]
  },
  {
   "cell_type": "code",
   "execution_count": null,
   "id": "95827672",
   "metadata": {},
   "outputs": [],
   "source": [
    "# 새로운 행(row)을 추가 - 기존 행을 복사\n",
    "df.loc['행5'] = df.loc[3]\n",
    "df"
   ]
  },
  {
   "cell_type": "markdown",
   "id": "827c5839",
   "metadata": {},
   "source": [
    "### 원소값 변경 : 예제 1-14"
   ]
  },
  {
   "cell_type": "code",
   "execution_count": null,
   "id": "7aebb720",
   "metadata": {},
   "outputs": [],
   "source": [
    "# DataFrame() 함수로 데이터프레임 변환. 변수 df에 저장 \n",
    "exam_data = {'이름' : [ '서준', '우현', '인아'],\n",
    "             '수학' : [ 90, 80, 70],\n",
    "             '영어' : [ 98, 89, 95],\n",
    "             '음악' : [ 85, 95, 100],\n",
    "             '체육' : [ 100, 90, 90]}\n",
    "df = pd.DataFrame(exam_data)\n",
    "df"
   ]
  },
  {
   "cell_type": "code",
   "execution_count": null,
   "id": "6765afb7",
   "metadata": {},
   "outputs": [],
   "source": [
    "df.index"
   ]
  },
  {
   "cell_type": "code",
   "execution_count": null,
   "id": "a8859073",
   "metadata": {},
   "outputs": [],
   "source": [
    "# '이름' 열을 새로운 인덱스로 지정하고, df 객체에 변경사항 반영\n",
    "df.set_index('이름', inplace=True)\n",
    "df"
   ]
  },
  {
   "cell_type": "code",
   "execution_count": null,
   "id": "1dd22cc6",
   "metadata": {},
   "outputs": [],
   "source": [
    "df.iloc[0][3]"
   ]
  },
  {
   "cell_type": "code",
   "execution_count": null,
   "id": "283f58d8",
   "metadata": {},
   "outputs": [],
   "source": [
    "# 데이터프레임 df의 특정 원소를 변경하는 방법: '서준'의 '체육' 점수\n",
    "df.iloc[0,3] = 80\n",
    "df"
   ]
  },
  {
   "cell_type": "code",
   "execution_count": null,
   "id": "ce327de4",
   "metadata": {},
   "outputs": [],
   "source": [
    "df.iloc[0][3]"
   ]
  },
  {
   "cell_type": "code",
   "execution_count": null,
   "id": "dd147dc1",
   "metadata": {},
   "outputs": [],
   "source": [
    "# 데이터프레임 df의 특정 원소를 변경하는 방법: '서준'의 '체육' 점수\n",
    "df.iloc[0][3] = 85\n",
    "df"
   ]
  },
  {
   "cell_type": "code",
   "execution_count": null,
   "id": "19d1db5a",
   "metadata": {},
   "outputs": [],
   "source": [
    "df.loc['서준']['체육']"
   ]
  },
  {
   "cell_type": "code",
   "execution_count": null,
   "id": "878a3d25",
   "metadata": {},
   "outputs": [],
   "source": [
    "df.loc['서준']['체육'] = 90\n",
    "df"
   ]
  },
  {
   "cell_type": "code",
   "execution_count": null,
   "id": "457f0ff1",
   "metadata": {},
   "outputs": [],
   "source": [
    "df.loc['서준', '체육'] = 100\n",
    "df"
   ]
  },
  {
   "cell_type": "code",
   "execution_count": null,
   "id": "6d87992b",
   "metadata": {},
   "outputs": [],
   "source": [
    "# 데이터프레임 df의 원소 여러 개를 변경하는 방법: '서준'의 '음악', '체육' 점수\n",
    "df.loc['서준', ['음악', '체육']] = 50\n",
    "df"
   ]
  },
  {
   "cell_type": "code",
   "execution_count": null,
   "id": "aa720654",
   "metadata": {},
   "outputs": [],
   "source": [
    "df.loc['서준', ['음악', '체육']] = [100, 50]\n",
    "df"
   ]
  },
  {
   "cell_type": "markdown",
   "id": "9d1fa5b2",
   "metadata": {},
   "source": [
    "### 행, 열의 위치 바꾸기 : 예제 1-15"
   ]
  },
  {
   "cell_type": "code",
   "execution_count": null,
   "id": "2cd7348e",
   "metadata": {},
   "outputs": [],
   "source": [
    "# DataFrame() 함수로 데이터프레임 변환. 변수 df에 저장 \n",
    "exam_data = {'이름' : [ '서준', '우현', '인아'],\n",
    "             '수학' : [ 90, 80, 70],\n",
    "             '영어' : [ 98, 89, 95],\n",
    "             '음악' : [ 85, 95, 100],\n",
    "             '체육' : [ 100, 90, 90]}\n",
    "df = pd.DataFrame(exam_data)\n",
    "df"
   ]
  },
  {
   "cell_type": "code",
   "execution_count": null,
   "id": "5b1fdc85",
   "metadata": {},
   "outputs": [],
   "source": [
    "# 데이터프레임 df를 전치하기 (메소드 활용)\n",
    "df = df.transpose()\n",
    "df"
   ]
  },
  {
   "cell_type": "code",
   "execution_count": null,
   "id": "3aabd9ec",
   "metadata": {},
   "outputs": [],
   "source": [
    "# 데이터프레임 df를 다시 전치하기 (클래스 속성 활용)\n",
    "df = df.T\n",
    "df"
   ]
  },
  {
   "cell_type": "code",
   "execution_count": null,
   "id": "268ae524",
   "metadata": {},
   "outputs": [],
   "source": []
  },
  {
   "cell_type": "markdown",
   "id": "b796e073",
   "metadata": {},
   "source": [
    "## 3. 인덱스 활용"
   ]
  },
  {
   "cell_type": "code",
   "execution_count": null,
   "id": "9e6fd312",
   "metadata": {},
   "outputs": [],
   "source": [
    "# DataFrame() 함수로 데이터프레임 변환. 변수 df에 저장 \n",
    "exam_data = {'이름' : [ '서준', '우현', '인아'],\n",
    "             '수학' : [ 90, 80, 70],\n",
    "             '영어' : [ 98, 89, 95],\n",
    "             '음악' : [ 85, 95, 100],\n",
    "             '체육' : [ 100, 90, 90]}\n",
    "df = pd.DataFrame(exam_data)\n",
    "df"
   ]
  },
  {
   "cell_type": "code",
   "execution_count": null,
   "id": "fc58e0f7",
   "metadata": {},
   "outputs": [],
   "source": [
    "# 특정 열(column)을 데이터프레임의 행 인덱스(index)로 설정 \n",
    "ndf = df.set_index(['이름'])\n",
    "ndf"
   ]
  },
  {
   "cell_type": "code",
   "execution_count": null,
   "id": "aa677570",
   "metadata": {},
   "outputs": [],
   "source": [
    "ndf2 = ndf.set_index('음악')\n",
    "ndf2"
   ]
  },
  {
   "cell_type": "code",
   "execution_count": null,
   "id": "4d0ef5eb",
   "metadata": {},
   "outputs": [],
   "source": [
    "ndf3 = ndf.set_index(['수학', '음악'])\n",
    "ndf3"
   ]
  },
  {
   "cell_type": "code",
   "execution_count": null,
   "id": "80b38c74",
   "metadata": {},
   "outputs": [],
   "source": [
    "ndf3.index"
   ]
  },
  {
   "cell_type": "code",
   "execution_count": null,
   "id": "50b79889",
   "metadata": {},
   "outputs": [],
   "source": [
    "# 딕셔서리를 정의\n",
    "dict_data = {'c0':[1,2,3], 'c1':[4,5,6], 'c2':[7,8,9], 'c3':[10,11,12], 'c4':[13,14,15]}\n",
    "\n",
    "# 딕셔서리를 데이터프레임으로 변환. 인덱스를 [r0, r1, r2]로 지정\n",
    "df = pd.DataFrame(dict_data, index=['r0', 'r1', 'r2'])\n",
    "df"
   ]
  },
  {
   "cell_type": "code",
   "execution_count": null,
   "id": "8a0b3461",
   "metadata": {},
   "outputs": [],
   "source": [
    "# 인덱스를 [r0, r1, r2, r3, r4]로 재지정\n",
    "new_index = ['r0', 'r1', 'r2', 'r3', 'r4']\n",
    "ndf = df.reindex(new_index)\n",
    "ndf"
   ]
  },
  {
   "cell_type": "code",
   "execution_count": null,
   "id": "1b3c1d6d",
   "metadata": {},
   "outputs": [],
   "source": [
    "# reindex로 발생한 NaN값을 숫자 0으로 채우기\n",
    "new_index = ['r0', 'r1', 'r2', 'r3', 'r4']\n",
    "ndf2 = df.reindex(new_index, fill_value=0)\n",
    "ndf2"
   ]
  },
  {
   "cell_type": "code",
   "execution_count": null,
   "id": "70ffd4e9",
   "metadata": {},
   "outputs": [],
   "source": [
    "# 딕셔서리를 정의\n",
    "dict_data = {'c0':[1,2,3], 'c1':[4,5,6], 'c2':[7,8,9], 'c3':[10,11,12], 'c4':[13,14,15]}\n",
    "\n",
    "# 딕셔서리를 데이터프레임으로 변환. 인덱스를 [r0, r1, r2]로 지정\n",
    "df = pd.DataFrame(dict_data, index=['r0', 'r1', 'r2'])\n",
    "df"
   ]
  },
  {
   "cell_type": "code",
   "execution_count": null,
   "id": "08a70a9a",
   "metadata": {},
   "outputs": [],
   "source": [
    "# 행 인덱스를 정수형으로 초기화 \n",
    "ndf = df.reset_index()\n",
    "ndf"
   ]
  },
  {
   "cell_type": "code",
   "execution_count": null,
   "id": "47e5c5b8",
   "metadata": {},
   "outputs": [],
   "source": [
    "ndf.drop('index', axis=1)"
   ]
  },
  {
   "cell_type": "code",
   "execution_count": null,
   "id": "74fb7407",
   "metadata": {},
   "outputs": [],
   "source": [
    "df.reset_index(drop=True)"
   ]
  },
  {
   "cell_type": "code",
   "execution_count": null,
   "id": "286c0bc7",
   "metadata": {},
   "outputs": [],
   "source": [
    "# 딕셔서리를 정의\n",
    "dict_data = {'c0':[1,2,3], 'c1':[4,5,6], 'c2':[7,8,9], 'c3':[10,11,12], 'c4':[13,14,15]}\n",
    "\n",
    "# 딕셔서리를 데이터프레임으로 변환. 인덱스를 [r0, r1, r2]로 지정\n",
    "df = pd.DataFrame(dict_data, index=['r0', 'r1', 'r2'])\n",
    "df"
   ]
  },
  {
   "cell_type": "code",
   "execution_count": null,
   "id": "e076d8ef",
   "metadata": {},
   "outputs": [],
   "source": [
    "# 내림차순으로 행 인덱스 정렬 \n",
    "ndf = df.sort_index(ascending=False)\n",
    "ndf"
   ]
  },
  {
   "cell_type": "code",
   "execution_count": null,
   "id": "ece89bd9",
   "metadata": {},
   "outputs": [],
   "source": []
  },
  {
   "cell_type": "markdown",
   "id": "5b39cb8f",
   "metadata": {},
   "source": [
    "## 4. 시리즈 연산"
   ]
  },
  {
   "cell_type": "code",
   "execution_count": null,
   "id": "1562d120",
   "metadata": {},
   "outputs": [],
   "source": [
    "# 딕셔너리 데이터로 판다스 시리즈 만들기\n",
    "student1 = pd.Series({'국어':100, '영어':80, '수학':90})\n",
    "student1"
   ]
  },
  {
   "cell_type": "code",
   "execution_count": null,
   "id": "6b22253d",
   "metadata": {},
   "outputs": [],
   "source": [
    "# 학생의 과목별 점수를 200으로 나누기\n",
    "percentage = student1 / 200\n",
    "percentage"
   ]
  },
  {
   "cell_type": "code",
   "execution_count": null,
   "id": "302ab8d1",
   "metadata": {},
   "outputs": [],
   "source": [
    "type(percentage)"
   ]
  },
  {
   "cell_type": "code",
   "execution_count": null,
   "id": "b3b41b30",
   "metadata": {},
   "outputs": [],
   "source": [
    "# 딕셔너리 데이터로 판다스 시리즈 만들기\n",
    "student1 = pd.Series({'국어':100, '영어':80, '수학':90})\n",
    "student1"
   ]
  },
  {
   "cell_type": "code",
   "execution_count": null,
   "id": "87b24832",
   "metadata": {},
   "outputs": [],
   "source": [
    "student2 = pd.Series({'수학':80, '국어':90, '영어':80})\n",
    "student2"
   ]
  },
  {
   "cell_type": "code",
   "execution_count": null,
   "id": "be6388ba",
   "metadata": {},
   "outputs": [],
   "source": [
    "student1 + student2"
   ]
  },
  {
   "cell_type": "code",
   "execution_count": null,
   "id": "01a3d2f0",
   "metadata": {},
   "outputs": [],
   "source": [
    "# 두 학생의 과목별 점수로 사칙연산 수행\n",
    "addition = student1 + student2               #덧셈\n",
    "subtraction = student1 - student2            #뺄셈\n",
    "multiplication = student1 * student2         #곱셈\n",
    "division = student1 / student2               #나눗셈"
   ]
  },
  {
   "cell_type": "code",
   "execution_count": null,
   "id": "a24c0ff8",
   "metadata": {},
   "outputs": [],
   "source": [
    "multiplication"
   ]
  },
  {
   "cell_type": "code",
   "execution_count": null,
   "id": "9ded20bc",
   "metadata": {},
   "outputs": [],
   "source": [
    "division"
   ]
  },
  {
   "cell_type": "code",
   "execution_count": null,
   "id": "cc18559a",
   "metadata": {},
   "outputs": [],
   "source": [
    "type(division)"
   ]
  },
  {
   "cell_type": "code",
   "execution_count": null,
   "id": "bd5468d3",
   "metadata": {},
   "outputs": [],
   "source": [
    "# 사칙연산 결과를 데이터프레임으로 합치기 (시리즈 -> 데이터프레임)\n",
    "result = pd.DataFrame([addition, subtraction, multiplication, division], \n",
    "                      index=['덧셈', '뺄셈', '곱셈', '나눗셈'])\n",
    "result"
   ]
  },
  {
   "cell_type": "code",
   "execution_count": null,
   "id": "8aea565b",
   "metadata": {},
   "outputs": [],
   "source": [
    "# 라이브러리 불러오기 \n",
    "import pandas as pd\n",
    "import numpy as np"
   ]
  },
  {
   "cell_type": "code",
   "execution_count": null,
   "id": "2f9a18cf",
   "metadata": {},
   "outputs": [],
   "source": [
    "# 딕셔너리 데이터로 판다스 시리즈 만들기\n",
    "student1 = pd.Series({'국어':np.nan, '영어':80, '수학':90})\n",
    "student1"
   ]
  },
  {
   "cell_type": "code",
   "execution_count": null,
   "id": "ef4196c5",
   "metadata": {},
   "outputs": [],
   "source": [
    "student2 = pd.Series({'수학':80, '국어':90})\n",
    "student2"
   ]
  },
  {
   "cell_type": "code",
   "execution_count": null,
   "id": "c4df5292",
   "metadata": {},
   "outputs": [],
   "source": [
    "# 두 학생의 과목별 점수로 사칙연산 수행 (시리즈 vs. 시리즈)\n",
    "addition = student1 + student2               #덧셈\n",
    "subtraction = student1 - student2            #뺄셈\n",
    "multiplication = student1 * student2         #곱셈\n",
    "division = student1 / student2               #나눗셈"
   ]
  },
  {
   "cell_type": "code",
   "execution_count": null,
   "id": "09c0de17",
   "metadata": {},
   "outputs": [],
   "source": [
    "addition"
   ]
  },
  {
   "cell_type": "code",
   "execution_count": null,
   "id": "1e8596e4",
   "metadata": {},
   "outputs": [],
   "source": [
    "# 사칙연산 결과를 데이터프레임으로 합치기 (시리즈 -> 데이터프레임)\n",
    "result = pd.DataFrame([addition, subtraction, multiplication, division], \n",
    "                      index=['덧셈', '뺄셈', '곱셈', '나눗셈'])\n",
    "result"
   ]
  },
  {
   "cell_type": "code",
   "execution_count": null,
   "id": "97ffc601",
   "metadata": {},
   "outputs": [],
   "source": [
    "# 딕셔너리 데이터로 판다스 시리즈 만들기\n",
    "student1 = pd.Series({'국어':np.nan, '영어':80, '수학':90})\n",
    "student2 = pd.Series({'수학':80, '국어':90})"
   ]
  },
  {
   "cell_type": "code",
   "execution_count": null,
   "id": "1647db78",
   "metadata": {},
   "outputs": [],
   "source": [
    "# 두 학생의 과목별 점수로 사칙연산 수행 (연산 메소드 사용)\n",
    "sr_add = student1.add(student2, fill_value=0)    #덧셈\n",
    "sr_sub = student1.sub(student2, fill_value=0)    #뺄셈\n",
    "sr_mul = student1.mul(student2, fill_value=0)    #곱셈\n",
    "sr_div = student1.div(student2, fill_value=0)    #나눗셈"
   ]
  },
  {
   "cell_type": "code",
   "execution_count": null,
   "id": "aa731d30",
   "metadata": {},
   "outputs": [],
   "source": [
    "# 사칙연산 결과를 데이터프레임으로 합치기 (시리즈 -> 데이터프레임)\n",
    "result = pd.DataFrame([sr_add, sr_sub, sr_mul, sr_div], \n",
    "                      index=['덧셈', '뺄셈', '곱셈', '나눗셈'])\n",
    "result"
   ]
  },
  {
   "cell_type": "code",
   "execution_count": null,
   "id": "f4638d0e",
   "metadata": {},
   "outputs": [],
   "source": []
  },
  {
   "cell_type": "code",
   "execution_count": null,
   "id": "73c0d643",
   "metadata": {},
   "outputs": [],
   "source": [
    "# 라이브러리 불러오기\n",
    "import pandas as pd\n",
    "import seaborn as sns"
   ]
  },
  {
   "cell_type": "code",
   "execution_count": null,
   "id": "238bb68a",
   "metadata": {},
   "outputs": [],
   "source": [
    "# titanic 데이터셋에서 age, fare 2개 열을 선택하여 데이터프레임 만들기\n",
    "titanic = sns.load_dataset('titanic')\n",
    "titanic"
   ]
  },
  {
   "cell_type": "code",
   "execution_count": null,
   "id": "f96633e1",
   "metadata": {},
   "outputs": [],
   "source": [
    "df = titanic.loc[:, ['age','fare']]\n",
    "df"
   ]
  },
  {
   "cell_type": "code",
   "execution_count": null,
   "id": "23d0029f",
   "metadata": {},
   "outputs": [],
   "source": [
    "df.tail() # df.head()"
   ]
  },
  {
   "cell_type": "code",
   "execution_count": null,
   "id": "5632bf81",
   "metadata": {},
   "outputs": [],
   "source": [
    "type(df)"
   ]
  },
  {
   "cell_type": "code",
   "execution_count": null,
   "id": "12ebb9d8",
   "metadata": {},
   "outputs": [],
   "source": [
    "# 데이터프레임에 숫자 10 더하기\n",
    "addition = df + 10\n",
    "addition"
   ]
  },
  {
   "cell_type": "code",
   "execution_count": null,
   "id": "a7a22387",
   "metadata": {},
   "outputs": [],
   "source": [
    "addition['add'] = addition['age'] +  addition['fare']\n",
    "addition['sub'] = addition['age'] -  addition['fare']\n",
    "addition['mul'] = addition['age'] *  addition['fare']\n",
    "addition['div'] = addition['age'] /  addition['fare']\n",
    "addition"
   ]
  },
  {
   "cell_type": "code",
   "execution_count": null,
   "id": "8e5078ac",
   "metadata": {},
   "outputs": [],
   "source": []
  },
  {
   "cell_type": "code",
   "execution_count": null,
   "id": "dd160434",
   "metadata": {},
   "outputs": [],
   "source": [
    "# titanic 데이터셋에서 age, fare 2개 열을 선택하여 데이터프레임 만들기\n",
    "titanic = sns.load_dataset('titanic')\n",
    "df = titanic.loc[:, ['age','fare']]"
   ]
  },
  {
   "cell_type": "code",
   "execution_count": null,
   "id": "91caaa9f",
   "metadata": {},
   "outputs": [],
   "source": [
    "df.tail()"
   ]
  },
  {
   "cell_type": "code",
   "execution_count": null,
   "id": "71579811",
   "metadata": {},
   "outputs": [],
   "source": [
    "# 데이터프레임에 숫자 10 더하기\n",
    "addition = df + 10\n",
    "addition.tail()"
   ]
  },
  {
   "cell_type": "code",
   "execution_count": null,
   "id": "7f2e3ad3",
   "metadata": {},
   "outputs": [],
   "source": [
    "# 데이터프레임끼리 연산하기 (additon - df)\n",
    "subtraction = addition - df\n",
    "subtraction.tail()"
   ]
  },
  {
   "cell_type": "code",
   "execution_count": null,
   "id": "3ab405a0",
   "metadata": {},
   "outputs": [],
   "source": []
  }
 ],
 "metadata": {
  "kernelspec": {
   "display_name": "Python 3 (ipykernel)",
   "language": "python",
   "name": "python3"
  },
  "language_info": {
   "codemirror_mode": {
    "name": "ipython",
    "version": 3
   },
   "file_extension": ".py",
   "mimetype": "text/x-python",
   "name": "python",
   "nbconvert_exporter": "python",
   "pygments_lexer": "ipython3",
   "version": "3.10.9"
  },
  "toc": {
   "base_numbering": 1,
   "nav_menu": {},
   "number_sections": true,
   "sideBar": true,
   "skip_h1_title": false,
   "title_cell": "Table of Contents",
   "title_sidebar": "Contents",
   "toc_cell": false,
   "toc_position": {
    "height": "calc(100% - 180px)",
    "left": "10px",
    "top": "150px",
    "width": "245.062px"
   },
   "toc_section_display": true,
   "toc_window_display": true
  }
 },
 "nbformat": 4,
 "nbformat_minor": 5
}
