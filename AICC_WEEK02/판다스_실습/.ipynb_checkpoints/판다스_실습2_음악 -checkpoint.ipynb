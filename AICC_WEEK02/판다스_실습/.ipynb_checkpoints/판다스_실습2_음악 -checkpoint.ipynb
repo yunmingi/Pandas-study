{
 "cells": [
  {
   "cell_type": "markdown",
   "metadata": {},
   "source": [
    "## 예제 10-15 최신 인기 음악 데이터"
   ]
  },
  {
   "cell_type": "code",
   "execution_count": 1,
   "metadata": {},
   "outputs": [],
   "source": [
    "import pandas as pd\n",
    "import matplotlib.pyplot as plt"
   ]
  },
  {
   "cell_type": "code",
   "execution_count": 2,
   "metadata": {},
   "outputs": [],
   "source": [
    "music = pd.read_csv('./data/musicData.csv')#, encoding='utf-8')"
   ]
  },
  {
   "cell_type": "code",
   "execution_count": 3,
   "metadata": {},
   "outputs": [
    {
     "data": {
      "text/html": [
       "<div>\n",
       "<style scoped>\n",
       "    .dataframe tbody tr th:only-of-type {\n",
       "        vertical-align: middle;\n",
       "    }\n",
       "\n",
       "    .dataframe tbody tr th {\n",
       "        vertical-align: top;\n",
       "    }\n",
       "\n",
       "    .dataframe thead th {\n",
       "        text-align: right;\n",
       "    }\n",
       "</style>\n",
       "<table border=\"1\" class=\"dataframe\">\n",
       "  <thead>\n",
       "    <tr style=\"text-align: right;\">\n",
       "      <th></th>\n",
       "      <th>Album Title</th>\n",
       "      <th>Artist Name</th>\n",
       "      <th>Genre</th>\n",
       "      <th>Date</th>\n",
       "      <th>Distribution</th>\n",
       "      <th>Rating</th>\n",
       "      <th>Music Count</th>\n",
       "    </tr>\n",
       "  </thead>\n",
       "  <tbody>\n",
       "    <tr>\n",
       "      <th>0</th>\n",
       "      <td>거기가 어딘데?? OST</td>\n",
       "      <td>Various Artists</td>\n",
       "      <td>O.S.T</td>\n",
       "      <td>2018.09.01</td>\n",
       "      <td>워너뮤직코리아</td>\n",
       "      <td>6.4</td>\n",
       "      <td>8</td>\n",
       "    </tr>\n",
       "    <tr>\n",
       "      <th>1</th>\n",
       "      <td>얍</td>\n",
       "      <td>갈릭스(Garlixx)</td>\n",
       "      <td>인디뮤직,  락</td>\n",
       "      <td>2018.09.01</td>\n",
       "      <td>(주)미러볼뮤직</td>\n",
       "      <td>3.8</td>\n",
       "      <td>2</td>\n",
       "    </tr>\n",
       "    <tr>\n",
       "      <th>2</th>\n",
       "      <td>너와 나</td>\n",
       "      <td>파란</td>\n",
       "      <td>발라드</td>\n",
       "      <td>2018.09.01</td>\n",
       "      <td>(주)지니뮤직</td>\n",
       "      <td>7.7</td>\n",
       "      <td>2</td>\n",
       "    </tr>\n",
       "    <tr>\n",
       "      <th>3</th>\n",
       "      <td>PRODUCE 48 - FINAL</td>\n",
       "      <td>PRODUCE 48</td>\n",
       "      <td>댄스</td>\n",
       "      <td>2018.09.01</td>\n",
       "      <td>Stone Music Entertainment</td>\n",
       "      <td>7.0</td>\n",
       "      <td>4</td>\n",
       "    </tr>\n",
       "    <tr>\n",
       "      <th>4</th>\n",
       "      <td>Weather : 오늘 당신의 날씨는 어떤가요? Part 4</td>\n",
       "      <td>이진아</td>\n",
       "      <td>재즈</td>\n",
       "      <td>2018.09.01</td>\n",
       "      <td>(주)지니뮤직</td>\n",
       "      <td>6.7</td>\n",
       "      <td>1</td>\n",
       "    </tr>\n",
       "    <tr>\n",
       "      <th>...</th>\n",
       "      <td>...</td>\n",
       "      <td>...</td>\n",
       "      <td>...</td>\n",
       "      <td>...</td>\n",
       "      <td>...</td>\n",
       "      <td>...</td>\n",
       "      <td>...</td>\n",
       "    </tr>\n",
       "    <tr>\n",
       "      <th>991</th>\n",
       "      <td>It's a TRAP!</td>\n",
       "      <td>넘넘(numnum)</td>\n",
       "      <td>인디뮤직,  락</td>\n",
       "      <td>2018.10.11</td>\n",
       "      <td>포크라노스</td>\n",
       "      <td>0.0</td>\n",
       "      <td>1</td>\n",
       "    </tr>\n",
       "    <tr>\n",
       "      <th>992</th>\n",
       "      <td>Kryptonite (크립토나이트)</td>\n",
       "      <td>Seiren(세이렌)</td>\n",
       "      <td>랩/힙합</td>\n",
       "      <td>2018.10.11</td>\n",
       "      <td>퍼플파인엔터테인먼트</td>\n",
       "      <td>0.0</td>\n",
       "      <td>1</td>\n",
       "    </tr>\n",
       "    <tr>\n",
       "      <th>993</th>\n",
       "      <td>Sandwich, Milk (Feat. divin')</td>\n",
       "      <td>C.Koon</td>\n",
       "      <td>랩/힙합</td>\n",
       "      <td>2018.10.11</td>\n",
       "      <td>(주)아이리버</td>\n",
       "      <td>0.0</td>\n",
       "      <td>1</td>\n",
       "    </tr>\n",
       "    <tr>\n",
       "      <th>994</th>\n",
       "      <td>손 the guest OST Part 2</td>\n",
       "      <td>손승연</td>\n",
       "      <td>드라마음악</td>\n",
       "      <td>2018.10.11</td>\n",
       "      <td>Stone Music Entertainment</td>\n",
       "      <td>9.0</td>\n",
       "      <td>2</td>\n",
       "    </tr>\n",
       "    <tr>\n",
       "      <th>995</th>\n",
       "      <td>꽃처럼</td>\n",
       "      <td>페르시(persie)</td>\n",
       "      <td>발라드</td>\n",
       "      <td>2018.10.11</td>\n",
       "      <td>아토엔터테인먼트</td>\n",
       "      <td>0.0</td>\n",
       "      <td>1</td>\n",
       "    </tr>\n",
       "  </tbody>\n",
       "</table>\n",
       "<p>996 rows × 7 columns</p>\n",
       "</div>"
      ],
      "text/plain": [
       "                           Album Title      Artist Name     Genre        Date  \\\n",
       "0                        거기가 어딘데?? OST  Various Artists     O.S.T  2018.09.01   \n",
       "1                                    얍     갈릭스(Garlixx)  인디뮤직,  락  2018.09.01   \n",
       "2                                 너와 나              파란        발라드  2018.09.01   \n",
       "3                   PRODUCE 48 - FINAL       PRODUCE 48        댄스  2018.09.01   \n",
       "4    Weather : 오늘 당신의 날씨는 어떤가요? Part 4              이진아        재즈  2018.09.01   \n",
       "..                                 ...              ...       ...         ...   \n",
       "991                       It's a TRAP!       넘넘(numnum)  인디뮤직,  락  2018.10.11   \n",
       "992                Kryptonite (크립토나이트)      Seiren(세이렌)      랩/힙합  2018.10.11   \n",
       "993      Sandwich, Milk (Feat. divin')           C.Koon      랩/힙합  2018.10.11   \n",
       "994             손 the guest OST Part 2              손승연     드라마음악  2018.10.11   \n",
       "995                                꽃처럼      페르시(persie)       발라드  2018.10.11   \n",
       "\n",
       "                  Distribution  Rating  Music Count  \n",
       "0                      워너뮤직코리아     6.4            8  \n",
       "1                     (주)미러볼뮤직     3.8            2  \n",
       "2                      (주)지니뮤직     7.7            2  \n",
       "3    Stone Music Entertainment     7.0            4  \n",
       "4                      (주)지니뮤직     6.7            1  \n",
       "..                         ...     ...          ...  \n",
       "991                      포크라노스     0.0            1  \n",
       "992                 퍼플파인엔터테인먼트     0.0            1  \n",
       "993                    (주)아이리버     0.0            1  \n",
       "994  Stone Music Entertainment     9.0            2  \n",
       "995                   아토엔터테인먼트     0.0            1  \n",
       "\n",
       "[996 rows x 7 columns]"
      ]
     },
     "execution_count": 3,
     "metadata": {},
     "output_type": "execute_result"
    }
   ],
   "source": [
    "music#.head()"
   ]
  },
  {
   "cell_type": "code",
   "execution_count": 4,
   "metadata": {},
   "outputs": [
    {
     "data": {
      "text/plain": [
       "(996, 7)"
      ]
     },
     "execution_count": 4,
     "metadata": {},
     "output_type": "execute_result"
    }
   ],
   "source": [
    "music.shape"
   ]
  },
  {
   "cell_type": "code",
   "execution_count": 5,
   "metadata": {},
   "outputs": [
    {
     "data": {
      "text/plain": [
       "Album Title      object\n",
       "Artist Name      object\n",
       "Genre            object\n",
       "Date             object\n",
       "Distribution     object\n",
       "Rating          float64\n",
       "Music Count       int64\n",
       "dtype: object"
      ]
     },
     "execution_count": 5,
     "metadata": {},
     "output_type": "execute_result"
    }
   ],
   "source": [
    "music.dtypes"
   ]
  },
  {
   "cell_type": "code",
   "execution_count": 6,
   "metadata": {},
   "outputs": [
    {
     "name": "stdout",
     "output_type": "stream",
     "text": [
      "<class 'pandas.core.frame.DataFrame'>\n",
      "RangeIndex: 996 entries, 0 to 995\n",
      "Data columns (total 7 columns):\n",
      " #   Column        Non-Null Count  Dtype  \n",
      "---  ------        --------------  -----  \n",
      " 0   Album Title   995 non-null    object \n",
      " 1   Artist Name   996 non-null    object \n",
      " 2   Genre         996 non-null    object \n",
      " 3   Date          996 non-null    object \n",
      " 4   Distribution  996 non-null    object \n",
      " 5   Rating        996 non-null    float64\n",
      " 6   Music Count   996 non-null    int64  \n",
      "dtypes: float64(1), int64(1), object(5)\n",
      "memory usage: 54.6+ KB\n"
     ]
    }
   ],
   "source": [
    "music.info()"
   ]
  },
  {
   "cell_type": "code",
   "execution_count": 7,
   "metadata": {},
   "outputs": [],
   "source": [
    "music['Date'] = music['Date'].astype('datetime64')"
   ]
  },
  {
   "cell_type": "code",
   "execution_count": 8,
   "metadata": {},
   "outputs": [
    {
     "data": {
      "text/plain": [
       "dtype('<M8[ns]')"
      ]
     },
     "execution_count": 8,
     "metadata": {},
     "output_type": "execute_result"
    }
   ],
   "source": [
    "music['Date'].dtype"
   ]
  },
  {
   "cell_type": "code",
   "execution_count": 75,
   "metadata": {},
   "outputs": [
    {
     "data": {
      "text/plain": [
       "0     2018-09-01\n",
       "1     2018-09-01\n",
       "2     2018-09-01\n",
       "3     2018-09-01\n",
       "4     2018-09-01\n",
       "         ...    \n",
       "991   2018-10-11\n",
       "992   2018-10-11\n",
       "993   2018-10-11\n",
       "994   2018-10-11\n",
       "995   2018-10-11\n",
       "Name: Date, Length: 996, dtype: datetime64[ns]"
      ]
     },
     "execution_count": 75,
     "metadata": {},
     "output_type": "execute_result"
    }
   ],
   "source": [
    "music['Date']"
   ]
  },
  {
   "cell_type": "code",
   "execution_count": 9,
   "metadata": {},
   "outputs": [
    {
     "data": {
      "text/plain": [
       "Stone Music Entertainment    102\n",
       "로엔엔터테인먼트                      95\n",
       "(주)지니뮤직                       80\n",
       "워너뮤직코리아                       58\n",
       "(주)오감엔터테인먼트                   52\n",
       "(주)미러볼뮤직                      50\n",
       "포크라노스                         49\n",
       "(주)다날엔터테인먼트                   43\n",
       "(주)엔에이치엔벅스                    41\n",
       "(주)루미넌트엔터테인먼트                 38\n",
       "(주)뮤직앤뉴                       36\n",
       "(주)티에스앤엔터테인먼트                 33\n",
       "아토엔터테인먼트                      25\n",
       "(주)소리바다                       24\n",
       "(주)블렌딩                        22\n",
       "(주)아이리버                       21\n",
       "비스킷 사운드                       21\n",
       "퍼플파인엔터테인먼트                    20\n",
       "먼데이브런치                        19\n",
       "(주)코부코                        19\n",
       "(주)필뮤직                        18\n",
       "(주)광수미디어                      14\n",
       "(주)인터파크                       12\n",
       "(주)뮤즈플랫폼                      12\n",
       "유니버설뮤직                        11\n",
       "소니뮤직                          10\n",
       "(주)우조엔터테인먼트                    9\n",
       "민사운드스토리엔터테인먼트                  9\n",
       "(사)한국음반산업협회                    5\n",
       "(주)킹핀엔터테인먼트                    4\n",
       "페이지터너AMS                       4\n",
       "(주)디지탈레코드                      4\n",
       "(주)위프엔터테인먼트                    4\n",
       "YG PLUS                        3\n",
       "빅밴드                            3\n",
       "(주)사운드리퍼블리카                    3\n",
       "(주)엘리야엔터테인먼트                   2\n",
       "(주)인플래닛                        2\n",
       "뮤시아                            2\n",
       "미디어스코프(주)                      2\n",
       "히트뱅크엔터테인먼트                     1\n",
       "뮤직파운드                          1\n",
       "(주)예향엔터테인먼트                    1\n",
       "에스앤제이미디어(주)                    1\n",
       "파라솔뮤직                          1\n",
       "KBS미디어(주)                      1\n",
       "(주)쿠킹뮤직                        1\n",
       "(주)힙합플레이야                      1\n",
       "(주)케미컬레코드                      1\n",
       "보자기레이블&미디어                     1\n",
       "이프로엔터테인먼트                      1\n",
       "비손과기혼                          1\n",
       "오렌지비즈컴                         1\n",
       "(주)컬처팩토리아지트                    1\n",
       "(주)케이디지털미디어                    1\n",
       "Name: Distribution, dtype: int64"
      ]
     },
     "execution_count": 9,
     "metadata": {},
     "output_type": "execute_result"
    }
   ],
   "source": [
    "music['Distribution'].value_counts()#.head()"
   ]
  },
  {
   "cell_type": "code",
   "execution_count": 10,
   "metadata": {},
   "outputs": [
    {
     "data": {
      "text/html": [
       "<div>\n",
       "<style scoped>\n",
       "    .dataframe tbody tr th:only-of-type {\n",
       "        vertical-align: middle;\n",
       "    }\n",
       "\n",
       "    .dataframe tbody tr th {\n",
       "        vertical-align: top;\n",
       "    }\n",
       "\n",
       "    .dataframe thead th {\n",
       "        text-align: right;\n",
       "    }\n",
       "</style>\n",
       "<table border=\"1\" class=\"dataframe\">\n",
       "  <thead>\n",
       "    <tr style=\"text-align: right;\">\n",
       "      <th></th>\n",
       "      <th>Rating</th>\n",
       "      <th>Distribution</th>\n",
       "    </tr>\n",
       "    <tr>\n",
       "      <th>Distribution</th>\n",
       "      <th></th>\n",
       "      <th></th>\n",
       "    </tr>\n",
       "  </thead>\n",
       "  <tbody>\n",
       "    <tr>\n",
       "      <th>로엔엔터테인먼트</th>\n",
       "      <td>656.7</td>\n",
       "      <td>95</td>\n",
       "    </tr>\n",
       "    <tr>\n",
       "      <th>Stone Music Entertainment</th>\n",
       "      <td>655.4</td>\n",
       "      <td>102</td>\n",
       "    </tr>\n",
       "    <tr>\n",
       "      <th>(주)지니뮤직</th>\n",
       "      <td>464.5</td>\n",
       "      <td>80</td>\n",
       "    </tr>\n",
       "    <tr>\n",
       "      <th>워너뮤직코리아</th>\n",
       "      <td>308.3</td>\n",
       "      <td>58</td>\n",
       "    </tr>\n",
       "    <tr>\n",
       "      <th>(주)미러볼뮤직</th>\n",
       "      <td>265.5</td>\n",
       "      <td>50</td>\n",
       "    </tr>\n",
       "    <tr>\n",
       "      <th>포크라노스</th>\n",
       "      <td>259.9</td>\n",
       "      <td>49</td>\n",
       "    </tr>\n",
       "    <tr>\n",
       "      <th>(주)오감엔터테인먼트</th>\n",
       "      <td>244.8</td>\n",
       "      <td>52</td>\n",
       "    </tr>\n",
       "    <tr>\n",
       "      <th>(주)다날엔터테인먼트</th>\n",
       "      <td>237.6</td>\n",
       "      <td>43</td>\n",
       "    </tr>\n",
       "    <tr>\n",
       "      <th>(주)엔에이치엔벅스</th>\n",
       "      <td>224.0</td>\n",
       "      <td>41</td>\n",
       "    </tr>\n",
       "    <tr>\n",
       "      <th>(주)아이리버</th>\n",
       "      <td>137.8</td>\n",
       "      <td>21</td>\n",
       "    </tr>\n",
       "    <tr>\n",
       "      <th>(주)블렌딩</th>\n",
       "      <td>136.8</td>\n",
       "      <td>22</td>\n",
       "    </tr>\n",
       "    <tr>\n",
       "      <th>(주)뮤직앤뉴</th>\n",
       "      <td>134.0</td>\n",
       "      <td>36</td>\n",
       "    </tr>\n",
       "    <tr>\n",
       "      <th>(주)티에스앤엔터테인먼트</th>\n",
       "      <td>122.4</td>\n",
       "      <td>33</td>\n",
       "    </tr>\n",
       "    <tr>\n",
       "      <th>(주)루미넌트엔터테인먼트</th>\n",
       "      <td>120.5</td>\n",
       "      <td>38</td>\n",
       "    </tr>\n",
       "    <tr>\n",
       "      <th>퍼플파인엔터테인먼트</th>\n",
       "      <td>81.7</td>\n",
       "      <td>20</td>\n",
       "    </tr>\n",
       "    <tr>\n",
       "      <th>(주)인터파크</th>\n",
       "      <td>75.9</td>\n",
       "      <td>12</td>\n",
       "    </tr>\n",
       "    <tr>\n",
       "      <th>(주)필뮤직</th>\n",
       "      <td>74.1</td>\n",
       "      <td>18</td>\n",
       "    </tr>\n",
       "    <tr>\n",
       "      <th>먼데이브런치</th>\n",
       "      <td>70.5</td>\n",
       "      <td>19</td>\n",
       "    </tr>\n",
       "    <tr>\n",
       "      <th>아토엔터테인먼트</th>\n",
       "      <td>69.8</td>\n",
       "      <td>25</td>\n",
       "    </tr>\n",
       "    <tr>\n",
       "      <th>(주)소리바다</th>\n",
       "      <td>69.3</td>\n",
       "      <td>24</td>\n",
       "    </tr>\n",
       "    <tr>\n",
       "      <th>비스킷 사운드</th>\n",
       "      <td>69.0</td>\n",
       "      <td>21</td>\n",
       "    </tr>\n",
       "    <tr>\n",
       "      <th>(주)코부코</th>\n",
       "      <td>62.5</td>\n",
       "      <td>19</td>\n",
       "    </tr>\n",
       "    <tr>\n",
       "      <th>소니뮤직</th>\n",
       "      <td>60.3</td>\n",
       "      <td>10</td>\n",
       "    </tr>\n",
       "    <tr>\n",
       "      <th>유니버설뮤직</th>\n",
       "      <td>60.3</td>\n",
       "      <td>11</td>\n",
       "    </tr>\n",
       "    <tr>\n",
       "      <th>(주)광수미디어</th>\n",
       "      <td>50.1</td>\n",
       "      <td>14</td>\n",
       "    </tr>\n",
       "    <tr>\n",
       "      <th>(주)우조엔터테인먼트</th>\n",
       "      <td>38.0</td>\n",
       "      <td>9</td>\n",
       "    </tr>\n",
       "    <tr>\n",
       "      <th>(사)한국음반산업협회</th>\n",
       "      <td>26.6</td>\n",
       "      <td>5</td>\n",
       "    </tr>\n",
       "    <tr>\n",
       "      <th>페이지터너AMS</th>\n",
       "      <td>25.1</td>\n",
       "      <td>4</td>\n",
       "    </tr>\n",
       "    <tr>\n",
       "      <th>민사운드스토리엔터테인먼트</th>\n",
       "      <td>18.2</td>\n",
       "      <td>9</td>\n",
       "    </tr>\n",
       "    <tr>\n",
       "      <th>(주)킹핀엔터테인먼트</th>\n",
       "      <td>17.5</td>\n",
       "      <td>4</td>\n",
       "    </tr>\n",
       "    <tr>\n",
       "      <th>YG PLUS</th>\n",
       "      <td>17.5</td>\n",
       "      <td>3</td>\n",
       "    </tr>\n",
       "    <tr>\n",
       "      <th>(주)위프엔터테인먼트</th>\n",
       "      <td>16.9</td>\n",
       "      <td>4</td>\n",
       "    </tr>\n",
       "    <tr>\n",
       "      <th>(주)엘리야엔터테인먼트</th>\n",
       "      <td>15.1</td>\n",
       "      <td>2</td>\n",
       "    </tr>\n",
       "    <tr>\n",
       "      <th>(주)사운드리퍼블리카</th>\n",
       "      <td>14.9</td>\n",
       "      <td>3</td>\n",
       "    </tr>\n",
       "    <tr>\n",
       "      <th>(주)뮤즈플랫폼</th>\n",
       "      <td>14.7</td>\n",
       "      <td>12</td>\n",
       "    </tr>\n",
       "    <tr>\n",
       "      <th>빅밴드</th>\n",
       "      <td>10.0</td>\n",
       "      <td>3</td>\n",
       "    </tr>\n",
       "    <tr>\n",
       "      <th>(주)인플래닛</th>\n",
       "      <td>9.6</td>\n",
       "      <td>2</td>\n",
       "    </tr>\n",
       "    <tr>\n",
       "      <th>이프로엔터테인먼트</th>\n",
       "      <td>9.0</td>\n",
       "      <td>1</td>\n",
       "    </tr>\n",
       "    <tr>\n",
       "      <th>(주)디지탈레코드</th>\n",
       "      <td>7.9</td>\n",
       "      <td>4</td>\n",
       "    </tr>\n",
       "    <tr>\n",
       "      <th>비손과기혼</th>\n",
       "      <td>7.7</td>\n",
       "      <td>1</td>\n",
       "    </tr>\n",
       "    <tr>\n",
       "      <th>오렌지비즈컴</th>\n",
       "      <td>7.4</td>\n",
       "      <td>1</td>\n",
       "    </tr>\n",
       "    <tr>\n",
       "      <th>파라솔뮤직</th>\n",
       "      <td>7.4</td>\n",
       "      <td>1</td>\n",
       "    </tr>\n",
       "    <tr>\n",
       "      <th>히트뱅크엔터테인먼트</th>\n",
       "      <td>7.2</td>\n",
       "      <td>1</td>\n",
       "    </tr>\n",
       "    <tr>\n",
       "      <th>에스앤제이미디어(주)</th>\n",
       "      <td>7.0</td>\n",
       "      <td>1</td>\n",
       "    </tr>\n",
       "    <tr>\n",
       "      <th>(주)케미컬레코드</th>\n",
       "      <td>6.7</td>\n",
       "      <td>1</td>\n",
       "    </tr>\n",
       "    <tr>\n",
       "      <th>KBS미디어(주)</th>\n",
       "      <td>6.0</td>\n",
       "      <td>1</td>\n",
       "    </tr>\n",
       "    <tr>\n",
       "      <th>미디어스코프(주)</th>\n",
       "      <td>5.7</td>\n",
       "      <td>2</td>\n",
       "    </tr>\n",
       "    <tr>\n",
       "      <th>(주)컬처팩토리아지트</th>\n",
       "      <td>4.2</td>\n",
       "      <td>1</td>\n",
       "    </tr>\n",
       "    <tr>\n",
       "      <th>(주)쿠킹뮤직</th>\n",
       "      <td>4.2</td>\n",
       "      <td>1</td>\n",
       "    </tr>\n",
       "    <tr>\n",
       "      <th>(주)예향엔터테인먼트</th>\n",
       "      <td>3.3</td>\n",
       "      <td>1</td>\n",
       "    </tr>\n",
       "    <tr>\n",
       "      <th>(주)케이디지털미디어</th>\n",
       "      <td>3.0</td>\n",
       "      <td>1</td>\n",
       "    </tr>\n",
       "    <tr>\n",
       "      <th>뮤직파운드</th>\n",
       "      <td>0.3</td>\n",
       "      <td>1</td>\n",
       "    </tr>\n",
       "    <tr>\n",
       "      <th>뮤시아</th>\n",
       "      <td>0.0</td>\n",
       "      <td>2</td>\n",
       "    </tr>\n",
       "    <tr>\n",
       "      <th>(주)힙합플레이야</th>\n",
       "      <td>0.0</td>\n",
       "      <td>1</td>\n",
       "    </tr>\n",
       "    <tr>\n",
       "      <th>보자기레이블&amp;미디어</th>\n",
       "      <td>0.0</td>\n",
       "      <td>1</td>\n",
       "    </tr>\n",
       "  </tbody>\n",
       "</table>\n",
       "</div>"
      ],
      "text/plain": [
       "                           Rating  Distribution\n",
       "Distribution                                   \n",
       "로엔엔터테인먼트                    656.7            95\n",
       "Stone Music Entertainment   655.4           102\n",
       "(주)지니뮤직                     464.5            80\n",
       "워너뮤직코리아                     308.3            58\n",
       "(주)미러볼뮤직                    265.5            50\n",
       "포크라노스                       259.9            49\n",
       "(주)오감엔터테인먼트                 244.8            52\n",
       "(주)다날엔터테인먼트                 237.6            43\n",
       "(주)엔에이치엔벅스                  224.0            41\n",
       "(주)아이리버                     137.8            21\n",
       "(주)블렌딩                      136.8            22\n",
       "(주)뮤직앤뉴                     134.0            36\n",
       "(주)티에스앤엔터테인먼트               122.4            33\n",
       "(주)루미넌트엔터테인먼트               120.5            38\n",
       "퍼플파인엔터테인먼트                   81.7            20\n",
       "(주)인터파크                      75.9            12\n",
       "(주)필뮤직                       74.1            18\n",
       "먼데이브런치                       70.5            19\n",
       "아토엔터테인먼트                     69.8            25\n",
       "(주)소리바다                      69.3            24\n",
       "비스킷 사운드                      69.0            21\n",
       "(주)코부코                       62.5            19\n",
       "소니뮤직                         60.3            10\n",
       "유니버설뮤직                       60.3            11\n",
       "(주)광수미디어                     50.1            14\n",
       "(주)우조엔터테인먼트                  38.0             9\n",
       "(사)한국음반산업협회                  26.6             5\n",
       "페이지터너AMS                     25.1             4\n",
       "민사운드스토리엔터테인먼트                18.2             9\n",
       "(주)킹핀엔터테인먼트                  17.5             4\n",
       "YG PLUS                      17.5             3\n",
       "(주)위프엔터테인먼트                  16.9             4\n",
       "(주)엘리야엔터테인먼트                 15.1             2\n",
       "(주)사운드리퍼블리카                  14.9             3\n",
       "(주)뮤즈플랫폼                     14.7            12\n",
       "빅밴드                          10.0             3\n",
       "(주)인플래닛                       9.6             2\n",
       "이프로엔터테인먼트                     9.0             1\n",
       "(주)디지탈레코드                     7.9             4\n",
       "비손과기혼                         7.7             1\n",
       "오렌지비즈컴                        7.4             1\n",
       "파라솔뮤직                         7.4             1\n",
       "히트뱅크엔터테인먼트                    7.2             1\n",
       "에스앤제이미디어(주)                   7.0             1\n",
       "(주)케미컬레코드                     6.7             1\n",
       "KBS미디어(주)                     6.0             1\n",
       "미디어스코프(주)                     5.7             2\n",
       "(주)컬처팩토리아지트                   4.2             1\n",
       "(주)쿠킹뮤직                       4.2             1\n",
       "(주)예향엔터테인먼트                   3.3             1\n",
       "(주)케이디지털미디어                   3.0             1\n",
       "뮤직파운드                         0.3             1\n",
       "뮤시아                           0.0             2\n",
       "(주)힙합플레이야                     0.0             1\n",
       "보자기레이블&미디어                    0.0             1"
      ]
     },
     "execution_count": 10,
     "metadata": {},
     "output_type": "execute_result"
    }
   ],
   "source": [
    "music.groupby('Distribution').agg({'Rating' : 'sum', 'Distribution' : 'count'}).sort_values(by='Rating',ascending=False)"
   ]
  },
  {
   "cell_type": "code",
   "execution_count": 11,
   "metadata": {},
   "outputs": [],
   "source": [
    "music_star = (music.groupby('Distribution')\n",
    "                 .agg({'Rating' : 'sum', \n",
    "                      'Distribution' : 'count'})\n",
    "              .sort_values(by='Rating',ascending=False))"
   ]
  },
  {
   "cell_type": "code",
   "execution_count": 12,
   "metadata": {},
   "outputs": [],
   "source": [
    "%matplotlib inline"
   ]
  },
  {
   "cell_type": "code",
   "execution_count": 13,
   "metadata": {},
   "outputs": [],
   "source": [
    "# matplotlib 한글 폰트 오류 문제 해결\n",
    "from matplotlib import font_manager, rc\n",
    "font_path = \"./data/malgun.ttf\"   #폰트파일의 위치\n",
    "font_name = font_manager.FontProperties(fname=font_path).get_name()\n",
    "rc('font', family=font_name)"
   ]
  },
  {
   "cell_type": "code",
   "execution_count": 14,
   "metadata": {},
   "outputs": [
    {
     "data": {
      "text/plain": [
       "<AxesSubplot:xlabel='Distribution'>"
      ]
     },
     "execution_count": 14,
     "metadata": {},
     "output_type": "execute_result"
    },
    {
     "data": {
      "image/png": "[encoded data removed]",
      "text/plain": [
       "<Figure size 432x288 with 1 Axes>"
      ]
     },
     "metadata": {
      "needs_background": "light"
     },
     "output_type": "display_data"
    }
   ],
   "source": [
    "music_star['Distribution'].plot()"
   ]
  },
  {
   "cell_type": "code",
   "execution_count": 15,
   "metadata": {},
   "outputs": [
    {
     "data": {
      "text/plain": [
       "<AxesSubplot:xlabel='Distribution'>"
      ]
     },
     "execution_count": 15,
     "metadata": {},
     "output_type": "execute_result"
    },
    {
     "data": {
      "image/png": "[encoded data removed]",
      "text/plain": [
       "<Figure size 432x288 with 1 Axes>"
      ]
     },
     "metadata": {
      "needs_background": "light"
     },
     "output_type": "display_data"
    }
   ],
   "source": [
    "music_star['Rating'].plot()"
   ]
  },
  {
   "cell_type": "code",
   "execution_count": 16,
   "metadata": {},
   "outputs": [
    {
     "data": {
      "text/plain": [
       "<AxesSubplot:xlabel='Distribution'>"
      ]
     },
     "execution_count": 16,
     "metadata": {},
     "output_type": "execute_result"
    },
    {
     "data": {
      "image/png": "[encoded data removed]",
      "text/plain": [
       "<Figure size 432x288 with 1 Axes>"
      ]
     },
     "metadata": {
      "needs_background": "light"
     },
     "output_type": "display_data"
    }
   ],
   "source": [
    "music_star.plot()"
   ]
  },
  {
   "cell_type": "code",
   "execution_count": 17,
   "metadata": {},
   "outputs": [
    {
     "data": {
      "text/plain": [
       "<AxesSubplot:xlabel='Rating', ylabel='Distribution'>"
      ]
     },
     "execution_count": 17,
     "metadata": {},
     "output_type": "execute_result"
    },
    {
     "data": {
      "image/png": "[encoded data removed]",
      "text/plain": [
       "<Figure size 432x288 with 1 Axes>"
      ]
     },
     "metadata": {
      "needs_background": "light"
     },
     "output_type": "display_data"
    }
   ],
   "source": [
    "music_star.plot.scatter('Rating', 'Distribution')"
   ]
  },
  {
   "cell_type": "code",
   "execution_count": null,
   "metadata": {},
   "outputs": [],
   "source": []
  },
  {
   "cell_type": "markdown",
   "metadata": {},
   "source": [
    "## 예제 10-16  연도별 음악 데이터"
   ]
  },
  {
   "cell_type": "code",
   "execution_count": 18,
   "metadata": {},
   "outputs": [],
   "source": [
    "music2 = pd.read_csv('./data/musicData2.csv', encoding='utf-8')"
   ]
  },
  {
   "cell_type": "code",
   "execution_count": 19,
   "metadata": {},
   "outputs": [
    {
     "data": {
      "text/html": [
       "<div>\n",
       "<style scoped>\n",
       "    .dataframe tbody tr th:only-of-type {\n",
       "        vertical-align: middle;\n",
       "    }\n",
       "\n",
       "    .dataframe tbody tr th {\n",
       "        vertical-align: top;\n",
       "    }\n",
       "\n",
       "    .dataframe thead th {\n",
       "        text-align: right;\n",
       "    }\n",
       "</style>\n",
       "<table border=\"1\" class=\"dataframe\">\n",
       "  <thead>\n",
       "    <tr style=\"text-align: right;\">\n",
       "      <th></th>\n",
       "      <th>Year</th>\n",
       "      <th>Month</th>\n",
       "      <th>Album Title</th>\n",
       "      <th>Artist Name</th>\n",
       "      <th>Genre</th>\n",
       "      <th>Date</th>\n",
       "      <th>Distribution</th>\n",
       "      <th>Rating</th>\n",
       "      <th>Music Count</th>\n",
       "    </tr>\n",
       "  </thead>\n",
       "  <tbody>\n",
       "    <tr>\n",
       "      <th>0</th>\n",
       "      <td>2017</td>\n",
       "      <td>1</td>\n",
       "      <td>Boys and Girls Music Vol. 1</td>\n",
       "      <td>샘김</td>\n",
       "      <td>알앤비/어반</td>\n",
       "      <td>2017.01.25</td>\n",
       "      <td>로엔 엔터테인먼트</td>\n",
       "      <td>8.6</td>\n",
       "      <td>2</td>\n",
       "    </tr>\n",
       "    <tr>\n",
       "      <th>1</th>\n",
       "      <td>2017</td>\n",
       "      <td>1</td>\n",
       "      <td>여자친구 The 1st Album 'LOL'</td>\n",
       "      <td>여자친구(GFRIEND)</td>\n",
       "      <td>댄스</td>\n",
       "      <td>2016.07.11</td>\n",
       "      <td>로엔엔터테인먼트</td>\n",
       "      <td>8.1</td>\n",
       "      <td>12</td>\n",
       "    </tr>\n",
       "    <tr>\n",
       "      <th>2</th>\n",
       "      <td>2017</td>\n",
       "      <td>1</td>\n",
       "      <td>Collage (EP)</td>\n",
       "      <td>The Chainsmokers</td>\n",
       "      <td>일렉트로니카</td>\n",
       "      <td>2016.11.05</td>\n",
       "      <td>소니뮤직</td>\n",
       "      <td>7.5</td>\n",
       "      <td>5</td>\n",
       "    </tr>\n",
       "    <tr>\n",
       "      <th>3</th>\n",
       "      <td>2017</td>\n",
       "      <td>1</td>\n",
       "      <td>If You</td>\n",
       "      <td>에일리</td>\n",
       "      <td>발라드</td>\n",
       "      <td>2016.08.23</td>\n",
       "      <td>로엔 엔터테인먼트</td>\n",
       "      <td>6.9</td>\n",
       "      <td>1</td>\n",
       "    </tr>\n",
       "    <tr>\n",
       "      <th>4</th>\n",
       "      <td>2017</td>\n",
       "      <td>1</td>\n",
       "      <td>세 단어</td>\n",
       "      <td>젝스키스</td>\n",
       "      <td>발라드</td>\n",
       "      <td>2016.10.07</td>\n",
       "      <td>YG PLUS</td>\n",
       "      <td>9.0</td>\n",
       "      <td>1</td>\n",
       "    </tr>\n",
       "  </tbody>\n",
       "</table>\n",
       "</div>"
      ],
      "text/plain": [
       "   Year  Month                  Album Title       Artist Name   Genre  \\\n",
       "0  2017      1  Boys and Girls Music Vol. 1                샘김  알앤비/어반   \n",
       "1  2017      1     여자친구 The 1st Album 'LOL'     여자친구(GFRIEND)      댄스   \n",
       "2  2017      1                 Collage (EP)  The Chainsmokers  일렉트로니카   \n",
       "3  2017      1                       If You               에일리     발라드   \n",
       "4  2017      1                         세 단어              젝스키스     발라드   \n",
       "\n",
       "         Date Distribution  Rating  Music Count  \n",
       "0  2017.01.25    로엔 엔터테인먼트     8.6            2  \n",
       "1  2016.07.11     로엔엔터테인먼트     8.1           12  \n",
       "2  2016.11.05         소니뮤직     7.5            5  \n",
       "3  2016.08.23    로엔 엔터테인먼트     6.9            1  \n",
       "4  2016.10.07      YG PLUS     9.0            1  "
      ]
     },
     "execution_count": 19,
     "metadata": {},
     "output_type": "execute_result"
    }
   ],
   "source": [
    "music2.head()"
   ]
  },
  {
   "cell_type": "code",
   "execution_count": 20,
   "metadata": {},
   "outputs": [
    {
     "name": "stdout",
     "output_type": "stream",
     "text": [
      "<class 'pandas.core.frame.DataFrame'>\n",
      "RangeIndex: 2178 entries, 0 to 2177\n",
      "Data columns (total 9 columns):\n",
      " #   Column        Non-Null Count  Dtype  \n",
      "---  ------        --------------  -----  \n",
      " 0   Year          2178 non-null   int64  \n",
      " 1   Month         2178 non-null   int64  \n",
      " 2   Album Title   2178 non-null   object \n",
      " 3   Artist Name   2178 non-null   object \n",
      " 4   Genre         2177 non-null   object \n",
      " 5   Date          2178 non-null   object \n",
      " 6   Distribution  2178 non-null   object \n",
      " 7   Rating        2178 non-null   float64\n",
      " 8   Music Count   2178 non-null   int64  \n",
      "dtypes: float64(1), int64(3), object(5)\n",
      "memory usage: 153.3+ KB\n"
     ]
    }
   ],
   "source": [
    "music2.info()"
   ]
  },
  {
   "cell_type": "code",
   "execution_count": 21,
   "metadata": {},
   "outputs": [
    {
     "data": {
      "text/html": [
       "<div>\n",
       "<style scoped>\n",
       "    .dataframe tbody tr th:only-of-type {\n",
       "        vertical-align: middle;\n",
       "    }\n",
       "\n",
       "    .dataframe tbody tr th {\n",
       "        vertical-align: top;\n",
       "    }\n",
       "\n",
       "    .dataframe thead th {\n",
       "        text-align: right;\n",
       "    }\n",
       "</style>\n",
       "<table border=\"1\" class=\"dataframe\">\n",
       "  <thead>\n",
       "    <tr style=\"text-align: right;\">\n",
       "      <th></th>\n",
       "      <th>Year</th>\n",
       "      <th>Month</th>\n",
       "      <th>Rating</th>\n",
       "      <th>Music Count</th>\n",
       "    </tr>\n",
       "  </thead>\n",
       "  <tbody>\n",
       "    <tr>\n",
       "      <th>0</th>\n",
       "      <td>2017</td>\n",
       "      <td>1</td>\n",
       "      <td>8.6</td>\n",
       "      <td>2</td>\n",
       "    </tr>\n",
       "    <tr>\n",
       "      <th>1</th>\n",
       "      <td>2017</td>\n",
       "      <td>1</td>\n",
       "      <td>8.1</td>\n",
       "      <td>12</td>\n",
       "    </tr>\n",
       "    <tr>\n",
       "      <th>2</th>\n",
       "      <td>2017</td>\n",
       "      <td>1</td>\n",
       "      <td>7.5</td>\n",
       "      <td>5</td>\n",
       "    </tr>\n",
       "    <tr>\n",
       "      <th>3</th>\n",
       "      <td>2017</td>\n",
       "      <td>1</td>\n",
       "      <td>6.9</td>\n",
       "      <td>1</td>\n",
       "    </tr>\n",
       "    <tr>\n",
       "      <th>4</th>\n",
       "      <td>2017</td>\n",
       "      <td>1</td>\n",
       "      <td>9.0</td>\n",
       "      <td>1</td>\n",
       "    </tr>\n",
       "    <tr>\n",
       "      <th>...</th>\n",
       "      <td>...</td>\n",
       "      <td>...</td>\n",
       "      <td>...</td>\n",
       "      <td>...</td>\n",
       "    </tr>\n",
       "    <tr>\n",
       "      <th>2173</th>\n",
       "      <td>2018</td>\n",
       "      <td>10</td>\n",
       "      <td>7.1</td>\n",
       "      <td>10</td>\n",
       "    </tr>\n",
       "    <tr>\n",
       "      <th>2174</th>\n",
       "      <td>2018</td>\n",
       "      <td>10</td>\n",
       "      <td>8.6</td>\n",
       "      <td>7</td>\n",
       "    </tr>\n",
       "    <tr>\n",
       "      <th>2175</th>\n",
       "      <td>2018</td>\n",
       "      <td>10</td>\n",
       "      <td>3.7</td>\n",
       "      <td>4</td>\n",
       "    </tr>\n",
       "    <tr>\n",
       "      <th>2176</th>\n",
       "      <td>2018</td>\n",
       "      <td>10</td>\n",
       "      <td>7.0</td>\n",
       "      <td>2</td>\n",
       "    </tr>\n",
       "    <tr>\n",
       "      <th>2177</th>\n",
       "      <td>2018</td>\n",
       "      <td>10</td>\n",
       "      <td>8.5</td>\n",
       "      <td>14</td>\n",
       "    </tr>\n",
       "  </tbody>\n",
       "</table>\n",
       "<p>2178 rows × 4 columns</p>\n",
       "</div>"
      ],
      "text/plain": [
       "      Year  Month  Rating  Music Count\n",
       "0     2017      1     8.6            2\n",
       "1     2017      1     8.1           12\n",
       "2     2017      1     7.5            5\n",
       "3     2017      1     6.9            1\n",
       "4     2017      1     9.0            1\n",
       "...    ...    ...     ...          ...\n",
       "2173  2018     10     7.1           10\n",
       "2174  2018     10     8.6            7\n",
       "2175  2018     10     3.7            4\n",
       "2176  2018     10     7.0            2\n",
       "2177  2018     10     8.5           14\n",
       "\n",
       "[2178 rows x 4 columns]"
      ]
     },
     "execution_count": 21,
     "metadata": {},
     "output_type": "execute_result"
    }
   ],
   "source": [
    "music2.select_dtypes(include=['number'])#.head()"
   ]
  },
  {
   "cell_type": "code",
   "execution_count": 22,
   "metadata": {},
   "outputs": [
    {
     "data": {
      "text/plain": [
       "댄스                              548\n",
       "발라드                             409\n",
       "랩/힙합                            300\n",
       "알앤비/어반                          172\n",
       "드라마음악                           141\n",
       "포크                               96\n",
       "팝                                91\n",
       "발라드,  댄스                         89\n",
       "댄스,  발라드                         56\n",
       "발라드,  알앤비/어반                     47\n",
       "댄스,  알앤비/어반                      38\n",
       "댄스,  발라드,  알앤비/어반,  랩/힙합,  락     24\n",
       "락                                21\n",
       "발라드,  락,  포크                     18\n",
       "팝,  얼터너티브 락                      13\n",
       "댄스,  알앤비/어반,  일렉트로니카             13\n",
       "일렉트로니카,  댄스,  알앤비/어반             13\n",
       "발라드,  알앤비/어반,  포크                12\n",
       "일렉트로니카                            9\n",
       "포크,  인디뮤직                         9\n",
       "발라드,  댄스,  알앤비/어반                 8\n",
       "인디뮤직,  포크                         7\n",
       "알앤비/어반,  발라드,  댄스                 6\n",
       "드라마음악,  드라마음악                     5\n",
       "발라드,  재즈                          4\n",
       "인디뮤직,  랩/힙합                       4\n",
       "일렉트로니카,  인디뮤직                     4\n",
       "댄스,  일렉트로니카                       4\n",
       "일렉트로니카,  댄스,  알앤비/어반,  발라드        2\n",
       "클럽/댄스                             2\n",
       "TV                                2\n",
       "유럽 음악                             2\n",
       "인디뮤직                              1\n",
       "얼터너티브 락                           1\n",
       "영화음악                              1\n",
       "댄스,  발라드,  랩/힙합,  알앤비/어반          1\n",
       "발라드,  락                           1\n",
       "뮤지컬                               1\n",
       "팝,  캐롤                            1\n",
       "발라드,  댄스,  알앤비/어반,  일렉트로니카        1\n",
       "Name: Genre, dtype: int64"
      ]
     },
     "execution_count": 22,
     "metadata": {},
     "output_type": "execute_result"
    }
   ],
   "source": [
    "music2[\"Genre\"].value_counts()#.head()"
   ]
  },
  {
   "cell_type": "code",
   "execution_count": 23,
   "metadata": {},
   "outputs": [],
   "source": [
    "#pd.set_option('chained',None)"
   ]
  },
  {
   "cell_type": "code",
   "execution_count": 24,
   "metadata": {},
   "outputs": [
    {
     "data": {
      "text/plain": [
       "1"
      ]
     },
     "execution_count": 24,
     "metadata": {},
     "output_type": "execute_result"
    }
   ],
   "source": [
    "music2['Genre'].isnull().sum()"
   ]
  },
  {
   "cell_type": "code",
   "execution_count": 25,
   "metadata": {},
   "outputs": [
    {
     "data": {
      "text/html": [
       "<div>\n",
       "<style scoped>\n",
       "    .dataframe tbody tr th:only-of-type {\n",
       "        vertical-align: middle;\n",
       "    }\n",
       "\n",
       "    .dataframe tbody tr th {\n",
       "        vertical-align: top;\n",
       "    }\n",
       "\n",
       "    .dataframe thead th {\n",
       "        text-align: right;\n",
       "    }\n",
       "</style>\n",
       "<table border=\"1\" class=\"dataframe\">\n",
       "  <thead>\n",
       "    <tr style=\"text-align: right;\">\n",
       "      <th></th>\n",
       "      <th>Year</th>\n",
       "      <th>Month</th>\n",
       "      <th>Album Title</th>\n",
       "      <th>Artist Name</th>\n",
       "      <th>Genre</th>\n",
       "      <th>Date</th>\n",
       "      <th>Distribution</th>\n",
       "      <th>Rating</th>\n",
       "      <th>Music Count</th>\n",
       "    </tr>\n",
       "  </thead>\n",
       "  <tbody>\n",
       "    <tr>\n",
       "      <th>1104</th>\n",
       "      <td>2017</td>\n",
       "      <td>12</td>\n",
       "      <td>All I Want For Christmas (EP)</td>\n",
       "      <td>Mariah Carey</td>\n",
       "      <td>NaN</td>\n",
       "      <td>2007.11.26</td>\n",
       "      <td>Sony Music</td>\n",
       "      <td>8.9</td>\n",
       "      <td>3</td>\n",
       "    </tr>\n",
       "  </tbody>\n",
       "</table>\n",
       "</div>"
      ],
      "text/plain": [
       "      Year  Month                    Album Title   Artist Name Genre  \\\n",
       "1104  2017     12  All I Want For Christmas (EP)  Mariah Carey   NaN   \n",
       "\n",
       "            Date Distribution  Rating  Music Count  \n",
       "1104  2007.11.26   Sony Music     8.9            3  "
      ]
     },
     "execution_count": 25,
     "metadata": {},
     "output_type": "execute_result"
    }
   ],
   "source": [
    "music2[music2['Genre'].isnull()]"
   ]
  },
  {
   "cell_type": "code",
   "execution_count": 26,
   "metadata": {},
   "outputs": [
    {
     "data": {
      "text/plain": [
       "nan"
      ]
     },
     "execution_count": 26,
     "metadata": {},
     "output_type": "execute_result"
    }
   ],
   "source": [
    "music2.loc[1104 , 'Genre']"
   ]
  },
  {
   "cell_type": "code",
   "execution_count": 27,
   "metadata": {},
   "outputs": [],
   "source": [
    "music2.loc[1104, 'Genre'] = '팝'"
   ]
  },
  {
   "cell_type": "code",
   "execution_count": 28,
   "metadata": {
    "scrolled": true
   },
   "outputs": [
    {
     "data": {
      "text/plain": [
       "Year            0\n",
       "Month           0\n",
       "Album Title     0\n",
       "Artist Name     0\n",
       "Genre           0\n",
       "Date            0\n",
       "Distribution    0\n",
       "Rating          0\n",
       "Music Count     0\n",
       "dtype: int64"
      ]
     },
     "execution_count": 28,
     "metadata": {},
     "output_type": "execute_result"
    }
   ],
   "source": [
    "music2.isnull().sum()"
   ]
  },
  {
   "cell_type": "code",
   "execution_count": 29,
   "metadata": {},
   "outputs": [
    {
     "data": {
      "text/plain": [
       "Year                                     2017\n",
       "Month                                      12\n",
       "Album Title     All I Want For Christmas (EP)\n",
       "Artist Name                      Mariah Carey\n",
       "Genre                                       팝\n",
       "Date                               2007.11.26\n",
       "Distribution                       Sony Music\n",
       "Rating                                    8.9\n",
       "Music Count                                 3\n",
       "Name: 1104, dtype: object"
      ]
     },
     "execution_count": 29,
     "metadata": {},
     "output_type": "execute_result"
    }
   ],
   "source": [
    "music2.loc[1104]"
   ]
  },
  {
   "cell_type": "code",
   "execution_count": 30,
   "metadata": {},
   "outputs": [],
   "source": [
    "#music2.Year.astype('str')\n",
    "#music2.Month.astype('str')\n",
    "#music2.Year.astype('str') + \"/\" + music2.Month.astype('str')"
   ]
  },
  {
   "cell_type": "code",
   "execution_count": 31,
   "metadata": {},
   "outputs": [],
   "source": [
    "music2[\"YearMonth\"] = music2.Year.astype('str') + \"/\" + music2.Month.astype('str')"
   ]
  },
  {
   "cell_type": "code",
   "execution_count": 32,
   "metadata": {},
   "outputs": [
    {
     "data": {
      "text/plain": [
       "0    2017/1\n",
       "1    2017/1\n",
       "2    2017/1\n",
       "3    2017/1\n",
       "4    2017/1\n",
       "Name: YearMonth, dtype: object"
      ]
     },
     "execution_count": 32,
     "metadata": {},
     "output_type": "execute_result"
    }
   ],
   "source": [
    "music2[\"YearMonth\"].head()"
   ]
  },
  {
   "cell_type": "code",
   "execution_count": 33,
   "metadata": {},
   "outputs": [
    {
     "data": {
      "text/plain": [
       "2173    2018/10\n",
       "2174    2018/10\n",
       "2175    2018/10\n",
       "2176    2018/10\n",
       "2177    2018/10\n",
       "Name: YearMonth, dtype: object"
      ]
     },
     "execution_count": 33,
     "metadata": {},
     "output_type": "execute_result"
    }
   ],
   "source": [
    "music2[\"YearMonth\"].tail()"
   ]
  },
  {
   "cell_type": "code",
   "execution_count": 34,
   "metadata": {},
   "outputs": [
    {
     "data": {
      "text/plain": [
       "0"
      ]
     },
     "execution_count": 34,
     "metadata": {},
     "output_type": "execute_result"
    }
   ],
   "source": [
    "music2[\"YearMonth\"].isnull().sum()"
   ]
  },
  {
   "cell_type": "code",
   "execution_count": 35,
   "metadata": {},
   "outputs": [
    {
     "data": {
      "text/plain": [
       "0      2017-01-01\n",
       "1      2017-01-01\n",
       "2      2017-01-01\n",
       "3      2017-01-01\n",
       "4      2017-01-01\n",
       "          ...    \n",
       "2173   2018-10-01\n",
       "2174   2018-10-01\n",
       "2175   2018-10-01\n",
       "2176   2018-10-01\n",
       "2177   2018-10-01\n",
       "Name: YearMonth, Length: 2178, dtype: datetime64[ns]"
      ]
     },
     "execution_count": 35,
     "metadata": {},
     "output_type": "execute_result"
    }
   ],
   "source": [
    "pd.to_datetime(music2[\"YearMonth\"], format='%Y/%m')"
   ]
  },
  {
   "cell_type": "code",
   "execution_count": 35,
   "metadata": {},
   "outputs": [],
   "source": [
    "#pd.to_datetime(music2[\"YearMonth\"], format='%Y/%m').head()"
   ]
  },
  {
   "cell_type": "code",
   "execution_count": 36,
   "metadata": {},
   "outputs": [
    {
     "data": {
      "text/html": [
       "<div>\n",
       "<style scoped>\n",
       "    .dataframe tbody tr th:only-of-type {\n",
       "        vertical-align: middle;\n",
       "    }\n",
       "\n",
       "    .dataframe tbody tr th {\n",
       "        vertical-align: top;\n",
       "    }\n",
       "\n",
       "    .dataframe thead th {\n",
       "        text-align: right;\n",
       "    }\n",
       "</style>\n",
       "<table border=\"1\" class=\"dataframe\">\n",
       "  <thead>\n",
       "    <tr style=\"text-align: right;\">\n",
       "      <th></th>\n",
       "      <th>Year</th>\n",
       "      <th>Month</th>\n",
       "      <th>Album Title</th>\n",
       "      <th>Artist Name</th>\n",
       "      <th>Genre</th>\n",
       "      <th>Date</th>\n",
       "      <th>Distribution</th>\n",
       "      <th>Rating</th>\n",
       "      <th>Music Count</th>\n",
       "      <th>YearMonth</th>\n",
       "    </tr>\n",
       "  </thead>\n",
       "  <tbody>\n",
       "    <tr>\n",
       "      <th>0</th>\n",
       "      <td>2017</td>\n",
       "      <td>1</td>\n",
       "      <td>Boys and Girls Music Vol. 1</td>\n",
       "      <td>샘김</td>\n",
       "      <td>알앤비/어반</td>\n",
       "      <td>2017.01.25</td>\n",
       "      <td>로엔 엔터테인먼트</td>\n",
       "      <td>8.6</td>\n",
       "      <td>2</td>\n",
       "      <td>2017/1</td>\n",
       "    </tr>\n",
       "    <tr>\n",
       "      <th>1</th>\n",
       "      <td>2017</td>\n",
       "      <td>1</td>\n",
       "      <td>여자친구 The 1st Album 'LOL'</td>\n",
       "      <td>여자친구(GFRIEND)</td>\n",
       "      <td>댄스</td>\n",
       "      <td>2016.07.11</td>\n",
       "      <td>로엔엔터테인먼트</td>\n",
       "      <td>8.1</td>\n",
       "      <td>12</td>\n",
       "      <td>2017/1</td>\n",
       "    </tr>\n",
       "    <tr>\n",
       "      <th>2</th>\n",
       "      <td>2017</td>\n",
       "      <td>1</td>\n",
       "      <td>Collage (EP)</td>\n",
       "      <td>The Chainsmokers</td>\n",
       "      <td>일렉트로니카</td>\n",
       "      <td>2016.11.05</td>\n",
       "      <td>소니뮤직</td>\n",
       "      <td>7.5</td>\n",
       "      <td>5</td>\n",
       "      <td>2017/1</td>\n",
       "    </tr>\n",
       "    <tr>\n",
       "      <th>3</th>\n",
       "      <td>2017</td>\n",
       "      <td>1</td>\n",
       "      <td>If You</td>\n",
       "      <td>에일리</td>\n",
       "      <td>발라드</td>\n",
       "      <td>2016.08.23</td>\n",
       "      <td>로엔 엔터테인먼트</td>\n",
       "      <td>6.9</td>\n",
       "      <td>1</td>\n",
       "      <td>2017/1</td>\n",
       "    </tr>\n",
       "    <tr>\n",
       "      <th>4</th>\n",
       "      <td>2017</td>\n",
       "      <td>1</td>\n",
       "      <td>세 단어</td>\n",
       "      <td>젝스키스</td>\n",
       "      <td>발라드</td>\n",
       "      <td>2016.10.07</td>\n",
       "      <td>YG PLUS</td>\n",
       "      <td>9.0</td>\n",
       "      <td>1</td>\n",
       "      <td>2017/1</td>\n",
       "    </tr>\n",
       "    <tr>\n",
       "      <th>...</th>\n",
       "      <td>...</td>\n",
       "      <td>...</td>\n",
       "      <td>...</td>\n",
       "      <td>...</td>\n",
       "      <td>...</td>\n",
       "      <td>...</td>\n",
       "      <td>...</td>\n",
       "      <td>...</td>\n",
       "      <td>...</td>\n",
       "      <td>...</td>\n",
       "    </tr>\n",
       "    <tr>\n",
       "      <th>2173</th>\n",
       "      <td>2018</td>\n",
       "      <td>10</td>\n",
       "      <td>RECIPE</td>\n",
       "      <td>벤</td>\n",
       "      <td>발라드</td>\n",
       "      <td>2018.05.08</td>\n",
       "      <td>(주)지니뮤직</td>\n",
       "      <td>7.1</td>\n",
       "      <td>10</td>\n",
       "      <td>2018/10</td>\n",
       "    </tr>\n",
       "    <tr>\n",
       "      <th>2174</th>\n",
       "      <td>2018</td>\n",
       "      <td>10</td>\n",
       "      <td>Eyes On You</td>\n",
       "      <td>GOT7 (갓세븐)</td>\n",
       "      <td>댄스,  알앤비/어반</td>\n",
       "      <td>2018.03.12</td>\n",
       "      <td>(주)아이리버</td>\n",
       "      <td>8.6</td>\n",
       "      <td>7</td>\n",
       "      <td>2018/10</td>\n",
       "    </tr>\n",
       "    <tr>\n",
       "      <th>2175</th>\n",
       "      <td>2018</td>\n",
       "      <td>10</td>\n",
       "      <td>Take</td>\n",
       "      <td>숀(SHAUN)</td>\n",
       "      <td>일렉트로니카,  인디뮤직</td>\n",
       "      <td>2018.06.27</td>\n",
       "      <td>워너뮤직코리아</td>\n",
       "      <td>3.7</td>\n",
       "      <td>4</td>\n",
       "      <td>2018/10</td>\n",
       "    </tr>\n",
       "    <tr>\n",
       "      <th>2176</th>\n",
       "      <td>2018</td>\n",
       "      <td>10</td>\n",
       "      <td>우리 그만하자</td>\n",
       "      <td>로이킴</td>\n",
       "      <td>발라드</td>\n",
       "      <td>2018.09.18</td>\n",
       "      <td>(주)지니뮤직</td>\n",
       "      <td>7.0</td>\n",
       "      <td>2</td>\n",
       "      <td>2018/10</td>\n",
       "    </tr>\n",
       "    <tr>\n",
       "      <th>2177</th>\n",
       "      <td>2018</td>\n",
       "      <td>10</td>\n",
       "      <td>하루도 그대를 사랑하지 않은 적이 없었다</td>\n",
       "      <td>임창정</td>\n",
       "      <td>발라드,  댄스</td>\n",
       "      <td>2018.09.19</td>\n",
       "      <td>(주)인터파크</td>\n",
       "      <td>8.5</td>\n",
       "      <td>14</td>\n",
       "      <td>2018/10</td>\n",
       "    </tr>\n",
       "  </tbody>\n",
       "</table>\n",
       "<p>2178 rows × 10 columns</p>\n",
       "</div>"
      ],
      "text/plain": [
       "      Year  Month                  Album Title       Artist Name  \\\n",
       "0     2017      1  Boys and Girls Music Vol. 1                샘김   \n",
       "1     2017      1     여자친구 The 1st Album 'LOL'     여자친구(GFRIEND)   \n",
       "2     2017      1                 Collage (EP)  The Chainsmokers   \n",
       "3     2017      1                       If You               에일리   \n",
       "4     2017      1                         세 단어              젝스키스   \n",
       "...    ...    ...                          ...               ...   \n",
       "2173  2018     10                       RECIPE                 벤   \n",
       "2174  2018     10                  Eyes On You        GOT7 (갓세븐)   \n",
       "2175  2018     10                         Take          숀(SHAUN)   \n",
       "2176  2018     10                      우리 그만하자               로이킴   \n",
       "2177  2018     10       하루도 그대를 사랑하지 않은 적이 없었다               임창정   \n",
       "\n",
       "              Genre        Date Distribution  Rating  Music Count YearMonth  \n",
       "0            알앤비/어반  2017.01.25    로엔 엔터테인먼트     8.6            2    2017/1  \n",
       "1                댄스  2016.07.11     로엔엔터테인먼트     8.1           12    2017/1  \n",
       "2            일렉트로니카  2016.11.05         소니뮤직     7.5            5    2017/1  \n",
       "3               발라드  2016.08.23    로엔 엔터테인먼트     6.9            1    2017/1  \n",
       "4               발라드  2016.10.07      YG PLUS     9.0            1    2017/1  \n",
       "...             ...         ...          ...     ...          ...       ...  \n",
       "2173            발라드  2018.05.08      (주)지니뮤직     7.1           10   2018/10  \n",
       "2174    댄스,  알앤비/어반  2018.03.12      (주)아이리버     8.6            7   2018/10  \n",
       "2175  일렉트로니카,  인디뮤직  2018.06.27      워너뮤직코리아     3.7            4   2018/10  \n",
       "2176            발라드  2018.09.18      (주)지니뮤직     7.0            2   2018/10  \n",
       "2177       발라드,  댄스  2018.09.19      (주)인터파크     8.5           14   2018/10  \n",
       "\n",
       "[2178 rows x 10 columns]"
      ]
     },
     "execution_count": 36,
     "metadata": {},
     "output_type": "execute_result"
    }
   ],
   "source": [
    "music2"
   ]
  },
  {
   "cell_type": "code",
   "execution_count": 37,
   "metadata": {},
   "outputs": [],
   "source": [
    "music3 = music2.copy()"
   ]
  },
  {
   "cell_type": "code",
   "execution_count": 38,
   "metadata": {},
   "outputs": [],
   "source": [
    "music3[\"YearMonth\"] = pd.to_datetime(music2[\"YearMonth\"], format='%Y/%m')"
   ]
  },
  {
   "cell_type": "code",
   "execution_count": 39,
   "metadata": {},
   "outputs": [
    {
     "data": {
      "text/plain": [
       "dtype('<M8[ns]')"
      ]
     },
     "execution_count": 39,
     "metadata": {},
     "output_type": "execute_result"
    }
   ],
   "source": [
    "music3[\"YearMonth\"].dtype"
   ]
  },
  {
   "cell_type": "code",
   "execution_count": 40,
   "metadata": {},
   "outputs": [
    {
     "data": {
      "text/html": [
       "<div>\n",
       "<style scoped>\n",
       "    .dataframe tbody tr th:only-of-type {\n",
       "        vertical-align: middle;\n",
       "    }\n",
       "\n",
       "    .dataframe tbody tr th {\n",
       "        vertical-align: top;\n",
       "    }\n",
       "\n",
       "    .dataframe thead th {\n",
       "        text-align: right;\n",
       "    }\n",
       "</style>\n",
       "<table border=\"1\" class=\"dataframe\">\n",
       "  <thead>\n",
       "    <tr style=\"text-align: right;\">\n",
       "      <th></th>\n",
       "      <th>Year</th>\n",
       "      <th>Month</th>\n",
       "      <th>Album Title</th>\n",
       "      <th>Artist Name</th>\n",
       "      <th>Genre</th>\n",
       "      <th>Date</th>\n",
       "      <th>Distribution</th>\n",
       "      <th>Rating</th>\n",
       "      <th>Music Count</th>\n",
       "      <th>YearMonth</th>\n",
       "    </tr>\n",
       "  </thead>\n",
       "  <tbody>\n",
       "    <tr>\n",
       "      <th>0</th>\n",
       "      <td>2017</td>\n",
       "      <td>1</td>\n",
       "      <td>Boys and Girls Music Vol. 1</td>\n",
       "      <td>샘김</td>\n",
       "      <td>알앤비/어반</td>\n",
       "      <td>2017.01.25</td>\n",
       "      <td>로엔 엔터테인먼트</td>\n",
       "      <td>8.6</td>\n",
       "      <td>2</td>\n",
       "      <td>2017-01-01</td>\n",
       "    </tr>\n",
       "    <tr>\n",
       "      <th>1</th>\n",
       "      <td>2017</td>\n",
       "      <td>1</td>\n",
       "      <td>여자친구 The 1st Album 'LOL'</td>\n",
       "      <td>여자친구(GFRIEND)</td>\n",
       "      <td>댄스</td>\n",
       "      <td>2016.07.11</td>\n",
       "      <td>로엔엔터테인먼트</td>\n",
       "      <td>8.1</td>\n",
       "      <td>12</td>\n",
       "      <td>2017-01-01</td>\n",
       "    </tr>\n",
       "    <tr>\n",
       "      <th>2</th>\n",
       "      <td>2017</td>\n",
       "      <td>1</td>\n",
       "      <td>Collage (EP)</td>\n",
       "      <td>The Chainsmokers</td>\n",
       "      <td>일렉트로니카</td>\n",
       "      <td>2016.11.05</td>\n",
       "      <td>소니뮤직</td>\n",
       "      <td>7.5</td>\n",
       "      <td>5</td>\n",
       "      <td>2017-01-01</td>\n",
       "    </tr>\n",
       "    <tr>\n",
       "      <th>3</th>\n",
       "      <td>2017</td>\n",
       "      <td>1</td>\n",
       "      <td>If You</td>\n",
       "      <td>에일리</td>\n",
       "      <td>발라드</td>\n",
       "      <td>2016.08.23</td>\n",
       "      <td>로엔 엔터테인먼트</td>\n",
       "      <td>6.9</td>\n",
       "      <td>1</td>\n",
       "      <td>2017-01-01</td>\n",
       "    </tr>\n",
       "    <tr>\n",
       "      <th>4</th>\n",
       "      <td>2017</td>\n",
       "      <td>1</td>\n",
       "      <td>세 단어</td>\n",
       "      <td>젝스키스</td>\n",
       "      <td>발라드</td>\n",
       "      <td>2016.10.07</td>\n",
       "      <td>YG PLUS</td>\n",
       "      <td>9.0</td>\n",
       "      <td>1</td>\n",
       "      <td>2017-01-01</td>\n",
       "    </tr>\n",
       "  </tbody>\n",
       "</table>\n",
       "</div>"
      ],
      "text/plain": [
       "   Year  Month                  Album Title       Artist Name   Genre  \\\n",
       "0  2017      1  Boys and Girls Music Vol. 1                샘김  알앤비/어반   \n",
       "1  2017      1     여자친구 The 1st Album 'LOL'     여자친구(GFRIEND)      댄스   \n",
       "2  2017      1                 Collage (EP)  The Chainsmokers  일렉트로니카   \n",
       "3  2017      1                       If You               에일리     발라드   \n",
       "4  2017      1                         세 단어              젝스키스     발라드   \n",
       "\n",
       "         Date Distribution  Rating  Music Count  YearMonth  \n",
       "0  2017.01.25    로엔 엔터테인먼트     8.6            2 2017-01-01  \n",
       "1  2016.07.11     로엔엔터테인먼트     8.1           12 2017-01-01  \n",
       "2  2016.11.05         소니뮤직     7.5            5 2017-01-01  \n",
       "3  2016.08.23    로엔 엔터테인먼트     6.9            1 2017-01-01  \n",
       "4  2016.10.07      YG PLUS     9.0            1 2017-01-01  "
      ]
     },
     "execution_count": 40,
     "metadata": {},
     "output_type": "execute_result"
    }
   ],
   "source": [
    "music3.head()"
   ]
  },
  {
   "cell_type": "code",
   "execution_count": 41,
   "metadata": {},
   "outputs": [
    {
     "data": {
      "text/html": [
       "<div>\n",
       "<style scoped>\n",
       "    .dataframe tbody tr th:only-of-type {\n",
       "        vertical-align: middle;\n",
       "    }\n",
       "\n",
       "    .dataframe tbody tr th {\n",
       "        vertical-align: top;\n",
       "    }\n",
       "\n",
       "    .dataframe thead th {\n",
       "        text-align: right;\n",
       "    }\n",
       "</style>\n",
       "<table border=\"1\" class=\"dataframe\">\n",
       "  <thead>\n",
       "    <tr style=\"text-align: right;\">\n",
       "      <th></th>\n",
       "      <th>Year</th>\n",
       "      <th>Month</th>\n",
       "      <th>Album Title</th>\n",
       "      <th>Artist Name</th>\n",
       "      <th>Genre</th>\n",
       "      <th>Date</th>\n",
       "      <th>Distribution</th>\n",
       "      <th>Rating</th>\n",
       "      <th>Music Count</th>\n",
       "      <th>YearMonth</th>\n",
       "    </tr>\n",
       "  </thead>\n",
       "  <tbody>\n",
       "    <tr>\n",
       "      <th>0</th>\n",
       "      <td>2017</td>\n",
       "      <td>1</td>\n",
       "      <td>Boys and Girls Music Vol. 1</td>\n",
       "      <td>샘김</td>\n",
       "      <td>알앤비/어반</td>\n",
       "      <td>2017.01.25</td>\n",
       "      <td>로엔 엔터테인먼트</td>\n",
       "      <td>8.6</td>\n",
       "      <td>2</td>\n",
       "      <td>2017-01-01</td>\n",
       "    </tr>\n",
       "    <tr>\n",
       "      <th>1</th>\n",
       "      <td>2017</td>\n",
       "      <td>1</td>\n",
       "      <td>여자친구 The 1st Album 'LOL'</td>\n",
       "      <td>여자친구(GFRIEND)</td>\n",
       "      <td>댄스</td>\n",
       "      <td>2016.07.11</td>\n",
       "      <td>로엔엔터테인먼트</td>\n",
       "      <td>8.1</td>\n",
       "      <td>12</td>\n",
       "      <td>2017-01-01</td>\n",
       "    </tr>\n",
       "    <tr>\n",
       "      <th>2</th>\n",
       "      <td>2017</td>\n",
       "      <td>1</td>\n",
       "      <td>Collage (EP)</td>\n",
       "      <td>The Chainsmokers</td>\n",
       "      <td>일렉트로니카</td>\n",
       "      <td>2016.11.05</td>\n",
       "      <td>소니뮤직</td>\n",
       "      <td>7.5</td>\n",
       "      <td>5</td>\n",
       "      <td>2017-01-01</td>\n",
       "    </tr>\n",
       "    <tr>\n",
       "      <th>3</th>\n",
       "      <td>2017</td>\n",
       "      <td>1</td>\n",
       "      <td>If You</td>\n",
       "      <td>에일리</td>\n",
       "      <td>발라드</td>\n",
       "      <td>2016.08.23</td>\n",
       "      <td>로엔 엔터테인먼트</td>\n",
       "      <td>6.9</td>\n",
       "      <td>1</td>\n",
       "      <td>2017-01-01</td>\n",
       "    </tr>\n",
       "    <tr>\n",
       "      <th>4</th>\n",
       "      <td>2017</td>\n",
       "      <td>1</td>\n",
       "      <td>세 단어</td>\n",
       "      <td>젝스키스</td>\n",
       "      <td>발라드</td>\n",
       "      <td>2016.10.07</td>\n",
       "      <td>YG PLUS</td>\n",
       "      <td>9.0</td>\n",
       "      <td>1</td>\n",
       "      <td>2017-01-01</td>\n",
       "    </tr>\n",
       "    <tr>\n",
       "      <th>...</th>\n",
       "      <td>...</td>\n",
       "      <td>...</td>\n",
       "      <td>...</td>\n",
       "      <td>...</td>\n",
       "      <td>...</td>\n",
       "      <td>...</td>\n",
       "      <td>...</td>\n",
       "      <td>...</td>\n",
       "      <td>...</td>\n",
       "      <td>...</td>\n",
       "    </tr>\n",
       "    <tr>\n",
       "      <th>1181</th>\n",
       "      <td>2017</td>\n",
       "      <td>12</td>\n",
       "      <td>W, HERE</td>\n",
       "      <td>뉴이스트 W</td>\n",
       "      <td>댄스,  발라드</td>\n",
       "      <td>2017.10.10</td>\n",
       "      <td>(주)지니뮤직</td>\n",
       "      <td>8.4</td>\n",
       "      <td>6</td>\n",
       "      <td>2017-12-01</td>\n",
       "    </tr>\n",
       "    <tr>\n",
       "      <th>1182</th>\n",
       "      <td>2017</td>\n",
       "      <td>12</td>\n",
       "      <td>Perfect Velvet - The 2nd Album</td>\n",
       "      <td>Red Velvet (레드벨벳)</td>\n",
       "      <td>댄스</td>\n",
       "      <td>2017.11.17</td>\n",
       "      <td>(주)아이리버</td>\n",
       "      <td>8.0</td>\n",
       "      <td>9</td>\n",
       "      <td>2017-12-01</td>\n",
       "    </tr>\n",
       "    <tr>\n",
       "      <th>1183</th>\n",
       "      <td>2017</td>\n",
       "      <td>12</td>\n",
       "      <td>1-1=0 (NOTHING WITHOUT YOU)</td>\n",
       "      <td>Wanna One(워너원)</td>\n",
       "      <td>발라드,  댄스</td>\n",
       "      <td>2017.11.13</td>\n",
       "      <td>(주)지니뮤직</td>\n",
       "      <td>8.7</td>\n",
       "      <td>11</td>\n",
       "      <td>2017-12-01</td>\n",
       "    </tr>\n",
       "    <tr>\n",
       "      <th>1184</th>\n",
       "      <td>2017</td>\n",
       "      <td>12</td>\n",
       "      <td>기억의 빈자리</td>\n",
       "      <td>나얼</td>\n",
       "      <td>발라드,  알앤비/어반</td>\n",
       "      <td>2017.11.29</td>\n",
       "      <td>(주)지니뮤직</td>\n",
       "      <td>9.0</td>\n",
       "      <td>3</td>\n",
       "      <td>2017-12-01</td>\n",
       "    </tr>\n",
       "    <tr>\n",
       "      <th>1185</th>\n",
       "      <td>2017</td>\n",
       "      <td>12</td>\n",
       "      <td>Moonlight</td>\n",
       "      <td>멜로망스(Melomance)</td>\n",
       "      <td>발라드</td>\n",
       "      <td>2017.07.10</td>\n",
       "      <td>로엔 엔터테인먼트</td>\n",
       "      <td>6.7</td>\n",
       "      <td>5</td>\n",
       "      <td>2017-12-01</td>\n",
       "    </tr>\n",
       "  </tbody>\n",
       "</table>\n",
       "<p>1186 rows × 10 columns</p>\n",
       "</div>"
      ],
      "text/plain": [
       "      Year  Month                     Album Title        Artist Name  \\\n",
       "0     2017      1     Boys and Girls Music Vol. 1                 샘김   \n",
       "1     2017      1        여자친구 The 1st Album 'LOL'      여자친구(GFRIEND)   \n",
       "2     2017      1                    Collage (EP)   The Chainsmokers   \n",
       "3     2017      1                          If You                에일리   \n",
       "4     2017      1                            세 단어               젝스키스   \n",
       "...    ...    ...                             ...                ...   \n",
       "1181  2017     12                         W, HERE             뉴이스트 W   \n",
       "1182  2017     12  Perfect Velvet - The 2nd Album  Red Velvet (레드벨벳)   \n",
       "1183  2017     12     1-1=0 (NOTHING WITHOUT YOU)     Wanna One(워너원)   \n",
       "1184  2017     12                         기억의 빈자리                 나얼   \n",
       "1185  2017     12                       Moonlight    멜로망스(Melomance)   \n",
       "\n",
       "             Genre        Date Distribution  Rating  Music Count  YearMonth  \n",
       "0           알앤비/어반  2017.01.25    로엔 엔터테인먼트     8.6            2 2017-01-01  \n",
       "1               댄스  2016.07.11     로엔엔터테인먼트     8.1           12 2017-01-01  \n",
       "2           일렉트로니카  2016.11.05         소니뮤직     7.5            5 2017-01-01  \n",
       "3              발라드  2016.08.23    로엔 엔터테인먼트     6.9            1 2017-01-01  \n",
       "4              발라드  2016.10.07      YG PLUS     9.0            1 2017-01-01  \n",
       "...            ...         ...          ...     ...          ...        ...  \n",
       "1181      댄스,  발라드  2017.10.10      (주)지니뮤직     8.4            6 2017-12-01  \n",
       "1182            댄스  2017.11.17      (주)아이리버     8.0            9 2017-12-01  \n",
       "1183      발라드,  댄스  2017.11.13      (주)지니뮤직     8.7           11 2017-12-01  \n",
       "1184  발라드,  알앤비/어반  2017.11.29      (주)지니뮤직     9.0            3 2017-12-01  \n",
       "1185           발라드  2017.07.10    로엔 엔터테인먼트     6.7            5 2017-12-01  \n",
       "\n",
       "[1186 rows x 10 columns]"
      ]
     },
     "execution_count": 41,
     "metadata": {},
     "output_type": "execute_result"
    }
   ],
   "source": [
    "music3[music3['Year'] == 2017]"
   ]
  },
  {
   "cell_type": "code",
   "execution_count": 42,
   "metadata": {},
   "outputs": [],
   "source": [
    "music_2017 = music3[ music3['Year'] == 2017 ]#.copy()"
   ]
  },
  {
   "cell_type": "code",
   "execution_count": 43,
   "metadata": {},
   "outputs": [],
   "source": [
    "music_2018 = music3[music3['Year'] == 2018 ]#.copy()"
   ]
  },
  {
   "cell_type": "code",
   "execution_count": 44,
   "metadata": {},
   "outputs": [
    {
     "data": {
      "text/html": [
       "<div>\n",
       "<style scoped>\n",
       "    .dataframe tbody tr th:only-of-type {\n",
       "        vertical-align: middle;\n",
       "    }\n",
       "\n",
       "    .dataframe tbody tr th {\n",
       "        vertical-align: top;\n",
       "    }\n",
       "\n",
       "    .dataframe thead th {\n",
       "        text-align: right;\n",
       "    }\n",
       "</style>\n",
       "<table border=\"1\" class=\"dataframe\">\n",
       "  <thead>\n",
       "    <tr style=\"text-align: right;\">\n",
       "      <th></th>\n",
       "      <th>Album Title</th>\n",
       "      <th>Artist Name</th>\n",
       "      <th>Genre</th>\n",
       "      <th>Date</th>\n",
       "      <th>Distribution</th>\n",
       "      <th>Rating</th>\n",
       "      <th>Music Count</th>\n",
       "    </tr>\n",
       "    <tr>\n",
       "      <th>YearMonth</th>\n",
       "      <th></th>\n",
       "      <th></th>\n",
       "      <th></th>\n",
       "      <th></th>\n",
       "      <th></th>\n",
       "      <th></th>\n",
       "      <th></th>\n",
       "    </tr>\n",
       "  </thead>\n",
       "  <tbody>\n",
       "    <tr>\n",
       "      <th>2017-01-01</th>\n",
       "      <td>Boys and Girls Music Vol. 1</td>\n",
       "      <td>샘김</td>\n",
       "      <td>알앤비/어반</td>\n",
       "      <td>2017.01.25</td>\n",
       "      <td>로엔 엔터테인먼트</td>\n",
       "      <td>8.6</td>\n",
       "      <td>2</td>\n",
       "    </tr>\n",
       "  </tbody>\n",
       "</table>\n",
       "</div>"
      ],
      "text/plain": [
       "                            Album Title Artist Name   Genre        Date  \\\n",
       "YearMonth                                                                 \n",
       "2017-01-01  Boys and Girls Music Vol. 1          샘김  알앤비/어반  2017.01.25   \n",
       "\n",
       "           Distribution  Rating  Music Count  \n",
       "YearMonth                                     \n",
       "2017-01-01    로엔 엔터테인먼트     8.6            2  "
      ]
     },
     "execution_count": 44,
     "metadata": {},
     "output_type": "execute_result"
    }
   ],
   "source": [
    "music_2017.head(1).drop(['Year','Month'],axis=1).set_index(\"YearMonth\")"
   ]
  },
  {
   "cell_type": "code",
   "execution_count": 45,
   "metadata": {},
   "outputs": [],
   "source": [
    "music_2017 = music_2017.drop(['Year','Month'],axis=1).set_index(\"YearMonth\")"
   ]
  },
  {
   "cell_type": "code",
   "execution_count": 46,
   "metadata": {},
   "outputs": [
    {
     "data": {
      "text/html": [
       "<div>\n",
       "<style scoped>\n",
       "    .dataframe tbody tr th:only-of-type {\n",
       "        vertical-align: middle;\n",
       "    }\n",
       "\n",
       "    .dataframe tbody tr th {\n",
       "        vertical-align: top;\n",
       "    }\n",
       "\n",
       "    .dataframe thead th {\n",
       "        text-align: right;\n",
       "    }\n",
       "</style>\n",
       "<table border=\"1\" class=\"dataframe\">\n",
       "  <thead>\n",
       "    <tr style=\"text-align: right;\">\n",
       "      <th></th>\n",
       "      <th>Album Title</th>\n",
       "      <th>Artist Name</th>\n",
       "      <th>Genre</th>\n",
       "      <th>Date</th>\n",
       "      <th>Distribution</th>\n",
       "      <th>Rating</th>\n",
       "      <th>Music Count</th>\n",
       "    </tr>\n",
       "    <tr>\n",
       "      <th>YearMonth</th>\n",
       "      <th></th>\n",
       "      <th></th>\n",
       "      <th></th>\n",
       "      <th></th>\n",
       "      <th></th>\n",
       "      <th></th>\n",
       "      <th></th>\n",
       "    </tr>\n",
       "  </thead>\n",
       "  <tbody>\n",
       "    <tr>\n",
       "      <th>2017-01-01</th>\n",
       "      <td>Boys and Girls Music Vol. 1</td>\n",
       "      <td>샘김</td>\n",
       "      <td>알앤비/어반</td>\n",
       "      <td>2017.01.25</td>\n",
       "      <td>로엔 엔터테인먼트</td>\n",
       "      <td>8.6</td>\n",
       "      <td>2</td>\n",
       "    </tr>\n",
       "  </tbody>\n",
       "</table>\n",
       "</div>"
      ],
      "text/plain": [
       "                            Album Title Artist Name   Genre        Date  \\\n",
       "YearMonth                                                                 \n",
       "2017-01-01  Boys and Girls Music Vol. 1          샘김  알앤비/어반  2017.01.25   \n",
       "\n",
       "           Distribution  Rating  Music Count  \n",
       "YearMonth                                     \n",
       "2017-01-01    로엔 엔터테인먼트     8.6            2  "
      ]
     },
     "execution_count": 46,
     "metadata": {},
     "output_type": "execute_result"
    }
   ],
   "source": [
    "music_2017.head(1)"
   ]
  },
  {
   "cell_type": "code",
   "execution_count": 47,
   "metadata": {},
   "outputs": [],
   "source": [
    "music_2018 = music_2018.drop(['Year','Month'],axis=1).set_index(\"YearMonth\")"
   ]
  },
  {
   "cell_type": "code",
   "execution_count": 48,
   "metadata": {},
   "outputs": [
    {
     "data": {
      "text/html": [
       "<div>\n",
       "<style scoped>\n",
       "    .dataframe tbody tr th:only-of-type {\n",
       "        vertical-align: middle;\n",
       "    }\n",
       "\n",
       "    .dataframe tbody tr th {\n",
       "        vertical-align: top;\n",
       "    }\n",
       "\n",
       "    .dataframe thead th {\n",
       "        text-align: right;\n",
       "    }\n",
       "</style>\n",
       "<table border=\"1\" class=\"dataframe\">\n",
       "  <thead>\n",
       "    <tr style=\"text-align: right;\">\n",
       "      <th></th>\n",
       "      <th>Album Title</th>\n",
       "      <th>Artist Name</th>\n",
       "      <th>Genre</th>\n",
       "      <th>Date</th>\n",
       "      <th>Distribution</th>\n",
       "      <th>Rating</th>\n",
       "      <th>Music Count</th>\n",
       "    </tr>\n",
       "    <tr>\n",
       "      <th>YearMonth</th>\n",
       "      <th></th>\n",
       "      <th></th>\n",
       "      <th></th>\n",
       "      <th></th>\n",
       "      <th></th>\n",
       "      <th></th>\n",
       "      <th></th>\n",
       "    </tr>\n",
       "  </thead>\n",
       "  <tbody>\n",
       "    <tr>\n",
       "      <th>2018-01-01</th>\n",
       "      <td>Red Pill Blues (Deluxe Edition)</td>\n",
       "      <td>Maroon 5</td>\n",
       "      <td>팝,  얼터너티브 락</td>\n",
       "      <td>2017.11.03</td>\n",
       "      <td>유니버설뮤직</td>\n",
       "      <td>6.9</td>\n",
       "      <td>21</td>\n",
       "    </tr>\n",
       "  </tbody>\n",
       "</table>\n",
       "</div>"
      ],
      "text/plain": [
       "                                Album Title Artist Name        Genre  \\\n",
       "YearMonth                                                              \n",
       "2018-01-01  Red Pill Blues (Deluxe Edition)    Maroon 5  팝,  얼터너티브 락   \n",
       "\n",
       "                  Date Distribution  Rating  Music Count  \n",
       "YearMonth                                                 \n",
       "2018-01-01  2017.11.03       유니버설뮤직     6.9           21  "
      ]
     },
     "execution_count": 48,
     "metadata": {},
     "output_type": "execute_result"
    }
   ],
   "source": [
    "music_2018.head(1)"
   ]
  },
  {
   "cell_type": "code",
   "execution_count": null,
   "metadata": {},
   "outputs": [],
   "source": []
  },
  {
   "cell_type": "code",
   "execution_count": 49,
   "metadata": {},
   "outputs": [
    {
     "data": {
      "text/plain": [
       "<AxesSubplot:>"
      ]
     },
     "execution_count": 49,
     "metadata": {},
     "output_type": "execute_result"
    },
    {
     "data": {
      "image/png": "[encoded data removed]",
      "text/plain": [
       "<Figure size 432x288 with 1 Axes>"
      ]
     },
     "metadata": {
      "needs_background": "light"
     },
     "output_type": "display_data"
    }
   ],
   "source": [
    "music_2017['Rating'].hist(bins=50)"
   ]
  },
  {
   "cell_type": "code",
   "execution_count": 50,
   "metadata": {},
   "outputs": [
    {
     "data": {
      "text/plain": [
       "<AxesSubplot:>"
      ]
     },
     "execution_count": 50,
     "metadata": {},
     "output_type": "execute_result"
    },
    {
     "data": {
      "image/png": "[encoded data removed]",
      "text/plain": [
       "<Figure size 432x288 with 1 Axes>"
      ]
     },
     "metadata": {
      "needs_background": "light"
     },
     "output_type": "display_data"
    }
   ],
   "source": [
    "music_2018['Rating'].hist(bins=50)"
   ]
  },
  {
   "cell_type": "code",
   "execution_count": 52,
   "metadata": {},
   "outputs": [],
   "source": [
    "import sys\n",
    "\n",
    "if sys.platform == 'win32' :\n",
    "    from matplotlib import font_manager, rc\n",
    "    font_name = font_manager.FontProperties(fname=\"c:/Windows/Fonts/malgun.ttf\").get_name()\n",
    "    rc('font', family=font_name)"
   ]
  },
  {
   "cell_type": "code",
   "execution_count": 51,
   "metadata": {},
   "outputs": [
    {
     "data": {
      "text/plain": [
       "2     181\n",
       "6     169\n",
       "1     137\n",
       "11    135\n",
       "5     100\n",
       "10     77\n",
       "7      70\n",
       "18     61\n",
       "9      59\n",
       "8      48\n",
       "13     34\n",
       "12     26\n",
       "3      24\n",
       "16     15\n",
       "4      13\n",
       "15      9\n",
       "24      9\n",
       "19      8\n",
       "14      5\n",
       "21      4\n",
       "17      2\n",
       "Name: Music Count, dtype: int64"
      ]
     },
     "execution_count": 51,
     "metadata": {},
     "output_type": "execute_result"
    }
   ],
   "source": [
    "music_2017['Music Count'].value_counts()#.head()"
   ]
  },
  {
   "cell_type": "code",
   "execution_count": 52,
   "metadata": {},
   "outputs": [
    {
     "data": {
      "text/html": [
       "<div>\n",
       "<style scoped>\n",
       "    .dataframe tbody tr th:only-of-type {\n",
       "        vertical-align: middle;\n",
       "    }\n",
       "\n",
       "    .dataframe tbody tr th {\n",
       "        vertical-align: top;\n",
       "    }\n",
       "\n",
       "    .dataframe thead th {\n",
       "        text-align: right;\n",
       "    }\n",
       "</style>\n",
       "<table border=\"1\" class=\"dataframe\">\n",
       "  <thead>\n",
       "    <tr style=\"text-align: right;\">\n",
       "      <th></th>\n",
       "      <th>Rating</th>\n",
       "    </tr>\n",
       "    <tr>\n",
       "      <th>Music Count</th>\n",
       "      <th></th>\n",
       "    </tr>\n",
       "  </thead>\n",
       "  <tbody>\n",
       "    <tr>\n",
       "      <th>1</th>\n",
       "      <td>8.087591</td>\n",
       "    </tr>\n",
       "    <tr>\n",
       "      <th>2</th>\n",
       "      <td>8.039227</td>\n",
       "    </tr>\n",
       "    <tr>\n",
       "      <th>3</th>\n",
       "      <td>8.116667</td>\n",
       "    </tr>\n",
       "    <tr>\n",
       "      <th>4</th>\n",
       "      <td>7.430769</td>\n",
       "    </tr>\n",
       "    <tr>\n",
       "      <th>5</th>\n",
       "      <td>8.157000</td>\n",
       "    </tr>\n",
       "    <tr>\n",
       "      <th>6</th>\n",
       "      <td>8.342604</td>\n",
       "    </tr>\n",
       "    <tr>\n",
       "      <th>7</th>\n",
       "      <td>8.570000</td>\n",
       "    </tr>\n",
       "    <tr>\n",
       "      <th>8</th>\n",
       "      <td>8.447917</td>\n",
       "    </tr>\n",
       "    <tr>\n",
       "      <th>9</th>\n",
       "      <td>8.822034</td>\n",
       "    </tr>\n",
       "    <tr>\n",
       "      <th>10</th>\n",
       "      <td>8.277922</td>\n",
       "    </tr>\n",
       "    <tr>\n",
       "      <th>11</th>\n",
       "      <td>8.557037</td>\n",
       "    </tr>\n",
       "    <tr>\n",
       "      <th>12</th>\n",
       "      <td>8.392308</td>\n",
       "    </tr>\n",
       "    <tr>\n",
       "      <th>13</th>\n",
       "      <td>8.594118</td>\n",
       "    </tr>\n",
       "    <tr>\n",
       "      <th>14</th>\n",
       "      <td>8.880000</td>\n",
       "    </tr>\n",
       "    <tr>\n",
       "      <th>15</th>\n",
       "      <td>8.744444</td>\n",
       "    </tr>\n",
       "    <tr>\n",
       "      <th>16</th>\n",
       "      <td>8.720000</td>\n",
       "    </tr>\n",
       "    <tr>\n",
       "      <th>17</th>\n",
       "      <td>8.700000</td>\n",
       "    </tr>\n",
       "    <tr>\n",
       "      <th>18</th>\n",
       "      <td>7.993443</td>\n",
       "    </tr>\n",
       "    <tr>\n",
       "      <th>19</th>\n",
       "      <td>8.900000</td>\n",
       "    </tr>\n",
       "    <tr>\n",
       "      <th>21</th>\n",
       "      <td>6.900000</td>\n",
       "    </tr>\n",
       "    <tr>\n",
       "      <th>24</th>\n",
       "      <td>7.777778</td>\n",
       "    </tr>\n",
       "  </tbody>\n",
       "</table>\n",
       "</div>"
      ],
      "text/plain": [
       "               Rating\n",
       "Music Count          \n",
       "1            8.087591\n",
       "2            8.039227\n",
       "3            8.116667\n",
       "4            7.430769\n",
       "5            8.157000\n",
       "6            8.342604\n",
       "7            8.570000\n",
       "8            8.447917\n",
       "9            8.822034\n",
       "10           8.277922\n",
       "11           8.557037\n",
       "12           8.392308\n",
       "13           8.594118\n",
       "14           8.880000\n",
       "15           8.744444\n",
       "16           8.720000\n",
       "17           8.700000\n",
       "18           7.993443\n",
       "19           8.900000\n",
       "21           6.900000\n",
       "24           7.777778"
      ]
     },
     "execution_count": 52,
     "metadata": {},
     "output_type": "execute_result"
    }
   ],
   "source": [
    "music_2017.groupby('Music Count').agg({'Rating':'mean'})#.head()"
   ]
  },
  {
   "cell_type": "code",
   "execution_count": 53,
   "metadata": {},
   "outputs": [
    {
     "data": {
      "text/plain": [
       "Text(0.04, 0.5, 'common Y')"
      ]
     },
     "execution_count": 53,
     "metadata": {},
     "output_type": "execute_result"
    },
    {
     "data": {
      "image/png": "[encoded data removed]",
      "text/plain": [
       "<Figure size 432x288 with 2 Axes>"
      ]
     },
     "metadata": {
      "needs_background": "light"
     },
     "output_type": "display_data"
    }
   ],
   "source": [
    "fig, axes = plt.subplots(nrows=1, ncols=2, sharex=True, sharey=True)\n",
    "\n",
    "music_2017[['Music Count','Rating']].hist(ax=axes, bins=50)\n",
    "\n",
    "\n",
    "# set title and axis labels\n",
    "plt.suptitle(' 두 개의 그래프', x=0.5, y=1.05, ha='center', fontsize='xx-large')\n",
    "fig.text(0.5, 0.04, 'common X', ha='center')\n",
    "fig.text(0.04, 0.5, 'common Y', va='center', rotation='vertical')"
   ]
  },
  {
   "cell_type": "code",
   "execution_count": 54,
   "metadata": {},
   "outputs": [
    {
     "data": {
      "text/plain": [
       "5     137\n",
       "6     133\n",
       "7     129\n",
       "2     106\n",
       "1      99\n",
       "11     98\n",
       "16     45\n",
       "4      40\n",
       "12     39\n",
       "8      33\n",
       "9      23\n",
       "13     22\n",
       "10     20\n",
       "18     14\n",
       "26     13\n",
       "14     12\n",
       "15      9\n",
       "3       9\n",
       "21      9\n",
       "24      1\n",
       "17      1\n",
       "Name: Music Count, dtype: int64"
      ]
     },
     "execution_count": 54,
     "metadata": {},
     "output_type": "execute_result"
    }
   ],
   "source": [
    "music_2018['Music Count'].value_counts()#head()"
   ]
  },
  {
   "cell_type": "code",
   "execution_count": 55,
   "metadata": {},
   "outputs": [
    {
     "data": {
      "text/html": [
       "<div>\n",
       "<style scoped>\n",
       "    .dataframe tbody tr th:only-of-type {\n",
       "        vertical-align: middle;\n",
       "    }\n",
       "\n",
       "    .dataframe tbody tr th {\n",
       "        vertical-align: top;\n",
       "    }\n",
       "\n",
       "    .dataframe thead th {\n",
       "        text-align: right;\n",
       "    }\n",
       "</style>\n",
       "<table border=\"1\" class=\"dataframe\">\n",
       "  <thead>\n",
       "    <tr style=\"text-align: right;\">\n",
       "      <th></th>\n",
       "      <th>Rating</th>\n",
       "    </tr>\n",
       "    <tr>\n",
       "      <th>Music Count</th>\n",
       "      <th></th>\n",
       "    </tr>\n",
       "  </thead>\n",
       "  <tbody>\n",
       "    <tr>\n",
       "      <th>1</th>\n",
       "      <td>8.007071</td>\n",
       "    </tr>\n",
       "    <tr>\n",
       "      <th>2</th>\n",
       "      <td>7.694340</td>\n",
       "    </tr>\n",
       "    <tr>\n",
       "      <th>3</th>\n",
       "      <td>8.166667</td>\n",
       "    </tr>\n",
       "    <tr>\n",
       "      <th>4</th>\n",
       "      <td>7.010000</td>\n",
       "    </tr>\n",
       "    <tr>\n",
       "      <th>5</th>\n",
       "      <td>7.735036</td>\n",
       "    </tr>\n",
       "    <tr>\n",
       "      <th>6</th>\n",
       "      <td>7.821805</td>\n",
       "    </tr>\n",
       "    <tr>\n",
       "      <th>7</th>\n",
       "      <td>8.196899</td>\n",
       "    </tr>\n",
       "    <tr>\n",
       "      <th>8</th>\n",
       "      <td>8.460606</td>\n",
       "    </tr>\n",
       "    <tr>\n",
       "      <th>9</th>\n",
       "      <td>8.343478</td>\n",
       "    </tr>\n",
       "    <tr>\n",
       "      <th>10</th>\n",
       "      <td>8.390000</td>\n",
       "    </tr>\n",
       "    <tr>\n",
       "      <th>11</th>\n",
       "      <td>8.948980</td>\n",
       "    </tr>\n",
       "    <tr>\n",
       "      <th>12</th>\n",
       "      <td>8.364103</td>\n",
       "    </tr>\n",
       "    <tr>\n",
       "      <th>13</th>\n",
       "      <td>8.768182</td>\n",
       "    </tr>\n",
       "    <tr>\n",
       "      <th>14</th>\n",
       "      <td>8.416667</td>\n",
       "    </tr>\n",
       "    <tr>\n",
       "      <th>15</th>\n",
       "      <td>8.355556</td>\n",
       "    </tr>\n",
       "    <tr>\n",
       "      <th>16</th>\n",
       "      <td>8.604444</td>\n",
       "    </tr>\n",
       "    <tr>\n",
       "      <th>17</th>\n",
       "      <td>9.300000</td>\n",
       "    </tr>\n",
       "    <tr>\n",
       "      <th>18</th>\n",
       "      <td>8.714286</td>\n",
       "    </tr>\n",
       "    <tr>\n",
       "      <th>21</th>\n",
       "      <td>6.900000</td>\n",
       "    </tr>\n",
       "    <tr>\n",
       "      <th>24</th>\n",
       "      <td>7.700000</td>\n",
       "    </tr>\n",
       "    <tr>\n",
       "      <th>26</th>\n",
       "      <td>8.400000</td>\n",
       "    </tr>\n",
       "  </tbody>\n",
       "</table>\n",
       "</div>"
      ],
      "text/plain": [
       "               Rating\n",
       "Music Count          \n",
       "1            8.007071\n",
       "2            7.694340\n",
       "3            8.166667\n",
       "4            7.010000\n",
       "5            7.735036\n",
       "6            7.821805\n",
       "7            8.196899\n",
       "8            8.460606\n",
       "9            8.343478\n",
       "10           8.390000\n",
       "11           8.948980\n",
       "12           8.364103\n",
       "13           8.768182\n",
       "14           8.416667\n",
       "15           8.355556\n",
       "16           8.604444\n",
       "17           9.300000\n",
       "18           8.714286\n",
       "21           6.900000\n",
       "24           7.700000\n",
       "26           8.400000"
      ]
     },
     "execution_count": 55,
     "metadata": {},
     "output_type": "execute_result"
    }
   ],
   "source": [
    "music_2018.groupby('Music Count').agg({'Rating':'mean'})#.head()"
   ]
  },
  {
   "cell_type": "code",
   "execution_count": 56,
   "metadata": {},
   "outputs": [
    {
     "data": {
      "text/plain": [
       "Text(0.04, 0.5, 'common Y')"
      ]
     },
     "execution_count": 56,
     "metadata": {},
     "output_type": "execute_result"
    },
    {
     "data": {
      "image/png": "[encoded data removed]",
      "text/plain": [
       "<Figure size 432x288 with 2 Axes>"
      ]
     },
     "metadata": {
      "needs_background": "light"
     },
     "output_type": "display_data"
    }
   ],
   "source": [
    "fig, axes = plt.subplots(nrows=1, ncols=2, sharex=True, sharey=True)\n",
    "\n",
    "\n",
    "music_2018[['Music Count','Rating']].hist(ax=axes)\n",
    "\n",
    "# set title and axis labels\n",
    "plt.suptitle(' 두 개의 그래프', x=0.5, y=1.05, ha='center', fontsize='xx-large')\n",
    "fig.text(0.5, 0.04, 'common X', ha='center')\n",
    "fig.text(0.04, 0.5, 'common Y', va='center', rotation='vertical')"
   ]
  },
  {
   "cell_type": "code",
   "execution_count": 57,
   "metadata": {},
   "outputs": [
    {
     "data": {
      "text/html": [
       "<div>\n",
       "<style scoped>\n",
       "    .dataframe tbody tr th:only-of-type {\n",
       "        vertical-align: middle;\n",
       "    }\n",
       "\n",
       "    .dataframe tbody tr th {\n",
       "        vertical-align: top;\n",
       "    }\n",
       "\n",
       "    .dataframe thead th {\n",
       "        text-align: right;\n",
       "    }\n",
       "</style>\n",
       "<table border=\"1\" class=\"dataframe\">\n",
       "  <thead>\n",
       "    <tr style=\"text-align: right;\">\n",
       "      <th></th>\n",
       "      <th>YearMonth</th>\n",
       "      <th>Album Title</th>\n",
       "      <th>Artist Name</th>\n",
       "      <th>Genre</th>\n",
       "      <th>Date</th>\n",
       "      <th>Distribution</th>\n",
       "      <th>Rating</th>\n",
       "      <th>Music Count</th>\n",
       "    </tr>\n",
       "  </thead>\n",
       "  <tbody>\n",
       "    <tr>\n",
       "      <th>0</th>\n",
       "      <td>2017-01-01</td>\n",
       "      <td>Boys and Girls Music Vol. 1</td>\n",
       "      <td>샘김</td>\n",
       "      <td>알앤비/어반</td>\n",
       "      <td>2017.01.25</td>\n",
       "      <td>로엔 엔터테인먼트</td>\n",
       "      <td>8.6</td>\n",
       "      <td>2</td>\n",
       "    </tr>\n",
       "    <tr>\n",
       "      <th>1</th>\n",
       "      <td>2017-01-01</td>\n",
       "      <td>여자친구 The 1st Album 'LOL'</td>\n",
       "      <td>여자친구(GFRIEND)</td>\n",
       "      <td>댄스</td>\n",
       "      <td>2016.07.11</td>\n",
       "      <td>로엔엔터테인먼트</td>\n",
       "      <td>8.1</td>\n",
       "      <td>12</td>\n",
       "    </tr>\n",
       "    <tr>\n",
       "      <th>2</th>\n",
       "      <td>2017-01-01</td>\n",
       "      <td>Collage (EP)</td>\n",
       "      <td>The Chainsmokers</td>\n",
       "      <td>일렉트로니카</td>\n",
       "      <td>2016.11.05</td>\n",
       "      <td>소니뮤직</td>\n",
       "      <td>7.5</td>\n",
       "      <td>5</td>\n",
       "    </tr>\n",
       "    <tr>\n",
       "      <th>3</th>\n",
       "      <td>2017-01-01</td>\n",
       "      <td>If You</td>\n",
       "      <td>에일리</td>\n",
       "      <td>발라드</td>\n",
       "      <td>2016.08.23</td>\n",
       "      <td>로엔 엔터테인먼트</td>\n",
       "      <td>6.9</td>\n",
       "      <td>1</td>\n",
       "    </tr>\n",
       "    <tr>\n",
       "      <th>4</th>\n",
       "      <td>2017-01-01</td>\n",
       "      <td>세 단어</td>\n",
       "      <td>젝스키스</td>\n",
       "      <td>발라드</td>\n",
       "      <td>2016.10.07</td>\n",
       "      <td>YG PLUS</td>\n",
       "      <td>9.0</td>\n",
       "      <td>1</td>\n",
       "    </tr>\n",
       "    <tr>\n",
       "      <th>...</th>\n",
       "      <td>...</td>\n",
       "      <td>...</td>\n",
       "      <td>...</td>\n",
       "      <td>...</td>\n",
       "      <td>...</td>\n",
       "      <td>...</td>\n",
       "      <td>...</td>\n",
       "      <td>...</td>\n",
       "    </tr>\n",
       "    <tr>\n",
       "      <th>1181</th>\n",
       "      <td>2017-12-01</td>\n",
       "      <td>W, HERE</td>\n",
       "      <td>뉴이스트 W</td>\n",
       "      <td>댄스,  발라드</td>\n",
       "      <td>2017.10.10</td>\n",
       "      <td>(주)지니뮤직</td>\n",
       "      <td>8.4</td>\n",
       "      <td>6</td>\n",
       "    </tr>\n",
       "    <tr>\n",
       "      <th>1182</th>\n",
       "      <td>2017-12-01</td>\n",
       "      <td>Perfect Velvet - The 2nd Album</td>\n",
       "      <td>Red Velvet (레드벨벳)</td>\n",
       "      <td>댄스</td>\n",
       "      <td>2017.11.17</td>\n",
       "      <td>(주)아이리버</td>\n",
       "      <td>8.0</td>\n",
       "      <td>9</td>\n",
       "    </tr>\n",
       "    <tr>\n",
       "      <th>1183</th>\n",
       "      <td>2017-12-01</td>\n",
       "      <td>1-1=0 (NOTHING WITHOUT YOU)</td>\n",
       "      <td>Wanna One(워너원)</td>\n",
       "      <td>발라드,  댄스</td>\n",
       "      <td>2017.11.13</td>\n",
       "      <td>(주)지니뮤직</td>\n",
       "      <td>8.7</td>\n",
       "      <td>11</td>\n",
       "    </tr>\n",
       "    <tr>\n",
       "      <th>1184</th>\n",
       "      <td>2017-12-01</td>\n",
       "      <td>기억의 빈자리</td>\n",
       "      <td>나얼</td>\n",
       "      <td>발라드,  알앤비/어반</td>\n",
       "      <td>2017.11.29</td>\n",
       "      <td>(주)지니뮤직</td>\n",
       "      <td>9.0</td>\n",
       "      <td>3</td>\n",
       "    </tr>\n",
       "    <tr>\n",
       "      <th>1185</th>\n",
       "      <td>2017-12-01</td>\n",
       "      <td>Moonlight</td>\n",
       "      <td>멜로망스(Melomance)</td>\n",
       "      <td>발라드</td>\n",
       "      <td>2017.07.10</td>\n",
       "      <td>로엔 엔터테인먼트</td>\n",
       "      <td>6.7</td>\n",
       "      <td>5</td>\n",
       "    </tr>\n",
       "  </tbody>\n",
       "</table>\n",
       "<p>1186 rows × 8 columns</p>\n",
       "</div>"
      ],
      "text/plain": [
       "      YearMonth                     Album Title        Artist Name  \\\n",
       "0    2017-01-01     Boys and Girls Music Vol. 1                 샘김   \n",
       "1    2017-01-01        여자친구 The 1st Album 'LOL'      여자친구(GFRIEND)   \n",
       "2    2017-01-01                    Collage (EP)   The Chainsmokers   \n",
       "3    2017-01-01                          If You                에일리   \n",
       "4    2017-01-01                            세 단어               젝스키스   \n",
       "...         ...                             ...                ...   \n",
       "1181 2017-12-01                         W, HERE             뉴이스트 W   \n",
       "1182 2017-12-01  Perfect Velvet - The 2nd Album  Red Velvet (레드벨벳)   \n",
       "1183 2017-12-01     1-1=0 (NOTHING WITHOUT YOU)     Wanna One(워너원)   \n",
       "1184 2017-12-01                         기억의 빈자리                 나얼   \n",
       "1185 2017-12-01                       Moonlight    멜로망스(Melomance)   \n",
       "\n",
       "             Genre        Date Distribution  Rating  Music Count  \n",
       "0           알앤비/어반  2017.01.25    로엔 엔터테인먼트     8.6            2  \n",
       "1               댄스  2016.07.11     로엔엔터테인먼트     8.1           12  \n",
       "2           일렉트로니카  2016.11.05         소니뮤직     7.5            5  \n",
       "3              발라드  2016.08.23    로엔 엔터테인먼트     6.9            1  \n",
       "4              발라드  2016.10.07      YG PLUS     9.0            1  \n",
       "...            ...         ...          ...     ...          ...  \n",
       "1181      댄스,  발라드  2017.10.10      (주)지니뮤직     8.4            6  \n",
       "1182            댄스  2017.11.17      (주)아이리버     8.0            9  \n",
       "1183      발라드,  댄스  2017.11.13      (주)지니뮤직     8.7           11  \n",
       "1184  발라드,  알앤비/어반  2017.11.29      (주)지니뮤직     9.0            3  \n",
       "1185           발라드  2017.07.10    로엔 엔터테인먼트     6.7            5  \n",
       "\n",
       "[1186 rows x 8 columns]"
      ]
     },
     "execution_count": 57,
     "metadata": {},
     "output_type": "execute_result"
    }
   ],
   "source": [
    "music_2017 = music_2017.reset_index()\n",
    "music_2017"
   ]
  },
  {
   "cell_type": "code",
   "execution_count": 58,
   "metadata": {},
   "outputs": [],
   "source": [
    "x = music_2017.groupby(['YearMonth','Date']).agg({'Rating' : 'mean'}).sort_values(by='YearMonth')"
   ]
  },
  {
   "cell_type": "code",
   "execution_count": 59,
   "metadata": {},
   "outputs": [
    {
     "data": {
      "text/html": [
       "<div>\n",
       "<style scoped>\n",
       "    .dataframe tbody tr th:only-of-type {\n",
       "        vertical-align: middle;\n",
       "    }\n",
       "\n",
       "    .dataframe tbody tr th {\n",
       "        vertical-align: top;\n",
       "    }\n",
       "\n",
       "    .dataframe thead th {\n",
       "        text-align: right;\n",
       "    }\n",
       "</style>\n",
       "<table border=\"1\" class=\"dataframe\">\n",
       "  <thead>\n",
       "    <tr style=\"text-align: right;\">\n",
       "      <th></th>\n",
       "      <th></th>\n",
       "      <th>Rating</th>\n",
       "    </tr>\n",
       "    <tr>\n",
       "      <th>YearMonth</th>\n",
       "      <th>Date</th>\n",
       "      <th></th>\n",
       "    </tr>\n",
       "  </thead>\n",
       "  <tbody>\n",
       "    <tr>\n",
       "      <th rowspan=\"5\" valign=\"top\">2017-01-01</th>\n",
       "      <th>2014.05.27</th>\n",
       "      <td>9.3</td>\n",
       "    </tr>\n",
       "    <tr>\n",
       "      <th>2016.11.24</th>\n",
       "      <td>8.4</td>\n",
       "    </tr>\n",
       "    <tr>\n",
       "      <th>2016.11.25</th>\n",
       "      <td>8.2</td>\n",
       "    </tr>\n",
       "    <tr>\n",
       "      <th>2016.11.28</th>\n",
       "      <td>8.0</td>\n",
       "    </tr>\n",
       "    <tr>\n",
       "      <th>2016.11.29</th>\n",
       "      <td>8.7</td>\n",
       "    </tr>\n",
       "  </tbody>\n",
       "</table>\n",
       "</div>"
      ],
      "text/plain": [
       "                       Rating\n",
       "YearMonth  Date              \n",
       "2017-01-01 2014.05.27     9.3\n",
       "           2016.11.24     8.4\n",
       "           2016.11.25     8.2\n",
       "           2016.11.28     8.0\n",
       "           2016.11.29     8.7"
      ]
     },
     "execution_count": 59,
     "metadata": {},
     "output_type": "execute_result"
    }
   ],
   "source": [
    "x.head()"
   ]
  },
  {
   "cell_type": "code",
   "execution_count": 60,
   "metadata": {},
   "outputs": [
    {
     "data": {
      "text/plain": [
       "array([[<AxesSubplot:title={'center':'Rating'}>]], dtype=object)"
      ]
     },
     "execution_count": 60,
     "metadata": {},
     "output_type": "execute_result"
    },
    {
     "data": {
      "image/png": "[encoded data removed]",
      "text/plain": [
       "<Figure size 432x288 with 1 Axes>"
      ]
     },
     "metadata": {
      "needs_background": "light"
     },
     "output_type": "display_data"
    }
   ],
   "source": [
    "x.hist(bins=50)"
   ]
  },
  {
   "cell_type": "code",
   "execution_count": 61,
   "metadata": {},
   "outputs": [],
   "source": [
    "y = music_2017.groupby(['Genre']).agg({'Rating' : ['count','mean']}).sort_values(by=('Rating','mean'))"
   ]
  },
  {
   "cell_type": "code",
   "execution_count": 62,
   "metadata": {},
   "outputs": [
    {
     "data": {
      "text/html": [
       "<div>\n",
       "<style scoped>\n",
       "    .dataframe tbody tr th:only-of-type {\n",
       "        vertical-align: middle;\n",
       "    }\n",
       "\n",
       "    .dataframe tbody tr th {\n",
       "        vertical-align: top;\n",
       "    }\n",
       "\n",
       "    .dataframe thead tr th {\n",
       "        text-align: left;\n",
       "    }\n",
       "\n",
       "    .dataframe thead tr:last-of-type th {\n",
       "        text-align: right;\n",
       "    }\n",
       "</style>\n",
       "<table border=\"1\" class=\"dataframe\">\n",
       "  <thead>\n",
       "    <tr>\n",
       "      <th></th>\n",
       "      <th colspan=\"2\" halign=\"left\">Rating</th>\n",
       "    </tr>\n",
       "    <tr>\n",
       "      <th></th>\n",
       "      <th>count</th>\n",
       "      <th>mean</th>\n",
       "    </tr>\n",
       "    <tr>\n",
       "      <th>Genre</th>\n",
       "      <th></th>\n",
       "      <th></th>\n",
       "    </tr>\n",
       "  </thead>\n",
       "  <tbody>\n",
       "    <tr>\n",
       "      <th>인디뮤직,  포크</th>\n",
       "      <td>1</td>\n",
       "      <td>4.0</td>\n",
       "    </tr>\n",
       "    <tr>\n",
       "      <th>팝,  얼터너티브 락</th>\n",
       "      <td>4</td>\n",
       "      <td>6.9</td>\n",
       "    </tr>\n",
       "    <tr>\n",
       "      <th>발라드,  댄스,  알앤비/어반,  일렉트로니카</th>\n",
       "      <td>1</td>\n",
       "      <td>7.0</td>\n",
       "    </tr>\n",
       "    <tr>\n",
       "      <th>발라드,  재즈</th>\n",
       "      <td>1</td>\n",
       "      <td>7.3</td>\n",
       "    </tr>\n",
       "    <tr>\n",
       "      <th>팝,  캐롤</th>\n",
       "      <td>1</td>\n",
       "      <td>7.5</td>\n",
       "    </tr>\n",
       "  </tbody>\n",
       "</table>\n",
       "</div>"
      ],
      "text/plain": [
       "                           Rating     \n",
       "                            count mean\n",
       "Genre                                 \n",
       "인디뮤직,  포크                       1  4.0\n",
       "팝,  얼터너티브 락                     4  6.9\n",
       "발라드,  댄스,  알앤비/어반,  일렉트로니카      1  7.0\n",
       "발라드,  재즈                        1  7.3\n",
       "팝,  캐롤                          1  7.5"
      ]
     },
     "execution_count": 62,
     "metadata": {},
     "output_type": "execute_result"
    }
   ],
   "source": [
    "y.sort_values(by=('Rating','mean')).head()"
   ]
  },
  {
   "cell_type": "code",
   "execution_count": 63,
   "metadata": {},
   "outputs": [
    {
     "data": {
      "text/html": [
       "<div>\n",
       "<style scoped>\n",
       "    .dataframe tbody tr th:only-of-type {\n",
       "        vertical-align: middle;\n",
       "    }\n",
       "\n",
       "    .dataframe tbody tr th {\n",
       "        vertical-align: top;\n",
       "    }\n",
       "\n",
       "    .dataframe thead tr th {\n",
       "        text-align: left;\n",
       "    }\n",
       "\n",
       "    .dataframe thead tr:last-of-type th {\n",
       "        text-align: right;\n",
       "    }\n",
       "</style>\n",
       "<table border=\"1\" class=\"dataframe\">\n",
       "  <thead>\n",
       "    <tr>\n",
       "      <th></th>\n",
       "      <th colspan=\"2\" halign=\"left\">Rating</th>\n",
       "    </tr>\n",
       "    <tr>\n",
       "      <th></th>\n",
       "      <th>count</th>\n",
       "      <th>mean</th>\n",
       "    </tr>\n",
       "    <tr>\n",
       "      <th>Genre</th>\n",
       "      <th></th>\n",
       "      <th></th>\n",
       "    </tr>\n",
       "  </thead>\n",
       "  <tbody>\n",
       "    <tr>\n",
       "      <th>댄스</th>\n",
       "      <td>308</td>\n",
       "      <td>8.27013</td>\n",
       "    </tr>\n",
       "    <tr>\n",
       "      <th>발라드</th>\n",
       "      <td>231</td>\n",
       "      <td>8.42684</td>\n",
       "    </tr>\n",
       "  </tbody>\n",
       "</table>\n",
       "</div>"
      ],
      "text/plain": [
       "      Rating         \n",
       "       count     mean\n",
       "Genre                \n",
       "댄스       308  8.27013\n",
       "발라드      231  8.42684"
      ]
     },
     "execution_count": 63,
     "metadata": {},
     "output_type": "execute_result"
    }
   ],
   "source": [
    "y[ y[('Rating','count')] > 200 ]"
   ]
  },
  {
   "cell_type": "code",
   "execution_count": 64,
   "metadata": {},
   "outputs": [
    {
     "data": {
      "text/html": [
       "<div>\n",
       "<style scoped>\n",
       "    .dataframe tbody tr th:only-of-type {\n",
       "        vertical-align: middle;\n",
       "    }\n",
       "\n",
       "    .dataframe tbody tr th {\n",
       "        vertical-align: top;\n",
       "    }\n",
       "\n",
       "    .dataframe thead tr th {\n",
       "        text-align: left;\n",
       "    }\n",
       "\n",
       "    .dataframe thead tr:last-of-type th {\n",
       "        text-align: right;\n",
       "    }\n",
       "</style>\n",
       "<table border=\"1\" class=\"dataframe\">\n",
       "  <thead>\n",
       "    <tr>\n",
       "      <th></th>\n",
       "      <th colspan=\"2\" halign=\"left\">Rating</th>\n",
       "    </tr>\n",
       "    <tr>\n",
       "      <th></th>\n",
       "      <th>count</th>\n",
       "      <th>mean</th>\n",
       "    </tr>\n",
       "    <tr>\n",
       "      <th>Genre</th>\n",
       "      <th></th>\n",
       "      <th></th>\n",
       "    </tr>\n",
       "  </thead>\n",
       "  <tbody>\n",
       "    <tr>\n",
       "      <th>댄스</th>\n",
       "      <td>308</td>\n",
       "      <td>8.27013</td>\n",
       "    </tr>\n",
       "    <tr>\n",
       "      <th>발라드</th>\n",
       "      <td>231</td>\n",
       "      <td>8.42684</td>\n",
       "    </tr>\n",
       "  </tbody>\n",
       "</table>\n",
       "</div>"
      ],
      "text/plain": [
       "      Rating         \n",
       "       count     mean\n",
       "Genre                \n",
       "댄스       308  8.27013\n",
       "발라드      231  8.42684"
      ]
     },
     "execution_count": 64,
     "metadata": {},
     "output_type": "execute_result"
    }
   ],
   "source": [
    "y[y[('Rating','count')] >= 200]"
   ]
  },
  {
   "cell_type": "code",
   "execution_count": 65,
   "metadata": {},
   "outputs": [
    {
     "data": {
      "text/plain": [
       "<AxesSubplot:xlabel='(Rating, count)', ylabel='(Rating, mean)'>"
      ]
     },
     "execution_count": 65,
     "metadata": {},
     "output_type": "execute_result"
    },
    {
     "data": {
      "image/png": "[encoded data removed]",
      "text/plain": [
       "<Figure size 432x288 with 1 Axes>"
      ]
     },
     "metadata": {
      "needs_background": "light"
     },
     "output_type": "display_data"
    }
   ],
   "source": [
    "y.plot.scatter(('Rating','count'), ('Rating','mean'))"
   ]
  },
  {
   "cell_type": "code",
   "execution_count": null,
   "metadata": {},
   "outputs": [],
   "source": []
  },
  {
   "cell_type": "code",
   "execution_count": 66,
   "metadata": {},
   "outputs": [],
   "source": [
    "z = music_2018.groupby(['Genre']).agg({'Rating' : ['count','mean']}).sort_values(by=('Rating','mean'))"
   ]
  },
  {
   "cell_type": "code",
   "execution_count": 67,
   "metadata": {},
   "outputs": [
    {
     "data": {
      "text/html": [
       "<div>\n",
       "<style scoped>\n",
       "    .dataframe tbody tr th:only-of-type {\n",
       "        vertical-align: middle;\n",
       "    }\n",
       "\n",
       "    .dataframe tbody tr th {\n",
       "        vertical-align: top;\n",
       "    }\n",
       "\n",
       "    .dataframe thead tr th {\n",
       "        text-align: left;\n",
       "    }\n",
       "\n",
       "    .dataframe thead tr:last-of-type th {\n",
       "        text-align: right;\n",
       "    }\n",
       "</style>\n",
       "<table border=\"1\" class=\"dataframe\">\n",
       "  <thead>\n",
       "    <tr>\n",
       "      <th></th>\n",
       "      <th colspan=\"2\" halign=\"left\">Rating</th>\n",
       "    </tr>\n",
       "    <tr>\n",
       "      <th></th>\n",
       "      <th>count</th>\n",
       "      <th>mean</th>\n",
       "    </tr>\n",
       "    <tr>\n",
       "      <th>Genre</th>\n",
       "      <th></th>\n",
       "      <th></th>\n",
       "    </tr>\n",
       "  </thead>\n",
       "  <tbody>\n",
       "    <tr>\n",
       "      <th>일렉트로니카,  인디뮤직</th>\n",
       "      <td>4</td>\n",
       "      <td>3.700000</td>\n",
       "    </tr>\n",
       "    <tr>\n",
       "      <th>인디뮤직,  포크</th>\n",
       "      <td>6</td>\n",
       "      <td>4.450000</td>\n",
       "    </tr>\n",
       "    <tr>\n",
       "      <th>팝,  얼터너티브 락</th>\n",
       "      <td>9</td>\n",
       "      <td>6.900000</td>\n",
       "    </tr>\n",
       "    <tr>\n",
       "      <th>발라드,  재즈</th>\n",
       "      <td>3</td>\n",
       "      <td>7.300000</td>\n",
       "    </tr>\n",
       "    <tr>\n",
       "      <th>댄스</th>\n",
       "      <td>240</td>\n",
       "      <td>7.697917</td>\n",
       "    </tr>\n",
       "  </tbody>\n",
       "</table>\n",
       "</div>"
      ],
      "text/plain": [
       "              Rating          \n",
       "               count      mean\n",
       "Genre                         \n",
       "일렉트로니카,  인디뮤직      4  3.700000\n",
       "인디뮤직,  포크          6  4.450000\n",
       "팝,  얼터너티브 락        9  6.900000\n",
       "발라드,  재즈           3  7.300000\n",
       "댄스               240  7.697917"
      ]
     },
     "execution_count": 67,
     "metadata": {},
     "output_type": "execute_result"
    }
   ],
   "source": [
    "z.head()"
   ]
  },
  {
   "cell_type": "code",
   "execution_count": 68,
   "metadata": {},
   "outputs": [
    {
     "data": {
      "text/html": [
       "<div>\n",
       "<style scoped>\n",
       "    .dataframe tbody tr th:only-of-type {\n",
       "        vertical-align: middle;\n",
       "    }\n",
       "\n",
       "    .dataframe tbody tr th {\n",
       "        vertical-align: top;\n",
       "    }\n",
       "\n",
       "    .dataframe thead tr th {\n",
       "        text-align: left;\n",
       "    }\n",
       "\n",
       "    .dataframe thead tr:last-of-type th {\n",
       "        text-align: right;\n",
       "    }\n",
       "</style>\n",
       "<table border=\"1\" class=\"dataframe\">\n",
       "  <thead>\n",
       "    <tr>\n",
       "      <th></th>\n",
       "      <th colspan=\"2\" halign=\"left\">Rating</th>\n",
       "    </tr>\n",
       "    <tr>\n",
       "      <th></th>\n",
       "      <th>count</th>\n",
       "      <th>mean</th>\n",
       "    </tr>\n",
       "    <tr>\n",
       "      <th>Genre</th>\n",
       "      <th></th>\n",
       "      <th></th>\n",
       "    </tr>\n",
       "  </thead>\n",
       "  <tbody>\n",
       "    <tr>\n",
       "      <th>댄스</th>\n",
       "      <td>240</td>\n",
       "      <td>7.697917</td>\n",
       "    </tr>\n",
       "  </tbody>\n",
       "</table>\n",
       "</div>"
      ],
      "text/plain": [
       "      Rating          \n",
       "       count      mean\n",
       "Genre                 \n",
       "댄스       240  7.697917"
      ]
     },
     "execution_count": 68,
     "metadata": {},
     "output_type": "execute_result"
    }
   ],
   "source": [
    "z[z[('Rating','count')] >= 200]"
   ]
  },
  {
   "cell_type": "code",
   "execution_count": 69,
   "metadata": {},
   "outputs": [
    {
     "data": {
      "text/plain": [
       "<AxesSubplot:xlabel='(Rating, count)', ylabel='(Rating, mean)'>"
      ]
     },
     "execution_count": 69,
     "metadata": {},
     "output_type": "execute_result"
    },
    {
     "data": {
      "image/png": "[encoded data removed]",
      "text/plain": [
       "<Figure size 432x288 with 1 Axes>"
      ]
     },
     "metadata": {
      "needs_background": "light"
     },
     "output_type": "display_data"
    }
   ],
   "source": [
    "z.plot.scatter(('Rating','count'), ('Rating','mean'))"
   ]
  },
  {
   "cell_type": "code",
   "execution_count": null,
   "metadata": {},
   "outputs": [],
   "source": []
  },
  {
   "cell_type": "code",
   "execution_count": null,
   "metadata": {},
   "outputs": [],
   "source": []
  },
  {
   "cell_type": "code",
   "execution_count": 70,
   "metadata": {},
   "outputs": [],
   "source": [
    "import sys"
   ]
  },
  {
   "cell_type": "code",
   "execution_count": 71,
   "metadata": {},
   "outputs": [],
   "source": [
    "if sys.platform == 'win32' :\n",
    "    from matplotlib import font_manager, rc\n",
    "    import matplotlib.pyplot as plt\n",
    "    font_name = font_manager.FontProperties(fname=\"c:/Windows/Fonts/malgun.ttf\").get_name()\n",
    "    rc('font', family=font_name)\n",
    "    plt.rcParams['axes.unicode_minus'] = False"
   ]
  },
  {
   "cell_type": "code",
   "execution_count": 72,
   "metadata": {},
   "outputs": [
    {
     "data": {
      "image/png": "[encoded data removed]",
      "text/plain": [
       "<Figure size 432x288 with 1 Axes>"
      ]
     },
     "metadata": {
      "needs_background": "light"
     },
     "output_type": "display_data"
    }
   ],
   "source": [
    "plt.hist(y[('Rating','mean')])\n",
    "plt.title(\" 대중음악\")\n",
    "plt.show()"
   ]
  },
  {
   "cell_type": "code",
   "execution_count": 73,
   "metadata": {},
   "outputs": [
    {
     "data": {
      "text/plain": [
       "<AxesSubplot:>"
      ]
     },
     "execution_count": 73,
     "metadata": {},
     "output_type": "execute_result"
    },
    {
     "data": {
      "image/png": "[encoded data removed]",
      "text/plain": [
       "<Figure size 432x288 with 1 Axes>"
      ]
     },
     "metadata": {
      "needs_background": "light"
     },
     "output_type": "display_data"
    }
   ],
   "source": [
    "y.boxplot(column=[('Rating','count'), ('Rating','mean')])"
   ]
  },
  {
   "cell_type": "code",
   "execution_count": 74,
   "metadata": {},
   "outputs": [
    {
     "data": {
      "text/plain": [
       "<AxesSubplot:>"
      ]
     },
     "execution_count": 74,
     "metadata": {},
     "output_type": "execute_result"
    },
    {
     "data": {
      "image/png": "[encoded data removed]",
      "text/plain": [
       "<Figure size 432x288 with 1 Axes>"
      ]
     },
     "metadata": {
      "needs_background": "light"
     },
     "output_type": "display_data"
    }
   ],
   "source": [
    "y.boxplot(column=[('Rating','mean')])"
   ]
  },
  {
   "cell_type": "code",
   "execution_count": null,
   "metadata": {},
   "outputs": [],
   "source": []
  },
  {
   "cell_type": "code",
   "execution_count": null,
   "metadata": {},
   "outputs": [],
   "source": []
  }
 ],
 "metadata": {
  "kernelspec": {
   "display_name": "Python 3 (ipykernel)",
   "language": "python",
   "name": "python3"
  },
  "language_info": {
   "codemirror_mode": {
    "name": "ipython",
    "version": 3
   },
   "file_extension": ".py",
   "mimetype": "text/x-python",
   "name": "python",
   "nbconvert_exporter": "python",
   "pygments_lexer": "ipython3",
   "version": "3.9.12"
  }
 },
 "nbformat": 4,
 "nbformat_minor": 4
}
