{
 "cells": [
  {
   "cell_type": "markdown",
   "metadata": {},
   "source": [
    "# 입문자를 위한, 파이썬/R 데이터 분석   "
   ]
  },
  {
   "cell_type": "markdown",
   "metadata": {},
   "source": [
    "## 활용실습(1): 공공데이터 분석 및 지도 시각화 연습\n",
    "\n",
    " - 우리나라 인구 지역별 분석 : [KOSIS 국가통계포탈](http://kosis.kr/index/index.do) \n",
    " \n",
    " \n",
    " - [시군구/성/연령(5세)별 주민등록연앙인구](https://kosis.kr/statHtml/statHtml.do?orgId=101&tblId=DT_1B040M5&vw_cd=MT_ZTITLE&list_id=A_7&seqNo=&lang_mode=ko&language=kor&obj_var_id=&itm_id=&conn_path=MT_ZTITLE) 자료 활용\n",
    " \n",
    "  \n",
    " - 시나리오:\n",
    " \n",
    "     1) 목적/목표 :\n",
    " \n",
    "     2) 데이터 확보 :\n",
    " \n",
    "     3) 데이터 정비(Data Cleaning) :\n",
    " \n",
    "     4) 인구 지역별 데이터 정리 :\n",
    " \n",
    "     5) 시각화 작업 :\n",
    " \n",
    "     6) 분석결과 의견 :"
   ]
  },
  {
   "cell_type": "markdown",
   "metadata": {},
   "source": [
    "### 1) 목적/목표 : \n",
    "- 시군구/성/연령(5세)별 주민등록연앙인구 데이터 분석"
   ]
  },
  {
   "cell_type": "code",
   "execution_count": 1,
   "metadata": {},
   "outputs": [],
   "source": [
    "import pandas as pd\n",
    "import numpy as np"
   ]
  },
  {
   "cell_type": "markdown",
   "metadata": {},
   "source": [
    "### 2) 데이터 확보 :"
   ]
  },
  {
   "cell_type": "code",
   "execution_count": 2,
   "metadata": {},
   "outputs": [],
   "source": [
    "# Data 로딩 (xlsx 파일)\n",
    "# 오류발생시 : !pip install --upgrade openpyxl\n",
    "population = pd.read_excel('data/population_raw_data.xlsx', header=1)"
   ]
  },
  {
   "cell_type": "code",
   "execution_count": 3,
   "metadata": {},
   "outputs": [
    {
     "data": {
      "text/html": [
       "<div>\n",
       "<style scoped>\n",
       "    .dataframe tbody tr th:only-of-type {\n",
       "        vertical-align: middle;\n",
       "    }\n",
       "\n",
       "    .dataframe tbody tr th {\n",
       "        vertical-align: top;\n",
       "    }\n",
       "\n",
       "    .dataframe thead th {\n",
       "        text-align: right;\n",
       "    }\n",
       "</style>\n",
       "<table border=\"1\" class=\"dataframe\">\n",
       "  <thead>\n",
       "    <tr style=\"text-align: right;\">\n",
       "      <th></th>\n",
       "      <th>행정구역(동읍면)별(1)</th>\n",
       "      <th>행정구역(동읍면)별(2)</th>\n",
       "      <th>항목</th>\n",
       "      <th>계</th>\n",
       "      <th>20 - 24세</th>\n",
       "      <th>25 - 29세</th>\n",
       "      <th>30 - 34세</th>\n",
       "      <th>35 - 39세</th>\n",
       "      <th>65 - 69세</th>\n",
       "      <th>70 - 74세</th>\n",
       "      <th>75 - 79세</th>\n",
       "      <th>80 - 84세</th>\n",
       "      <th>85 - 89세</th>\n",
       "      <th>90 - 94세</th>\n",
       "      <th>95 - 99세</th>\n",
       "      <th>100+</th>\n",
       "    </tr>\n",
       "  </thead>\n",
       "  <tbody>\n",
       "    <tr>\n",
       "      <th>0</th>\n",
       "      <td>전국</td>\n",
       "      <td>소계</td>\n",
       "      <td>총인구수 (명)</td>\n",
       "      <td>51696216.0</td>\n",
       "      <td>3541061.0</td>\n",
       "      <td>3217367.0</td>\n",
       "      <td>3517868</td>\n",
       "      <td>4016272.0</td>\n",
       "      <td>2237345.0</td>\n",
       "      <td>1781229.0</td>\n",
       "      <td>1457890</td>\n",
       "      <td>909130.0</td>\n",
       "      <td>416164.0</td>\n",
       "      <td>141488.0</td>\n",
       "      <td>34844</td>\n",
       "      <td>17562.0</td>\n",
       "    </tr>\n",
       "    <tr>\n",
       "      <th>1</th>\n",
       "      <td>NaN</td>\n",
       "      <td>NaN</td>\n",
       "      <td>남자인구수 (명)</td>\n",
       "      <td>25827594.0</td>\n",
       "      <td>1877127.0</td>\n",
       "      <td>1682988.0</td>\n",
       "      <td>1806754</td>\n",
       "      <td>2045265.0</td>\n",
       "      <td>1072395.0</td>\n",
       "      <td>806680.0</td>\n",
       "      <td>600607</td>\n",
       "      <td>319391.0</td>\n",
       "      <td>113221.0</td>\n",
       "      <td>32695.0</td>\n",
       "      <td>7658</td>\n",
       "      <td>4137.0</td>\n",
       "    </tr>\n",
       "    <tr>\n",
       "      <th>2</th>\n",
       "      <td>NaN</td>\n",
       "      <td>NaN</td>\n",
       "      <td>여자인구수 (명)</td>\n",
       "      <td>25868622.0</td>\n",
       "      <td>1663934.0</td>\n",
       "      <td>1534379.0</td>\n",
       "      <td>1711114</td>\n",
       "      <td>1971007.0</td>\n",
       "      <td>1164950.0</td>\n",
       "      <td>974549.0</td>\n",
       "      <td>857283</td>\n",
       "      <td>589739.0</td>\n",
       "      <td>302943.0</td>\n",
       "      <td>108793.0</td>\n",
       "      <td>27186</td>\n",
       "      <td>13425.0</td>\n",
       "    </tr>\n",
       "    <tr>\n",
       "      <th>3</th>\n",
       "      <td>서울특별시</td>\n",
       "      <td>소계</td>\n",
       "      <td>총인구수 (명)</td>\n",
       "      <td>9930616.0</td>\n",
       "      <td>690728.0</td>\n",
       "      <td>751973.0</td>\n",
       "      <td>803507</td>\n",
       "      <td>817467.0</td>\n",
       "      <td>448956.0</td>\n",
       "      <td>350580.0</td>\n",
       "      <td>251961</td>\n",
       "      <td>141649.0</td>\n",
       "      <td>66067.0</td>\n",
       "      <td>24153.0</td>\n",
       "      <td>7058</td>\n",
       "      <td>5475.0</td>\n",
       "    </tr>\n",
       "    <tr>\n",
       "      <th>4</th>\n",
       "      <td>NaN</td>\n",
       "      <td>NaN</td>\n",
       "      <td>남자인구수 (명)</td>\n",
       "      <td>4876789.0</td>\n",
       "      <td>347534.0</td>\n",
       "      <td>372249.0</td>\n",
       "      <td>402358</td>\n",
       "      <td>410076.0</td>\n",
       "      <td>211568.0</td>\n",
       "      <td>163766.0</td>\n",
       "      <td>112076</td>\n",
       "      <td>54033.0</td>\n",
       "      <td>19595.0</td>\n",
       "      <td>6146.0</td>\n",
       "      <td>1900</td>\n",
       "      <td>1406.0</td>\n",
       "    </tr>\n",
       "    <tr>\n",
       "      <th>...</th>\n",
       "      <td>...</td>\n",
       "      <td>...</td>\n",
       "      <td>...</td>\n",
       "      <td>...</td>\n",
       "      <td>...</td>\n",
       "      <td>...</td>\n",
       "      <td>...</td>\n",
       "      <td>...</td>\n",
       "      <td>...</td>\n",
       "      <td>...</td>\n",
       "      <td>...</td>\n",
       "      <td>...</td>\n",
       "      <td>...</td>\n",
       "      <td>...</td>\n",
       "      <td>...</td>\n",
       "      <td>...</td>\n",
       "    </tr>\n",
       "    <tr>\n",
       "      <th>841</th>\n",
       "      <td>NaN</td>\n",
       "      <td>NaN</td>\n",
       "      <td>남자인구수 (명)</td>\n",
       "      <td>235977.0</td>\n",
       "      <td>17377.0</td>\n",
       "      <td>13118.0</td>\n",
       "      <td>15084</td>\n",
       "      <td>18350.0</td>\n",
       "      <td>8474.0</td>\n",
       "      <td>6782.0</td>\n",
       "      <td>4941</td>\n",
       "      <td>2737.0</td>\n",
       "      <td>854.0</td>\n",
       "      <td>226.0</td>\n",
       "      <td>53</td>\n",
       "      <td>17.0</td>\n",
       "    </tr>\n",
       "    <tr>\n",
       "      <th>842</th>\n",
       "      <td>NaN</td>\n",
       "      <td>NaN</td>\n",
       "      <td>여자인구수 (명)</td>\n",
       "      <td>234688.0</td>\n",
       "      <td>15261.0</td>\n",
       "      <td>12245.0</td>\n",
       "      <td>14687</td>\n",
       "      <td>18062.0</td>\n",
       "      <td>9265.0</td>\n",
       "      <td>7877.0</td>\n",
       "      <td>7178</td>\n",
       "      <td>5649.0</td>\n",
       "      <td>3122.0</td>\n",
       "      <td>1387.0</td>\n",
       "      <td>460</td>\n",
       "      <td>137.0</td>\n",
       "    </tr>\n",
       "    <tr>\n",
       "      <th>843</th>\n",
       "      <td>NaN</td>\n",
       "      <td>서귀포시</td>\n",
       "      <td>총인구수 (명)</td>\n",
       "      <td>170932.0</td>\n",
       "      <td>10505.0</td>\n",
       "      <td>8067.0</td>\n",
       "      <td>9120</td>\n",
       "      <td>11606.0</td>\n",
       "      <td>8686.0</td>\n",
       "      <td>7460.0</td>\n",
       "      <td>6456</td>\n",
       "      <td>4521.0</td>\n",
       "      <td>1855.0</td>\n",
       "      <td>733.0</td>\n",
       "      <td>242</td>\n",
       "      <td>77.0</td>\n",
       "    </tr>\n",
       "    <tr>\n",
       "      <th>844</th>\n",
       "      <td>NaN</td>\n",
       "      <td>NaN</td>\n",
       "      <td>남자인구수 (명)</td>\n",
       "      <td>86568.0</td>\n",
       "      <td>5600.0</td>\n",
       "      <td>4247.0</td>\n",
       "      <td>4693</td>\n",
       "      <td>6082.0</td>\n",
       "      <td>4237.0</td>\n",
       "      <td>3441.0</td>\n",
       "      <td>2611</td>\n",
       "      <td>1494.0</td>\n",
       "      <td>370.0</td>\n",
       "      <td>103.0</td>\n",
       "      <td>29</td>\n",
       "      <td>9.0</td>\n",
       "    </tr>\n",
       "    <tr>\n",
       "      <th>845</th>\n",
       "      <td>NaN</td>\n",
       "      <td>NaN</td>\n",
       "      <td>여자인구수 (명)</td>\n",
       "      <td>84364.0</td>\n",
       "      <td>4905.0</td>\n",
       "      <td>3820.0</td>\n",
       "      <td>4427</td>\n",
       "      <td>5524.0</td>\n",
       "      <td>4449.0</td>\n",
       "      <td>4019.0</td>\n",
       "      <td>3845</td>\n",
       "      <td>3027.0</td>\n",
       "      <td>1485.0</td>\n",
       "      <td>630.0</td>\n",
       "      <td>213</td>\n",
       "      <td>68.0</td>\n",
       "    </tr>\n",
       "  </tbody>\n",
       "</table>\n",
       "<p>846 rows × 16 columns</p>\n",
       "</div>"
      ],
      "text/plain": [
       "    행정구역(동읍면)별(1) 행정구역(동읍면)별(2)         항목           계   20 - 24세   25 - 29세  \\\n",
       "0              전국            소계   총인구수 (명)  51696216.0  3541061.0  3217367.0   \n",
       "1             NaN           NaN  남자인구수 (명)  25827594.0  1877127.0  1682988.0   \n",
       "2             NaN           NaN  여자인구수 (명)  25868622.0  1663934.0  1534379.0   \n",
       "3           서울특별시            소계   총인구수 (명)   9930616.0   690728.0   751973.0   \n",
       "4             NaN           NaN  남자인구수 (명)   4876789.0   347534.0   372249.0   \n",
       "..            ...           ...        ...         ...        ...        ...   \n",
       "841           NaN           NaN  남자인구수 (명)    235977.0    17377.0    13118.0   \n",
       "842           NaN           NaN  여자인구수 (명)    234688.0    15261.0    12245.0   \n",
       "843           NaN          서귀포시   총인구수 (명)    170932.0    10505.0     8067.0   \n",
       "844           NaN           NaN  남자인구수 (명)     86568.0     5600.0     4247.0   \n",
       "845           NaN           NaN  여자인구수 (명)     84364.0     4905.0     3820.0   \n",
       "\n",
       "     30 - 34세   35 - 39세   65 - 69세   70 - 74세  75 - 79세  80 - 84세  85 - 89세  \\\n",
       "0     3517868  4016272.0  2237345.0  1781229.0   1457890  909130.0  416164.0   \n",
       "1     1806754  2045265.0  1072395.0   806680.0    600607  319391.0  113221.0   \n",
       "2     1711114  1971007.0  1164950.0   974549.0    857283  589739.0  302943.0   \n",
       "3      803507   817467.0   448956.0   350580.0    251961  141649.0   66067.0   \n",
       "4      402358   410076.0   211568.0   163766.0    112076   54033.0   19595.0   \n",
       "..        ...        ...        ...        ...       ...       ...       ...   \n",
       "841     15084    18350.0     8474.0     6782.0      4941    2737.0     854.0   \n",
       "842     14687    18062.0     9265.0     7877.0      7178    5649.0    3122.0   \n",
       "843      9120    11606.0     8686.0     7460.0      6456    4521.0    1855.0   \n",
       "844      4693     6082.0     4237.0     3441.0      2611    1494.0     370.0   \n",
       "845      4427     5524.0     4449.0     4019.0      3845    3027.0    1485.0   \n",
       "\n",
       "     90 - 94세  95 - 99세     100+  \n",
       "0    141488.0     34844  17562.0  \n",
       "1     32695.0      7658   4137.0  \n",
       "2    108793.0     27186  13425.0  \n",
       "3     24153.0      7058   5475.0  \n",
       "4      6146.0      1900   1406.0  \n",
       "..        ...       ...      ...  \n",
       "841     226.0        53     17.0  \n",
       "842    1387.0       460    137.0  \n",
       "843     733.0       242     77.0  \n",
       "844     103.0        29      9.0  \n",
       "845     630.0       213     68.0  \n",
       "\n",
       "[846 rows x 16 columns]"
      ]
     },
     "execution_count": 3,
     "metadata": {},
     "output_type": "execute_result"
    }
   ],
   "source": [
    "population"
   ]
  },
  {
   "cell_type": "code",
   "execution_count": 4,
   "metadata": {},
   "outputs": [
    {
     "name": "stdout",
     "output_type": "stream",
     "text": [
      "<class 'pandas.core.frame.DataFrame'>\n",
      "RangeIndex: 846 entries, 0 to 845\n",
      "Data columns (total 16 columns):\n",
      " #   Column         Non-Null Count  Dtype  \n",
      "---  ------         --------------  -----  \n",
      " 0   행정구역(동읍면)별(1)  18 non-null     object \n",
      " 1   행정구역(동읍면)별(2)  282 non-null    object \n",
      " 2   항목             846 non-null    object \n",
      " 3   계              846 non-null    float64\n",
      " 4   20 - 24세       846 non-null    float64\n",
      " 5   25 - 29세       846 non-null    float64\n",
      " 6   30 - 34세       846 non-null    int64  \n",
      " 7   35 - 39세       846 non-null    float64\n",
      " 8   65 - 69세       846 non-null    float64\n",
      " 9   70 - 74세       846 non-null    float64\n",
      " 10  75 - 79세       846 non-null    int64  \n",
      " 11  80 - 84세       846 non-null    float64\n",
      " 12  85 - 89세       846 non-null    float64\n",
      " 13  90 - 94세       846 non-null    float64\n",
      " 14  95 - 99세       846 non-null    int64  \n",
      " 15  100+           846 non-null    float64\n",
      "dtypes: float64(10), int64(3), object(3)\n",
      "memory usage: 105.9+ KB\n"
     ]
    }
   ],
   "source": [
    "population.info()"
   ]
  },
  {
   "cell_type": "code",
   "execution_count": 5,
   "metadata": {},
   "outputs": [
    {
     "data": {
      "text/plain": [
       "행정구역(동읍면)별(1)    828\n",
       "행정구역(동읍면)별(2)    564\n",
       "항목                 0\n",
       "계                  0\n",
       "20 - 24세           0\n",
       "25 - 29세           0\n",
       "30 - 34세           0\n",
       "35 - 39세           0\n",
       "65 - 69세           0\n",
       "70 - 74세           0\n",
       "75 - 79세           0\n",
       "80 - 84세           0\n",
       "85 - 89세           0\n",
       "90 - 94세           0\n",
       "95 - 99세           0\n",
       "100+               0\n",
       "dtype: int64"
      ]
     },
     "execution_count": 5,
     "metadata": {},
     "output_type": "execute_result"
    }
   ],
   "source": [
    "population.isnull().sum(0)"
   ]
  },
  {
   "cell_type": "markdown",
   "metadata": {},
   "source": [
    "### 3) 데이터 정비(Data Cleaning) :"
   ]
  },
  {
   "cell_type": "code",
   "execution_count": null,
   "metadata": {},
   "outputs": [],
   "source": [
    "#population = population.fillna(method='pad')#, inplace=True)  "
   ]
  },
  {
   "cell_type": "code",
   "execution_count": null,
   "metadata": {},
   "outputs": [],
   "source": [
    "population.fillna(method='pad', inplace=True)        # ffill: 결측치NaN 앞의 값으로 채우기, inplace: 업데이트까지 수행 옵션  \n",
    "                                                     # 번대 : bfill or backfill\n",
    "population"
   ]
  },
  {
   "cell_type": "code",
   "execution_count": null,
   "metadata": {},
   "outputs": [],
   "source": [
    "population.columns"
   ]
  },
  {
   "cell_type": "code",
   "execution_count": null,
   "metadata": {},
   "outputs": [],
   "source": [
    "# 컬럼명 조정 : 1, 2, 3번째 컬럼 ('항목' 컬럼 -> '구분' 으로 변경)\n",
    "population.rename(columns = {'행정구역(동읍면)별(1)':'광역시도', '행정구역(동읍면)별(2)':'시도','계':'인구수','항목':'구분'}, inplace=True)"
   ]
  },
  {
   "cell_type": "code",
   "execution_count": null,
   "metadata": {},
   "outputs": [],
   "source": [
    "population.head()"
   ]
  },
  {
   "cell_type": "code",
   "execution_count": null,
   "metadata": {},
   "outputs": [],
   "source": [
    "# 데이터 정비 :\n",
    "population[population['시도'] != '소계']"
   ]
  },
  {
   "cell_type": "code",
   "execution_count": null,
   "metadata": {},
   "outputs": [],
   "source": [
    "# '총인구수(명) -> '합계'\n",
    "# '남자인구수(명) -> '남자'\n",
    "# '여자인구수(명) -> '여자'\n",
    "population.loc[population['구분'] == '총인구수 (명)', '구분'] = '합계'\n",
    "population.loc[population['구분'] == '남자인구수 (명)', '구분'] = '남자'\n",
    "population.loc[population['구분'] == '여자인구수 (명)', '구분'] = '여자'"
   ]
  },
  {
   "cell_type": "code",
   "execution_count": null,
   "metadata": {},
   "outputs": [],
   "source": [
    "population.head(10)"
   ]
  },
  {
   "cell_type": "code",
   "execution_count": null,
   "metadata": {},
   "outputs": [],
   "source": [
    "population[population['시도'] != '소계'].head(10)"
   ]
  },
  {
   "cell_type": "markdown",
   "metadata": {},
   "source": [
    "### 4) 인구 지역별 데이터 정리 :"
   ]
  },
  {
   "cell_type": "code",
   "execution_count": null,
   "metadata": {},
   "outputs": [],
   "source": [
    "# 연령별 인구수 Group 분류작업 : 20~39세 (20-30대) vs. 65세 이상 \n",
    "\n",
    "temp1 = '20 - 24세\t25 - 29세\t30 - 34세\t35 - 39세\t65 - 69세\t70 - 74세\t75 - 79세\t80 - 84세\t85 - 89세\t90 - 94세\t95 - 99세\t100+'\n",
    "temp1"
   ]
  },
  {
   "cell_type": "code",
   "execution_count": null,
   "metadata": {},
   "outputs": [],
   "source": [
    "temp2 = '20 - 24세\t25 - 29세\t30 - 34세\t35 - 39세\t65 - 69세\t70 - 74세\t75 - 79세\t80 - 84세\t85 - 89세\t90 - 94세\t95 - 99세\t100+'\n",
    "temp2.split('\\t')"
   ]
  },
  {
   "cell_type": "code",
   "execution_count": null,
   "metadata": {},
   "outputs": [],
   "source": [
    "temp2"
   ]
  },
  {
   "cell_type": "code",
   "execution_count": null,
   "metadata": {},
   "outputs": [],
   "source": [
    "population['20-39세'] = population['20 - 24세'] + population['25 - 29세'] + \\\n",
    "                        population['30 - 34세'] + population['35 - 39세']\n",
    "    \n",
    "population['65세이상'] = population['65 - 69세'] + population['70 - 74세'] + \\\n",
    "                        population['75 - 79세'] + population['80 - 84세'] + population['85 - 89세'] + \\\n",
    "                        population['90 - 94세'] + population['95 - 99세'] + population['100+']"
   ]
  },
  {
   "cell_type": "code",
   "execution_count": null,
   "metadata": {},
   "outputs": [],
   "source": [
    "population.head(10)\n",
    "population[population['시도'] != '소계'].head(10)"
   ]
  },
  {
   "cell_type": "code",
   "execution_count": null,
   "metadata": {
    "scrolled": true
   },
   "outputs": [],
   "source": [
    "pop = pd.pivot_table(population, index=['광역시도','시도'], columns='구분', values=['인구수','20-39세','65세이상'])\n",
    "pop"
   ]
  },
  {
   "cell_type": "markdown",
   "metadata": {},
   "source": [
    "### 참고 : [인구소멸 위험지수](https://ko.wikipedia.org/wiki/%EC%9D%B8%EA%B5%AC%EC%86%8C%EB%A9%B8_%EC%9C%84%ED%97%98%EC%A7%80%EC%88%98)\n"
   ]
  },
  {
   "cell_type": "code",
   "execution_count": null,
   "metadata": {},
   "outputs": [],
   "source": [
    "pop['20-39세','여자']"
   ]
  },
  {
   "cell_type": "code",
   "execution_count": null,
   "metadata": {},
   "outputs": [],
   "source": [
    "# 인구 소멸비율 컬럼 추가 :\n",
    "# 참고 : 인구소멸비율 계산식 = 65세이상 고령인구대비 20∼39세 여성인구가 차지하는 비율로 측정\n",
    "\n",
    "pop['소멸비율'] = pop['20-39세','여자'] / pop['65세이상','합계']"
   ]
  },
  {
   "cell_type": "code",
   "execution_count": null,
   "metadata": {},
   "outputs": [],
   "source": [
    "pop.head()"
   ]
  },
  {
   "cell_type": "code",
   "execution_count": null,
   "metadata": {},
   "outputs": [],
   "source": [
    "pop['소멸비율'] < 0.5"
   ]
  },
  {
   "cell_type": "code",
   "execution_count": null,
   "metadata": {},
   "outputs": [],
   "source": [
    "# 인구 소멸비율 : 0.5 이하로 가정\n",
    "pop['소멸위기지역'] = pop['소멸비율'] < 0.5     # True: 소멸위기지역,  False: 소멸위기지역 아님\n",
    "pop.head()"
   ]
  },
  {
   "cell_type": "code",
   "execution_count": null,
   "metadata": {},
   "outputs": [],
   "source": [
    "# 시각화 위한 추가 작업 : Index 그룹 없애기\n",
    "pop.reset_index()"
   ]
  },
  {
   "cell_type": "code",
   "execution_count": null,
   "metadata": {},
   "outputs": [],
   "source": [
    "pop.reset_index(inplace=True)\n",
    "\n",
    "pop.head()\n",
    "\n",
    "#pop = pop.drop('index', axis=1)"
   ]
  },
  {
   "cell_type": "code",
   "execution_count": null,
   "metadata": {},
   "outputs": [],
   "source": [
    "# 시각화 위한 추가 작업 : pivot 첫행 정리 :\n",
    "pop.columns"
   ]
  },
  {
   "cell_type": "code",
   "execution_count": null,
   "metadata": {},
   "outputs": [],
   "source": [
    "pop.columns.get_level_values(1)"
   ]
  },
  {
   "cell_type": "code",
   "execution_count": null,
   "metadata": {},
   "outputs": [],
   "source": [
    "pop.columns.get_level_values(0)[2]"
   ]
  },
  {
   "cell_type": "code",
   "execution_count": null,
   "metadata": {},
   "outputs": [],
   "source": [
    "pop.columns.get_level_values(1)[2]\n",
    "#'A' + 'B'"
   ]
  },
  {
   "cell_type": "code",
   "execution_count": null,
   "metadata": {},
   "outputs": [],
   "source": [
    "pop.columns.get_level_values(0)[2] + pop.columns.get_level_values(1)[2]"
   ]
  },
  {
   "cell_type": "code",
   "execution_count": null,
   "metadata": {},
   "outputs": [],
   "source": [
    "top_col = []\n",
    "\n",
    "for n in range(0, len(pop.columns.get_level_values(0))):\n",
    "# len(pop.columns.get_level_values(0))    \n",
    "    print(n, pop.columns.get_level_values(0)[n] + pop.columns.get_level_values(1)[n] )\n",
    "    top_col.append(pop.columns.get_level_values(0)[n] + pop.columns.get_level_values(1)[n])"
   ]
  },
  {
   "cell_type": "code",
   "execution_count": null,
   "metadata": {},
   "outputs": [],
   "source": [
    "top_col"
   ]
  },
  {
   "cell_type": "code",
   "execution_count": null,
   "metadata": {},
   "outputs": [],
   "source": [
    "pop.columns"
   ]
  },
  {
   "cell_type": "code",
   "execution_count": null,
   "metadata": {},
   "outputs": [],
   "source": [
    "pop.columns = top_col"
   ]
  },
  {
   "cell_type": "code",
   "execution_count": null,
   "metadata": {},
   "outputs": [],
   "source": [
    "pop.info()"
   ]
  },
  {
   "cell_type": "code",
   "execution_count": null,
   "metadata": {},
   "outputs": [],
   "source": [
    "pop.head()"
   ]
  },
  {
   "cell_type": "markdown",
   "metadata": {},
   "source": [
    "### 5) 시각화 작업 : "
   ]
  },
  {
   "cell_type": "code",
   "execution_count": null,
   "metadata": {},
   "outputs": [],
   "source": [
    "# 시각화 Folium 으로 지도에 표시위한 추가작업\n",
    "pop.head(3)"
   ]
  },
  {
   "cell_type": "code",
   "execution_count": null,
   "metadata": {},
   "outputs": [],
   "source": [
    "pop['시도'].unique()"
   ]
  },
  {
   "cell_type": "code",
   "execution_count": null,
   "metadata": {
    "scrolled": true
   },
   "outputs": [],
   "source": [
    "pop['시도'].str[0:2]"
   ]
  },
  {
   "cell_type": "code",
   "execution_count": null,
   "metadata": {},
   "outputs": [],
   "source": [
    "pop['id'] = pop['시도'].str[0:2]"
   ]
  },
  {
   "cell_type": "code",
   "execution_count": null,
   "metadata": {},
   "outputs": [],
   "source": [
    "pop.head(3)"
   ]
  },
  {
   "cell_type": "code",
   "execution_count": null,
   "metadata": {},
   "outputs": [],
   "source": [
    "pop_map = pop.set_index('id')"
   ]
  },
  {
   "cell_type": "code",
   "execution_count": null,
   "metadata": {},
   "outputs": [],
   "source": [
    "pop_map.head(3)"
   ]
  },
  {
   "cell_type": "markdown",
   "metadata": {},
   "source": [
    "##### 지역별 인구수합계 시각화"
   ]
  },
  {
   "cell_type": "code",
   "execution_count": null,
   "metadata": {},
   "outputs": [],
   "source": [
    "#가급적 아나콘다 프롬프트에서\n",
    "#!pip install folium"
   ]
  },
  {
   "cell_type": "code",
   "execution_count": null,
   "metadata": {},
   "outputs": [],
   "source": [
    "# 시각화 지도작업 :\n",
    "import folium \n",
    "import json"
   ]
  },
  {
   "cell_type": "code",
   "execution_count": null,
   "metadata": {},
   "outputs": [],
   "source": [
    "geo_path = 'data/05. skorea_municipalities_geo_simple.json'\n",
    "geo_data = json.load(open('data/05. skorea_municipalities_geo_simple.json', encoding='utf-8'))\n",
    "\n",
    "map = folium.Map(location=[36,127], zoom_start=7)"
   ]
  },
  {
   "cell_type": "code",
   "execution_count": null,
   "metadata": {},
   "outputs": [],
   "source": [
    "folium.Choropleth(geo_data=geo_data, \n",
    "               data=pop_map['인구수합계'],\n",
    "               columns=[pop_map.index, pop_map['인구수합계']],\n",
    "               key_on='feature.id',\n",
    "               fill_color='YlGnBu').add_to(map)"
   ]
  },
  {
   "cell_type": "code",
   "execution_count": null,
   "metadata": {},
   "outputs": [],
   "source": [
    "geo_data"
   ]
  },
  {
   "cell_type": "code",
   "execution_count": null,
   "metadata": {},
   "outputs": [],
   "source": [
    "map"
   ]
  },
  {
   "cell_type": "code",
   "execution_count": null,
   "metadata": {},
   "outputs": [],
   "source": [
    "map = folium.Map(location=[36.2002, 127.054], zoom_start=7)\n",
    "folium.Choropleth(geo_data=geo_data, \n",
    "               data=pop_map['소멸위기지역'],\n",
    "               columns=[pop_map.index, pop_map['소멸위기지역']],\n",
    "               key_on='feature.id',\n",
    "               fill_color='PuRd').add_to(map)\n",
    "map"
   ]
  },
  {
   "cell_type": "markdown",
   "metadata": {},
   "source": [
    "### 6) 분석결과 의견 :"
   ]
  },
  {
   "cell_type": "markdown",
   "metadata": {},
   "source": [
    "- 수강생 토론"
   ]
  },
  {
   "cell_type": "code",
   "execution_count": null,
   "metadata": {},
   "outputs": [],
   "source": [
    "pd.set_option('display.max_rows', None)  # or 1000"
   ]
  },
  {
   "cell_type": "code",
   "execution_count": null,
   "metadata": {},
   "outputs": [],
   "source": [
    "pop_tmp = pop[pop['소멸위기지역']==True]\n",
    "pop_tmp"
   ]
  },
  {
   "cell_type": "code",
   "execution_count": null,
   "metadata": {},
   "outputs": [],
   "source": [
    "pop_tmp[pop_tmp['시도']=='고성군']"
   ]
  },
  {
   "cell_type": "code",
   "execution_count": null,
   "metadata": {},
   "outputs": [],
   "source": [
    "len(pop[pop['소멸위기지역']==True])"
   ]
  },
  {
   "cell_type": "code",
   "execution_count": null,
   "metadata": {},
   "outputs": [],
   "source": [
    "len(pop[pop['소멸위기지역']==True])/len(pop)"
   ]
  },
  {
   "cell_type": "code",
   "execution_count": null,
   "metadata": {},
   "outputs": [],
   "source": []
  },
  {
   "cell_type": "markdown",
   "metadata": {},
   "source": [
    "### [실습과제 : 팀별]\n",
    "\n",
    "##### 1. 최신 데이터로 업데이트 및 지도 id 텍스트 전처리의 정교화  \n",
    "   \n",
    "   - 고성군은 강원도/경상남도 2곳에 존재 \n",
    "   \n",
    "   (참고) https://gist.github.com/HyeongWookKim/9ae79f06de0c2e8dd4f66d58db3f8087\n",
    "   \n",
    "##### 2. 금융기관 영업점 위치 데이터와 결합한 추가 분석   (추후)\n",
    "   \n",
    "   - finance_brach 2021.xlsx 엑셀 파일의 주소 데이터를 광역시/시도로 구분하여 집계     \n",
    "   \n",
    "   - 인구 데이터와 Merge 하여 분석 및 시각화\n",
    "   \n",
    "##### 3. 스타벅스 영업점 위치 데이터와 결합한 추가 분석  (추후)\n",
    "   \n",
    "   - 스타벅스 영업점 주소 데이터를 광역시/시도로 구분하여 집계     \n",
    "   \n",
    "   - 인구 데이터와 Merge 하여 분석 및 시각화\n",
    "    \n",
    "      (참고) https://mizykk.tistory.com/82"
   ]
  },
  {
   "cell_type": "code",
   "execution_count": null,
   "metadata": {},
   "outputs": [],
   "source": []
  }
 ],
 "metadata": {
  "kernelspec": {
   "display_name": "Python 3 (ipykernel)",
   "language": "python",
   "name": "python3"
  },
  "language_info": {
   "codemirror_mode": {
    "name": "ipython",
    "version": 3
   },
   "file_extension": ".py",
   "mimetype": "text/x-python",
   "name": "python",
   "nbconvert_exporter": "python",
   "pygments_lexer": "ipython3",
   "version": "3.9.12"
  },
  "toc": {
   "base_numbering": 1,
   "nav_menu": {},
   "number_sections": true,
   "sideBar": true,
   "skip_h1_title": false,
   "title_cell": "Table of Contents",
   "title_sidebar": "Contents",
   "toc_cell": false,
   "toc_position": {
    "height": "calc(100% - 180px)",
    "left": "10px",
    "top": "150px",
    "width": "165px"
   },
   "toc_section_display": true,
   "toc_window_display": true
  }
 },
 "nbformat": 4,
 "nbformat_minor": 4
}
